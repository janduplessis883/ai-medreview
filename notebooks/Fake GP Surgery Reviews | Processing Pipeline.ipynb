{
 "cells": [
  {
   "cell_type": "markdown",
   "id": "9ed9c5fc-5932-4b44-b6db-11e42cd7d0ea",
   "metadata": {},
   "source": [
    "<div class='status' style='background-color: #183a4b; color: white; padding-top: 4px; padding-bottom: 4px; padding-left: 20px; padding-right: 20px; border-radius: 10px; font-family: Arial, sans-serif; font-size: 26px; display: inline-block; text-align: center; box-shadow: 0px 3px 4px rgba(0, 0, 0, 0.5);'><b>AI MedReview</B> - Fake GP Surgery Reviews | Processing Pipeline</div>"
   ]
  },
  {
   "cell_type": "markdown",
   "id": "2a648829-126a-4b6b-9cfb-a28062f4f32b",
   "metadata": {},
   "source": [
    "## Loading Libraries"
   ]
  },
  {
   "cell_type": "code",
   "execution_count": 8,
   "id": "1629e973-7959-471d-a115-759bc7483f6d",
   "metadata": {},
   "outputs": [
    {
     "name": "stdout",
     "output_type": "stream",
     "text": [
      "The autoreload extension is already loaded. To reload it, use:\n",
      "  %reload_ext autoreload\n"
     ]
    }
   ],
   "source": [
    "# Importing default Libraries\n",
    "import matplotlib.pyplot as plt\n",
    "import pandas as pd\n",
    "import numpy as np\n",
    "import seaborn as sns\n",
    "import warnings\n",
    "import datetime\n",
    "import os\n",
    "from tqdm import tqdm\n",
    "\n",
    "pd.options.display.max_rows = 1000\n",
    "pd.options.display.max_columns = 1000\n",
    "\n",
    "# Hi-resolution Plots and Matplotlib inline\n",
    "%config InlineBackend.figure_format = 'retina'\n",
    "%matplotlib inline\n",
    "\n",
    "# Set the maximum number of rows and columns to be displayed\n",
    "warnings.filterwarnings(\"ignore\")\n",
    "\n",
    "# \"magic commands\" to enable autoreload of your imported packages\n",
    "%load_ext autoreload\n",
    "%autoreload 2"
   ]
  },
  {
   "cell_type": "markdown",
   "id": "72f4d1b1-77e5-48e4-988a-0573e887558a",
   "metadata": {},
   "source": [
    "**Loading Libraries** from AI MedReview Pipeline"
   ]
  },
  {
   "cell_type": "code",
   "execution_count": 9,
   "id": "6e28511f-2b06-4dc6-8a84-2ec15c3c33e2",
   "metadata": {},
   "outputs": [],
   "source": [
    "from ai_medreview.fake_data_pipeline import *"
   ]
  },
  {
   "cell_type": "markdown",
   "id": "89c7b438-609a-4d9d-b029-cf4b42f778a0",
   "metadata": {},
   "source": [
    "<div class='status' style='background-color: #f5c244; color: white; padding-top: 2px; padding-bottom: 2px; padding-left: 7px; padding-right: 7px; border-radius: 6px; font-family: Arial, sans-serif; font-size: 18px; display: inline-block; text-align: center; box-shadow: 0px 3px 4px rgba(0, 0, 0, 0.2);'><b>Loading</b> dataset</div>"
   ]
  },
  {
   "cell_type": "markdown",
   "id": "90e0432c-8769-4c74-9ad7-8fec8b61f2c6",
   "metadata": {},
   "source": [
    "Loading 1/3 datasets chunks for processing"
   ]
  },
  {
   "cell_type": "code",
   "execution_count": 10,
   "id": "e138a7c5-f2b1-4742-830a-97e123772a2a",
   "metadata": {},
   "outputs": [
    {
     "data": {
      "text/html": [
       "<div>\n",
       "<style scoped>\n",
       "    .dataframe tbody tr th:only-of-type {\n",
       "        vertical-align: middle;\n",
       "    }\n",
       "\n",
       "    .dataframe tbody tr th {\n",
       "        vertical-align: top;\n",
       "    }\n",
       "\n",
       "    .dataframe thead th {\n",
       "        text-align: right;\n",
       "    }\n",
       "</style>\n",
       "<table border=\"1\" class=\"dataframe\">\n",
       "  <thead>\n",
       "    <tr style=\"text-align: right;\">\n",
       "      <th></th>\n",
       "      <th>free_text</th>\n",
       "      <th>generation_category</th>\n",
       "    </tr>\n",
       "  </thead>\n",
       "  <tbody>\n",
       "    <tr>\n",
       "      <th>0</th>\n",
       "      <td>The staff were very helpful and kind.\\n\\nI rec...</td>\n",
       "      <td>Patient Respect</td>\n",
       "    </tr>\n",
       "    <tr>\n",
       "      <th>1</th>\n",
       "      <td>The staff were friendly but forgot my appointm...</td>\n",
       "      <td>Patient Respect</td>\n",
       "    </tr>\n",
       "  </tbody>\n",
       "</table>\n",
       "</div>"
      ],
      "text/plain": [
       "                                           free_text generation_category\n",
       "0  The staff were very helpful and kind.\\n\\nI rec...     Patient Respect\n",
       "1  The staff were friendly but forgot my appointm...     Patient Respect"
      ]
     },
     "execution_count": 10,
     "metadata": {},
     "output_type": "execute_result"
    }
   ],
   "source": [
    "fake_data = pd.read_csv(\"../ai_medreview/data/fake_gp_reviews_llm_01.csv\")\n",
    "fake_data.columns = [\"free_text\", \"generation_category\"]\n",
    "fake_data.head(2)"
   ]
  },
  {
   "cell_type": "code",
   "execution_count": 11,
   "id": "dfb1d28e-e5b5-40a8-a6eb-ba6b973cd890",
   "metadata": {},
   "outputs": [
    {
     "name": "stderr",
     "output_type": "stream",
     "text": [
      "2025-01-30 19:04:28.781 | INFO     | ai_medreview.utils:wrapper:15 - 🖥️    Started: 'word_count'\n",
      "2025-01-30 19:04:28.808 | INFO     | ai_medreview.utils:wrapper:21 - ✅ Completed: 'word_count' ⚡️0.024931 sec\n"
     ]
    }
   ],
   "source": [
    "fake_data = word_count(fake_data)"
   ]
  },
  {
   "cell_type": "code",
   "execution_count": 12,
   "id": "1989b178-ae4b-44b4-8f85-c369c413e72c",
   "metadata": {},
   "outputs": [
    {
     "name": "stderr",
     "output_type": "stream",
     "text": [
      "2025-01-30 19:04:29.271 | INFO     | ai_medreview.fake_data_pipeline:sentiment_analysis:77 - 💛 Sentiment Analysis - Functions started.\n",
      "█████████████████████████████████████| 1935/1935 [01:41<00:00, 19.01it/s]\n"
     ]
    }
   ],
   "source": [
    "fake_data = sentiment_analysis(fake_data, \"free_text\")"
   ]
  },
  {
   "cell_type": "code",
   "execution_count": 13,
   "id": "aa18d210-d308-4212-929b-8745a0496850",
   "metadata": {},
   "outputs": [
    {
     "name": "stderr",
     "output_type": "stream",
     "text": [
      "2025-01-30 19:06:11.110 | INFO     | ai_medreview.fake_data_pipeline:cleanup_neutral_sentiment:162 - 🧻 Cleanup_neutral_sentiment - if free_text and do_better isna()\n"
     ]
    }
   ],
   "source": [
    "fake_data = cleanup_neutral_sentiment(fake_data, \"free_text\")"
   ]
  },
  {
   "cell_type": "code",
   "execution_count": 14,
   "id": "4fa791e6-0cee-4f1e-b63f-edc43f57fa0f",
   "metadata": {},
   "outputs": [
    {
     "name": "stderr",
     "output_type": "stream",
     "text": [
      "2025-01-30 19:06:11.153 | INFO     | ai_medreview.utils:wrapper:15 - 🖥️    Started: 'feedback_classification'\n",
      "Processing batches: 100%|██████████████████████████████████████| 242/242 [4:59:43<00:00, 74.31s/it]\n",
      "2025-01-31 00:05:58.634 | INFO     | ai_medreview.utils:wrapper:21 - ✅ Completed: 'feedback_classification' ⚡️17987.476952 sec\n"
     ]
    }
   ],
   "source": [
    "fake_data = feedback_classification(fake_data, batch_size=8)"
   ]
  },
  {
   "cell_type": "code",
   "execution_count": 15,
   "id": "ca288206-ed8f-41e2-bc84-715b25b83f19",
   "metadata": {},
   "outputs": [
    {
     "data": {
      "text/html": [
       "<div>\n",
       "<style scoped>\n",
       "    .dataframe tbody tr th:only-of-type {\n",
       "        vertical-align: middle;\n",
       "    }\n",
       "\n",
       "    .dataframe tbody tr th {\n",
       "        vertical-align: top;\n",
       "    }\n",
       "\n",
       "    .dataframe thead th {\n",
       "        text-align: right;\n",
       "    }\n",
       "</style>\n",
       "<table border=\"1\" class=\"dataframe\">\n",
       "  <thead>\n",
       "    <tr style=\"text-align: right;\">\n",
       "      <th></th>\n",
       "      <th>free_text</th>\n",
       "      <th>generation_category</th>\n",
       "      <th>free_text_len</th>\n",
       "      <th>sentiment_free_text</th>\n",
       "      <th>sentiment_score_free_text</th>\n",
       "      <th>feedback_labels</th>\n",
       "    </tr>\n",
       "  </thead>\n",
       "  <tbody>\n",
       "    <tr>\n",
       "      <th>0</th>\n",
       "      <td>The staff were very helpful and kind.\\n\\nI rec...</td>\n",
       "      <td>Patient Respect</td>\n",
       "      <td>246</td>\n",
       "      <td>positive</td>\n",
       "      <td>0.959466</td>\n",
       "      <td>Reception Staff Interaction</td>\n",
       "    </tr>\n",
       "    <tr>\n",
       "      <th>1</th>\n",
       "      <td>The staff were friendly but forgot my appointm...</td>\n",
       "      <td>Patient Respect</td>\n",
       "      <td>933</td>\n",
       "      <td>negative</td>\n",
       "      <td>0.878586</td>\n",
       "      <td>Communication Effectiveness</td>\n",
       "    </tr>\n",
       "  </tbody>\n",
       "</table>\n",
       "</div>"
      ],
      "text/plain": [
       "                                           free_text generation_category  \\\n",
       "0  The staff were very helpful and kind.\\n\\nI rec...     Patient Respect   \n",
       "1  The staff were friendly but forgot my appointm...     Patient Respect   \n",
       "\n",
       "   free_text_len sentiment_free_text  sentiment_score_free_text  \\\n",
       "0            246            positive                   0.959466   \n",
       "1            933            negative                   0.878586   \n",
       "\n",
       "               feedback_labels  \n",
       "0  Reception Staff Interaction  \n",
       "1  Communication Effectiveness  "
      ]
     },
     "execution_count": 15,
     "metadata": {},
     "output_type": "execute_result"
    }
   ],
   "source": [
    "fake_data.head(2)"
   ]
  },
  {
   "cell_type": "code",
   "execution_count": null,
   "id": "8e189ee3-d10f-4d3f-bddf-ab8f4956a199",
   "metadata": {},
   "outputs": [
    {
     "name": "stderr",
     "output_type": "stream",
     "text": [
      "2025-01-31 00:05:58.922 | INFO     | ai_medreview.utils:wrapper:15 - 🖥️    Started: 'emotion_classification'\n",
      "██████████▍                             | 504/1935 [01:12<03:03,  7.79it/s]"
     ]
    }
   ],
   "source": [
    "fake_data = emotion_classification(fake_data, \"free_text\", classifier=classifier)"
   ]
  },
  {
   "cell_type": "code",
   "execution_count": null,
   "id": "eb002867-08c8-4882-94ef-158f00d51448",
   "metadata": {},
   "outputs": [],
   "source": [
    "fake_data.head(2)"
   ]
  },
  {
   "cell_type": "code",
   "execution_count": null,
   "id": "49ab12f7-e664-4bc3-8f25-a44f83dff2f5",
   "metadata": {},
   "outputs": [],
   "source": [
    "fake_data.to_csv('../ai_medreview/data/fake_gp_reviews_01_processed.csv', index=False)"
   ]
  },
  {
   "cell_type": "code",
   "execution_count": null,
   "id": "166996b7-9e28-4f07-bd86-50d9b8ac2526",
   "metadata": {},
   "outputs": [],
   "source": []
  }
 ],
 "metadata": {
  "kernelspec": {
   "display_name": "Python 3 (ipykernel)",
   "language": "python",
   "name": "python3"
  },
  "language_info": {
   "codemirror_mode": {
    "name": "ipython",
    "version": 3
   },
   "file_extension": ".py",
   "mimetype": "text/x-python",
   "name": "python",
   "nbconvert_exporter": "python",
   "pygments_lexer": "ipython3",
   "version": "3.10.6"
  }
 },
 "nbformat": 4,
 "nbformat_minor": 5
}
