{
 "cells": [
  {
   "cell_type": "markdown",
   "id": "9ed9c5fc-5932-4b44-b6db-11e42cd7d0ea",
   "metadata": {},
   "source": [
    "<div class='status' style='background-color: #183a4b; color: white; padding-top: 4px; padding-bottom: 4px; padding-left: 20px; padding-right: 20px; border-radius: 10px; font-family: Arial, sans-serif; font-size: 26px; display: inline-block; text-align: center; box-shadow: 0px 3px 4px rgba(0, 0, 0, 0.5);'><b>AI MedReview</B> - Fake GP Surgery Reviews | Processing Pipeline</div>"
   ]
  },
  {
   "cell_type": "markdown",
   "id": "2a648829-126a-4b6b-9cfb-a28062f4f32b",
   "metadata": {},
   "source": [
    "## Loading Libraries"
   ]
  },
  {
   "cell_type": "code",
   "execution_count": 1,
   "id": "1629e973-7959-471d-a115-759bc7483f6d",
   "metadata": {},
   "outputs": [],
   "source": [
    "# Importing default Libraries\n",
    "import matplotlib.pyplot as plt\n",
    "import pandas as pd\n",
    "import numpy as np\n",
    "import seaborn as sns\n",
    "import warnings\n",
    "import datetime\n",
    "import os\n",
    "from tqdm import tqdm\n",
    "\n",
    "pd.options.display.max_rows = 1000\n",
    "pd.options.display.max_columns = 1000\n",
    "\n",
    "# Hi-resolution Plots and Matplotlib inline\n",
    "%config InlineBackend.figure_format = 'retina'\n",
    "%matplotlib inline\n",
    "\n",
    "# Set the maximum number of rows and columns to be displayed\n",
    "warnings.filterwarnings(\"ignore\")\n",
    "\n",
    "# \"magic commands\" to enable autoreload of your imported packages\n",
    "%load_ext autoreload\n",
    "%autoreload 2"
   ]
  },
  {
   "cell_type": "markdown",
   "id": "72f4d1b1-77e5-48e4-988a-0573e887558a",
   "metadata": {},
   "source": [
    "**Loading Libraries** from AI MedReview Pipeline"
   ]
  },
  {
   "cell_type": "code",
   "execution_count": 2,
   "id": "6e28511f-2b06-4dc6-8a84-2ec15c3c33e2",
   "metadata": {},
   "outputs": [
    {
     "name": "stderr",
     "output_type": "stream",
     "text": [
      "Some weights of the model checkpoint at cardiffnlp/twitter-roberta-base-sentiment-latest were not used when initializing RobertaForSequenceClassification: ['roberta.pooler.dense.bias', 'roberta.pooler.dense.weight']\n",
      "- This IS expected if you are initializing RobertaForSequenceClassification from the checkpoint of a model trained on another task or with another architecture (e.g. initializing a BertForSequenceClassification model from a BertForPreTraining model).\n",
      "- This IS NOT expected if you are initializing RobertaForSequenceClassification from the checkpoint of a model that you expect to be exactly identical (initializing a BertForSequenceClassification model from a BertForSequenceClassification model).\n",
      "Some weights of the model checkpoint at dbmdz/bert-large-cased-finetuned-conll03-english were not used when initializing BertForTokenClassification: ['bert.pooler.dense.bias', 'bert.pooler.dense.weight']\n",
      "- This IS expected if you are initializing BertForTokenClassification from the checkpoint of a model trained on another task or with another architecture (e.g. initializing a BertForSequenceClassification model from a BertForPreTraining model).\n",
      "- This IS NOT expected if you are initializing BertForTokenClassification from the checkpoint of a model that you expect to be exactly identical (initializing a BertForSequenceClassification model from a BertForSequenceClassification model).\n"
     ]
    }
   ],
   "source": [
    "from ai_medreview.fake_data_pipeline import *"
   ]
  },
  {
   "cell_type": "markdown",
   "id": "89c7b438-609a-4d9d-b029-cf4b42f778a0",
   "metadata": {},
   "source": [
    "<div class='status' style='background-color: #f5c244; color: white; padding-top: 2px; padding-bottom: 2px; padding-left: 7px; padding-right: 7px; border-radius: 6px; font-family: Arial, sans-serif; font-size: 18px; display: inline-block; text-align: center; box-shadow: 0px 3px 4px rgba(0, 0, 0, 0.2);'><b>Loading</b> dataset</div>"
   ]
  },
  {
   "cell_type": "markdown",
   "id": "90e0432c-8769-4c74-9ad7-8fec8b61f2c6",
   "metadata": {},
   "source": [
    "Loading 1/3 datasets chunks for processing"
   ]
  },
  {
   "cell_type": "code",
   "execution_count": 12,
   "id": "e138a7c5-f2b1-4742-830a-97e123772a2a",
   "metadata": {},
   "outputs": [
    {
     "data": {
      "text/html": [
       "<div>\n",
       "<style scoped>\n",
       "    .dataframe tbody tr th:only-of-type {\n",
       "        vertical-align: middle;\n",
       "    }\n",
       "\n",
       "    .dataframe tbody tr th {\n",
       "        vertical-align: top;\n",
       "    }\n",
       "\n",
       "    .dataframe thead th {\n",
       "        text-align: right;\n",
       "    }\n",
       "</style>\n",
       "<table border=\"1\" class=\"dataframe\">\n",
       "  <thead>\n",
       "    <tr style=\"text-align: right;\">\n",
       "      <th></th>\n",
       "      <th>free_text</th>\n",
       "      <th>generation_category</th>\n",
       "    </tr>\n",
       "  </thead>\n",
       "  <tbody>\n",
       "    <tr>\n",
       "      <th>0</th>\n",
       "      <td>The GP practice is run by a friendly woman who...</td>\n",
       "      <td>Patient Respect</td>\n",
       "    </tr>\n",
       "    <tr>\n",
       "      <th>1</th>\n",
       "      <td>Staff were very friendly but slow. \\n\\nThe GP ...</td>\n",
       "      <td>Patient Respect</td>\n",
       "    </tr>\n",
       "  </tbody>\n",
       "</table>\n",
       "</div>"
      ],
      "text/plain": [
       "                                           free_text generation_category\n",
       "0  The GP practice is run by a friendly woman who...     Patient Respect\n",
       "1  Staff were very friendly but slow. \\n\\nThe GP ...     Patient Respect"
      ]
     },
     "execution_count": 12,
     "metadata": {},
     "output_type": "execute_result"
    }
   ],
   "source": [
    "fake_data = pd.read_csv(\"../ai_medreview/data/fake_gp_reviews_llm_02.csv\")\n",
    "fake_data.columns = [\"free_text\", \"generation_category\"]\n",
    "fake_data.head(2)"
   ]
  },
  {
   "cell_type": "code",
   "execution_count": 13,
   "id": "dfb1d28e-e5b5-40a8-a6eb-ba6b973cd890",
   "metadata": {},
   "outputs": [
    {
     "name": "stderr",
     "output_type": "stream",
     "text": [
      "2025-01-30 09:31:37.321 | INFO     | ai_medreview.utils:wrapper:15 - 🖥️    Started: 'word_count'\n",
      "2025-01-30 09:31:37.348 | INFO     | ai_medreview.utils:wrapper:21 - ✅ Completed: 'word_count' ⚡️0.025217 sec\n"
     ]
    }
   ],
   "source": [
    "fake_data = word_count(fake_data)"
   ]
  },
  {
   "cell_type": "code",
   "execution_count": 14,
   "id": "1989b178-ae4b-44b4-8f85-c369c413e72c",
   "metadata": {},
   "outputs": [
    {
     "name": "stderr",
     "output_type": "stream",
     "text": [
      "2025-01-30 09:31:39.668 | INFO     | ai_medreview.fake_data_pipeline:sentiment_analysis:77 - 💛 Sentiment Analysis - Functions started.\n",
      "█████████████████████████████████████| 1935/1935 [02:14<00:00, 14.44it/s]\n"
     ]
    }
   ],
   "source": [
    "fake_data = sentiment_analysis(fake_data, \"free_text\")"
   ]
  },
  {
   "cell_type": "code",
   "execution_count": 15,
   "id": "aa18d210-d308-4212-929b-8745a0496850",
   "metadata": {},
   "outputs": [
    {
     "name": "stderr",
     "output_type": "stream",
     "text": [
      "2025-01-30 09:33:53.831 | INFO     | ai_medreview.fake_data_pipeline:cleanup_neutral_sentiment:162 - 🧻 Cleanup_neutral_sentiment - if free_text and do_better isna()\n"
     ]
    }
   ],
   "source": [
    "fake_data = cleanup_neutral_sentiment(fake_data, \"free_text\")"
   ]
  },
  {
   "cell_type": "code",
   "execution_count": 16,
   "id": "4fa791e6-0cee-4f1e-b63f-edc43f57fa0f",
   "metadata": {},
   "outputs": [
    {
     "name": "stderr",
     "output_type": "stream",
     "text": [
      "2025-01-30 09:33:53.888 | INFO     | ai_medreview.utils:wrapper:15 - 🖥️    Started: 'feedback_classification'\n",
      "Processing batches: 100%|██████████████████████████████████████| 242/242 [5:39:44<00:00, 84.23s/it]\n",
      "2025-01-30 15:13:42.319 | INFO     | ai_medreview.utils:wrapper:21 - ✅ Completed: 'feedback_classification' ⚡️20388.427670 sec\n"
     ]
    }
   ],
   "source": [
    "fake_data = feedback_classification(fake_data, batch_size=8)"
   ]
  },
  {
   "cell_type": "code",
   "execution_count": 17,
   "id": "ca288206-ed8f-41e2-bc84-715b25b83f19",
   "metadata": {},
   "outputs": [
    {
     "data": {
      "text/html": [
       "<div>\n",
       "<style scoped>\n",
       "    .dataframe tbody tr th:only-of-type {\n",
       "        vertical-align: middle;\n",
       "    }\n",
       "\n",
       "    .dataframe tbody tr th {\n",
       "        vertical-align: top;\n",
       "    }\n",
       "\n",
       "    .dataframe thead th {\n",
       "        text-align: right;\n",
       "    }\n",
       "</style>\n",
       "<table border=\"1\" class=\"dataframe\">\n",
       "  <thead>\n",
       "    <tr style=\"text-align: right;\">\n",
       "      <th></th>\n",
       "      <th>free_text</th>\n",
       "      <th>generation_category</th>\n",
       "      <th>free_text_len</th>\n",
       "      <th>sentiment_free_text</th>\n",
       "      <th>sentiment_score_free_text</th>\n",
       "      <th>feedback_labels</th>\n",
       "    </tr>\n",
       "  </thead>\n",
       "  <tbody>\n",
       "    <tr>\n",
       "      <th>0</th>\n",
       "      <td>The GP practice is run by a friendly woman who...</td>\n",
       "      <td>Patient Respect</td>\n",
       "      <td>878</td>\n",
       "      <td>positive</td>\n",
       "      <td>0.873504</td>\n",
       "      <td>Reception Staff Interaction</td>\n",
       "    </tr>\n",
       "    <tr>\n",
       "      <th>1</th>\n",
       "      <td>Staff were very friendly but slow. \\n\\nThe GP ...</td>\n",
       "      <td>Patient Respect</td>\n",
       "      <td>88</td>\n",
       "      <td>positive</td>\n",
       "      <td>0.441180</td>\n",
       "      <td>Reception Staff Interaction</td>\n",
       "    </tr>\n",
       "    <tr>\n",
       "      <th>2</th>\n",
       "      <td>The GP surgery staff were kind and attentive d...</td>\n",
       "      <td>Patient Respect</td>\n",
       "      <td>385</td>\n",
       "      <td>positive</td>\n",
       "      <td>0.590509</td>\n",
       "      <td>Reception Staff Interaction</td>\n",
       "    </tr>\n",
       "    <tr>\n",
       "      <th>3</th>\n",
       "      <td>The staff were friendly and efficient making m...</td>\n",
       "      <td>Patient Respect</td>\n",
       "      <td>266</td>\n",
       "      <td>positive</td>\n",
       "      <td>0.922695</td>\n",
       "      <td>Reception Staff Interaction</td>\n",
       "    </tr>\n",
       "    <tr>\n",
       "      <th>4</th>\n",
       "      <td>The staff were friendly and accommodating.\\nTh...</td>\n",
       "      <td>Patient Respect</td>\n",
       "      <td>116</td>\n",
       "      <td>positive</td>\n",
       "      <td>0.920581</td>\n",
       "      <td>Test Results</td>\n",
       "    </tr>\n",
       "    <tr>\n",
       "      <th>...</th>\n",
       "      <td>...</td>\n",
       "      <td>...</td>\n",
       "      <td>...</td>\n",
       "      <td>...</td>\n",
       "      <td>...</td>\n",
       "      <td>...</td>\n",
       "    </tr>\n",
       "    <tr>\n",
       "      <th>1930</th>\n",
       "      <td>The GP surgery staff were unfriendly and disor...</td>\n",
       "      <td>Administrative Efficiency</td>\n",
       "      <td>68</td>\n",
       "      <td>negative</td>\n",
       "      <td>0.897895</td>\n",
       "      <td>Reception Staff Interaction</td>\n",
       "    </tr>\n",
       "    <tr>\n",
       "      <th>1931</th>\n",
       "      <td>The staff were very helpful and efficient, mak...</td>\n",
       "      <td>Administrative Efficiency</td>\n",
       "      <td>67</td>\n",
       "      <td>positive</td>\n",
       "      <td>0.878784</td>\n",
       "      <td>Administrative Efficiency</td>\n",
       "    </tr>\n",
       "    <tr>\n",
       "      <th>1932</th>\n",
       "      <td>Telehealth services were great but took hours ...</td>\n",
       "      <td>Telehealth</td>\n",
       "      <td>52</td>\n",
       "      <td>positive</td>\n",
       "      <td>0.611423</td>\n",
       "      <td>Telehealth</td>\n",
       "    </tr>\n",
       "    <tr>\n",
       "      <th>1933</th>\n",
       "      <td>The telehealth service was a lifesaver during ...</td>\n",
       "      <td>Telehealth</td>\n",
       "      <td>454</td>\n",
       "      <td>positive</td>\n",
       "      <td>0.909477</td>\n",
       "      <td>Telehealth</td>\n",
       "    </tr>\n",
       "    <tr>\n",
       "      <th>1934</th>\n",
       "      <td>The telehealth service was convenient, but I h...</td>\n",
       "      <td>Telehealth</td>\n",
       "      <td>81</td>\n",
       "      <td>negative</td>\n",
       "      <td>0.560121</td>\n",
       "      <td>Telehealth</td>\n",
       "    </tr>\n",
       "  </tbody>\n",
       "</table>\n",
       "<p>1935 rows × 6 columns</p>\n",
       "</div>"
      ],
      "text/plain": [
       "                                              free_text  \\\n",
       "0     The GP practice is run by a friendly woman who...   \n",
       "1     Staff were very friendly but slow. \\n\\nThe GP ...   \n",
       "2     The GP surgery staff were kind and attentive d...   \n",
       "3     The staff were friendly and efficient making m...   \n",
       "4     The staff were friendly and accommodating.\\nTh...   \n",
       "...                                                 ...   \n",
       "1930  The GP surgery staff were unfriendly and disor...   \n",
       "1931  The staff were very helpful and efficient, mak...   \n",
       "1932  Telehealth services were great but took hours ...   \n",
       "1933  The telehealth service was a lifesaver during ...   \n",
       "1934  The telehealth service was convenient, but I h...   \n",
       "\n",
       "            generation_category  free_text_len sentiment_free_text  \\\n",
       "0               Patient Respect            878            positive   \n",
       "1               Patient Respect             88            positive   \n",
       "2               Patient Respect            385            positive   \n",
       "3               Patient Respect            266            positive   \n",
       "4               Patient Respect            116            positive   \n",
       "...                         ...            ...                 ...   \n",
       "1930  Administrative Efficiency             68            negative   \n",
       "1931  Administrative Efficiency             67            positive   \n",
       "1932                 Telehealth             52            positive   \n",
       "1933                 Telehealth            454            positive   \n",
       "1934                 Telehealth             81            negative   \n",
       "\n",
       "      sentiment_score_free_text              feedback_labels  \n",
       "0                      0.873504  Reception Staff Interaction  \n",
       "1                      0.441180  Reception Staff Interaction  \n",
       "2                      0.590509  Reception Staff Interaction  \n",
       "3                      0.922695  Reception Staff Interaction  \n",
       "4                      0.920581                 Test Results  \n",
       "...                         ...                          ...  \n",
       "1930                   0.897895  Reception Staff Interaction  \n",
       "1931                   0.878784    Administrative Efficiency  \n",
       "1932                   0.611423                   Telehealth  \n",
       "1933                   0.909477                   Telehealth  \n",
       "1934                   0.560121                   Telehealth  \n",
       "\n",
       "[1935 rows x 6 columns]"
      ]
     },
     "execution_count": 17,
     "metadata": {},
     "output_type": "execute_result"
    }
   ],
   "source": [
    "fake_data.head(2)"
   ]
  },
  {
   "cell_type": "code",
   "execution_count": 19,
   "id": "8e189ee3-d10f-4d3f-bddf-ab8f4956a199",
   "metadata": {},
   "outputs": [
    {
     "name": "stderr",
     "output_type": "stream",
     "text": [
      "Some weights of the model checkpoint at cardiffnlp/twitter-roberta-base-sentiment-latest were not used when initializing RobertaForSequenceClassification: ['roberta.pooler.dense.bias', 'roberta.pooler.dense.weight']\n",
      "- This IS expected if you are initializing RobertaForSequenceClassification from the checkpoint of a model trained on another task or with another architecture (e.g. initializing a BertForSequenceClassification model from a BertForPreTraining model).\n",
      "- This IS NOT expected if you are initializing RobertaForSequenceClassification from the checkpoint of a model that you expect to be exactly identical (initializing a BertForSequenceClassification model from a BertForSequenceClassification model).\n",
      "Some weights of the model checkpoint at dbmdz/bert-large-cased-finetuned-conll03-english were not used when initializing BertForTokenClassification: ['bert.pooler.dense.bias', 'bert.pooler.dense.weight']\n",
      "- This IS expected if you are initializing BertForTokenClassification from the checkpoint of a model trained on another task or with another architecture (e.g. initializing a BertForSequenceClassification model from a BertForPreTraining model).\n",
      "- This IS NOT expected if you are initializing BertForTokenClassification from the checkpoint of a model that you expect to be exactly identical (initializing a BertForSequenceClassification model from a BertForSequenceClassification model).\n",
      "2025-01-30 15:54:09.569 | INFO     | ai_medreview.utils:wrapper:15 - 🖥️    Started: 'emotion_classification'\n",
      "███████████████████████████████████████| 1935/1935 [03:27<00:00,  9.30it/s]\n"
     ]
    },
    {
     "ename": "NameError",
     "evalue": "name 'data' is not defined",
     "output_type": "error",
     "traceback": [
      "\u001b[0;31m---------------------------------------------------------------------------\u001b[0m",
      "\u001b[0;31mNameError\u001b[0m                                 Traceback (most recent call last)",
      "Cell \u001b[0;32mIn[19], line 1\u001b[0m\n\u001b[0;32m----> 1\u001b[0m fake_data \u001b[38;5;241m=\u001b[39m \u001b[43memotion_classification\u001b[49m\u001b[43m(\u001b[49m\u001b[43mfake_data\u001b[49m\u001b[43m,\u001b[49m\u001b[43m \u001b[49m\u001b[38;5;124;43m\"\u001b[39;49m\u001b[38;5;124;43mfree_text\u001b[39;49m\u001b[38;5;124;43m\"\u001b[39;49m\u001b[43m,\u001b[49m\u001b[43m \u001b[49m\u001b[43mclassifier\u001b[49m\u001b[38;5;241;43m=\u001b[39;49m\u001b[43mclassifier\u001b[49m\u001b[43m)\u001b[49m\n",
      "File \u001b[0;32m~/code/janduplessis883/ai-medreview/ai_medreview/utils.py:17\u001b[0m, in \u001b[0;36mtime_it.<locals>.wrapper\u001b[0;34m(*args, **kwargs)\u001b[0m\n\u001b[1;32m     15\u001b[0m logger\u001b[38;5;241m.\u001b[39minfo(\u001b[38;5;124mf\u001b[39m\u001b[38;5;124m\"\u001b[39m\u001b[38;5;124m🖥️    Started: \u001b[39m\u001b[38;5;124m'\u001b[39m\u001b[38;5;132;01m{\u001b[39;00mfunc_name\u001b[38;5;132;01m}\u001b[39;00m\u001b[38;5;124m'\u001b[39m\u001b[38;5;124m\"\u001b[39m)\n\u001b[1;32m     16\u001b[0m start_time \u001b[38;5;241m=\u001b[39m time\u001b[38;5;241m.\u001b[39mtime()\n\u001b[0;32m---> 17\u001b[0m result \u001b[38;5;241m=\u001b[39m \u001b[43mfunc\u001b[49m\u001b[43m(\u001b[49m\u001b[38;5;241;43m*\u001b[39;49m\u001b[43margs\u001b[49m\u001b[43m,\u001b[49m\u001b[43m \u001b[49m\u001b[38;5;241;43m*\u001b[39;49m\u001b[38;5;241;43m*\u001b[39;49m\u001b[43mkwargs\u001b[49m\u001b[43m)\u001b[49m\n\u001b[1;32m     18\u001b[0m end_time \u001b[38;5;241m=\u001b[39m time\u001b[38;5;241m.\u001b[39mtime()\n\u001b[1;32m     19\u001b[0m elapsed_time \u001b[38;5;241m=\u001b[39m end_time \u001b[38;5;241m-\u001b[39m start_time\n",
      "File \u001b[0;32m~/code/janduplessis883/ai-medreview/ai_medreview/fake_data_pipeline.py:506\u001b[0m, in \u001b[0;36memotion_classification\u001b[0;34m(df, column, classifier)\u001b[0m\n\u001b[1;32m    502\u001b[0m         emotion\u001b[38;5;241m.\u001b[39mappend(model_output)\n\u001b[1;32m    504\u001b[0m df[\u001b[38;5;124mf\u001b[39m\u001b[38;5;124m\"\u001b[39m\u001b[38;5;124memotion_\u001b[39m\u001b[38;5;132;01m{\u001b[39;00mcolumn\u001b[38;5;132;01m}\u001b[39;00m\u001b[38;5;124m\"\u001b[39m] \u001b[38;5;241m=\u001b[39m emotion\n\u001b[0;32m--> 506\u001b[0m \u001b[38;5;28;01mreturn\u001b[39;00m \u001b[43mdata\u001b[49m\n",
      "\u001b[0;31mNameError\u001b[0m: name 'data' is not defined"
     ]
    }
   ],
   "source": [
    "fake_data = emotion_classification(fake_data, \"free_text\", classifier=classifier)"
   ]
  },
  {
   "cell_type": "code",
   "execution_count": 20,
   "id": "eb002867-08c8-4882-94ef-158f00d51448",
   "metadata": {},
   "outputs": [
    {
     "name": "stderr",
     "output_type": "stream",
     "text": [
      "Some weights of the model checkpoint at cardiffnlp/twitter-roberta-base-sentiment-latest were not used when initializing RobertaForSequenceClassification: ['roberta.pooler.dense.bias', 'roberta.pooler.dense.weight']\n",
      "- This IS expected if you are initializing RobertaForSequenceClassification from the checkpoint of a model trained on another task or with another architecture (e.g. initializing a BertForSequenceClassification model from a BertForPreTraining model).\n",
      "- This IS NOT expected if you are initializing RobertaForSequenceClassification from the checkpoint of a model that you expect to be exactly identical (initializing a BertForSequenceClassification model from a BertForSequenceClassification model).\n",
      "Some weights of the model checkpoint at dbmdz/bert-large-cased-finetuned-conll03-english were not used when initializing BertForTokenClassification: ['bert.pooler.dense.bias', 'bert.pooler.dense.weight']\n",
      "- This IS expected if you are initializing BertForTokenClassification from the checkpoint of a model trained on another task or with another architecture (e.g. initializing a BertForSequenceClassification model from a BertForPreTraining model).\n",
      "- This IS NOT expected if you are initializing BertForTokenClassification from the checkpoint of a model that you expect to be exactly identical (initializing a BertForSequenceClassification model from a BertForSequenceClassification model).\n"
     ]
    },
    {
     "data": {
      "text/html": [
       "<div>\n",
       "<style scoped>\n",
       "    .dataframe tbody tr th:only-of-type {\n",
       "        vertical-align: middle;\n",
       "    }\n",
       "\n",
       "    .dataframe tbody tr th {\n",
       "        vertical-align: top;\n",
       "    }\n",
       "\n",
       "    .dataframe thead th {\n",
       "        text-align: right;\n",
       "    }\n",
       "</style>\n",
       "<table border=\"1\" class=\"dataframe\">\n",
       "  <thead>\n",
       "    <tr style=\"text-align: right;\">\n",
       "      <th></th>\n",
       "      <th>free_text</th>\n",
       "      <th>generation_category</th>\n",
       "      <th>free_text_len</th>\n",
       "      <th>sentiment_free_text</th>\n",
       "      <th>sentiment_score_free_text</th>\n",
       "      <th>feedback_labels</th>\n",
       "      <th>emotion_free_text</th>\n",
       "    </tr>\n",
       "  </thead>\n",
       "  <tbody>\n",
       "    <tr>\n",
       "      <th>0</th>\n",
       "      <td>The GP practice is run by a friendly woman who...</td>\n",
       "      <td>Patient Respect</td>\n",
       "      <td>878</td>\n",
       "      <td>positive</td>\n",
       "      <td>0.873504</td>\n",
       "      <td>Reception Staff Interaction</td>\n",
       "      <td>disappointment</td>\n",
       "    </tr>\n",
       "    <tr>\n",
       "      <th>1</th>\n",
       "      <td>Staff were very friendly but slow. \\n\\nThe GP ...</td>\n",
       "      <td>Patient Respect</td>\n",
       "      <td>88</td>\n",
       "      <td>positive</td>\n",
       "      <td>0.441180</td>\n",
       "      <td>Reception Staff Interaction</td>\n",
       "      <td>disappointment</td>\n",
       "    </tr>\n",
       "  </tbody>\n",
       "</table>\n",
       "</div>"
      ],
      "text/plain": [
       "                                           free_text generation_category  \\\n",
       "0  The GP practice is run by a friendly woman who...     Patient Respect   \n",
       "1  Staff were very friendly but slow. \\n\\nThe GP ...     Patient Respect   \n",
       "\n",
       "   free_text_len sentiment_free_text  sentiment_score_free_text  \\\n",
       "0            878            positive                   0.873504   \n",
       "1             88            positive                   0.441180   \n",
       "\n",
       "               feedback_labels emotion_free_text  \n",
       "0  Reception Staff Interaction    disappointment  \n",
       "1  Reception Staff Interaction    disappointment  "
      ]
     },
     "execution_count": 20,
     "metadata": {},
     "output_type": "execute_result"
    }
   ],
   "source": [
    "fake_data.head(2)"
   ]
  },
  {
   "cell_type": "code",
   "execution_count": 21,
   "id": "49ab12f7-e664-4bc3-8f25-a44f83dff2f5",
   "metadata": {},
   "outputs": [],
   "source": [
    "fake_data.to_csv('../ai_medreview/data/fake_gp_reviews_02_processed.csv', index=False)"
   ]
  },
  {
   "cell_type": "code",
   "execution_count": null,
   "id": "2ed20744-2363-4a11-a5b9-604624c6ca6d",
   "metadata": {},
   "outputs": [],
   "source": []
  }
 ],
 "metadata": {
  "kernelspec": {
   "display_name": "Python 3 (ipykernel)",
   "language": "python",
   "name": "python3"
  },
  "language_info": {
   "codemirror_mode": {
    "name": "ipython",
    "version": 3
   },
   "file_extension": ".py",
   "mimetype": "text/x-python",
   "name": "python",
   "nbconvert_exporter": "python",
   "pygments_lexer": "ipython3",
   "version": "3.10.6"
  }
 },
 "nbformat": 4,
 "nbformat_minor": 5
}
