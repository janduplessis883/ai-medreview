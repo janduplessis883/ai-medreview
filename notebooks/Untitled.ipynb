{
 "cells": [
  {
   "cell_type": "code",
   "execution_count": 5,
   "id": "0a5246c5-5bdf-4864-81e5-680786638ea2",
   "metadata": {},
   "outputs": [
    {
     "name": "stdout",
     "output_type": "stream",
     "text": [
      "[{'summary_text': \" It takes me well over half an hour to talk to this surgery when I ring and today my call was hung up and I did not get to speak to the receptionist . I was also called in but then they couldn't do any tests for an admin issue . The doctor I saw didn't seem to have much confidence I sat down for the blood test and she looked panicked about doing it saying I have very small veins and kept repeating that she doesn't think she ll be able to take blood . She said she sent a email and no reply . She should have taking into account how far I came from and ask gone to ask the\"}]\n"
     ]
    }
   ],
   "source": [
    "from transformers import pipeline\n",
    "\n",
    "summarizer = pipeline(\"summarization\", model=\"sshleifer/distilbart-cnn-12-6\")\n",
    "\n",
    "ARTICLE = \"\"\"I am waiting to speak with a GP for an ongoing issue I m waiting and can t get any answers I was also called in but then they couldn t do any tests for an admin issue At the moment I m not very happy Yes getting help to address my issue I m still getting used to the new premises in two different locations I find it very difficult to speak to a receptionist by telephone as the waiting time is too long Quicker response time to incoming calls I ve tried using Patches as suggested to make an appointment and receive a message telling me to call the surgery to make an appointment the doctor I saw didn t seem to have much confidence I sat down for the blood test and she looked panicked about doing it saying I have very small veins and kept repeating that she doesn t think she ll be able to take blood its never been an issue before and hearing the doctor keep saying that and looking flustered isn t exactly comforting Right after I had a cervical smear and was tense due to the whole interaction and the doctor s confidence so I was having a hard time relaxing Its not a pleasant experience on any given day and the fact that she kept saying stop tensing in an annoyed tone didn t help I left the appointment feeling super tense and was not able to do the blood test I now have to spend another morning going to the hospital to get it done I saw a very kind very understanding doctor Dr PERSON who was extremely helpful and put me at complete ease one thing on a negative note it takes me well over half an hour to talk to this surgery when I ring and today after waiting again over half an hour my call was hung up and I did not get to speak to the receptionist Yes making sure when I wait in line to be answered on the telephone that my call isn t hung up when it is my turn Friendly help where they can You don t see one doctor who knows you for long You change doctors like clothes I would have loved to see the same doctor every time l visit because they know your history or problems My GP Dr PERSON is excellent but I haven t seen him or any other GP since October 2022 I miss the previous link between patient and particular doctor which certainly in my case proved beneficial even life saving With the present surgery I find the turnover of doctors too great and disconcerting It s the bad experience I had with the lady at the front desk My appointment was for 10am and I was there by 10 10 am she turned me away for 10 minutes late I requested to talk to the nurse since it was my general check up She said she sent a email and no reply She should have taking into account how far I came from and ask gone to ask the nurse if ican be seen but she was in a hurry to turn me away instead And that was my first time at the 1a address for a check up I think it was a Unlikely customer service experience I have ever had The light in the building sets the tone lightness professional and care The reception person did not acknowledge my presence so I waited until she was ready to communicate At that point I d expect a greeting and perhaps recognition I hadn t interrupted her computer interaction Not forthcoming As this was my first visit to this site I was directed to wait but had to ask where Fortunately I wasn t presenting in a stressed mind frame but this is a communication failure similar to what I remembered from the previous premises in SW10 so not promising In my consultation there was a primary health care worker who communicated appropriately but also a second female whose presence went completely unexplained and who failed to communicate at all What was she doing there and who should have introduced her explained her presence Basically customer communication remains poor at the surgery I was already thinking of looking elsewhere and that instinct hasn t changed 20 years as a patient previously The Redcliffe Surgery Both my wife and II have always been very satisfied with the care and attention Less holding time on the telephone More opportunity for face to face consultation Closer doctor patient relationship Very happy with the service my surgery provides the GPs are friendly and helpful I didn t have to wait to long to be see bh the Doctor So far in the time that I m visiting these centre I being haven a good service I don t have to complain for anything Thank you Very professional and efficient A pleasure to interact with All in all a absolutely first class To receive test results directly by email The service was quick efficient and it worked It was a skin infection I would have liked to receive better advice on how to care for the wound while it was healing I live in Earl s court It took me a while to get in Chelsea The nurse measured my blood pressure which I do daily at home She said I had to review the medicines with pharmacist I went back to the reception and the \"\"\"\n",
    "print(summarizer(ARTICLE, max_length=130, min_length=30, do_sample=False))"
   ]
  },
  {
   "cell_type": "code",
   "execution_count": null,
   "id": "b2da3f71-659d-4c10-a760-176dc172a3c0",
   "metadata": {},
   "outputs": [],
   "source": []
  },
  {
   "cell_type": "code",
   "execution_count": null,
   "id": "c2f64a11-8006-4b25-b8dd-f2355955a10f",
   "metadata": {},
   "outputs": [],
   "source": []
  }
 ],
 "metadata": {
  "kernelspec": {
   "display_name": "Python 3 (ipykernel)",
   "language": "python",
   "name": "python3"
  },
  "language_info": {
   "codemirror_mode": {
    "name": "ipython",
    "version": 3
   },
   "file_extension": ".py",
   "mimetype": "text/x-python",
   "name": "python",
   "nbconvert_exporter": "python",
   "pygments_lexer": "ipython3",
   "version": "3.10.6"
  },
  "widgets": {
   "application/vnd.jupyter.widget-state+json": {
    "state": {
     "015fe1726b1249c1b53bab61daeddb33": {
      "model_module": "@jupyter-widgets/controls",
      "model_module_version": "2.0.0",
      "model_name": "FloatProgressModel",
      "state": {
       "bar_style": "success",
       "layout": "IPY_MODEL_caa06e9a6f394c12baf2fccf2ee20def",
       "max": 898822,
       "style": "IPY_MODEL_8055fb36c955420cb197fbf310ad4ddf",
       "value": 898822
      }
     },
     "08244395def14e7b9ff8d0fac860af79": {
      "model_module": "@jupyter-widgets/controls",
      "model_module_version": "2.0.0",
      "model_name": "HTMLStyleModel",
      "state": {
       "description_width": "",
       "font_size": null,
       "text_color": null
      }
     },
     "091bbe72a64f47e8a4bbff5c373da351": {
      "model_module": "@jupyter-widgets/controls",
      "model_module_version": "2.0.0",
      "model_name": "HTMLModel",
      "state": {
       "layout": "IPY_MODEL_62ab92de57264a5eb8bb4bf2fb80024b",
       "style": "IPY_MODEL_29e7d89e15ed47e5b1333aca4996ff6f",
       "value": "vocab.json: 100%"
      }
     },
     "0ae6fff720dd4a9d97d718fcfdb28611": {
      "model_module": "@jupyter-widgets/controls",
      "model_module_version": "2.0.0",
      "model_name": "HTMLStyleModel",
      "state": {
       "description_width": "",
       "font_size": null,
       "text_color": null
      }
     },
     "110e0f3d8ee549418f3d88eb7d7db6dd": {
      "model_module": "@jupyter-widgets/base",
      "model_module_version": "2.0.0",
      "model_name": "LayoutModel",
      "state": {}
     },
     "175404add238474883ae15138298500c": {
      "model_module": "@jupyter-widgets/base",
      "model_module_version": "2.0.0",
      "model_name": "LayoutModel",
      "state": {}
     },
     "23269fa01d9e415b8fe7866eff0a23f4": {
      "model_module": "@jupyter-widgets/base",
      "model_module_version": "2.0.0",
      "model_name": "LayoutModel",
      "state": {}
     },
     "26ea70a24df643d5a6431c7d43deb0d2": {
      "model_module": "@jupyter-widgets/controls",
      "model_module_version": "2.0.0",
      "model_name": "FloatProgressModel",
      "state": {
       "bar_style": "success",
       "layout": "IPY_MODEL_5e7cfd6f5d2d4615b37dba50883f6984",
       "max": 1222317369,
       "style": "IPY_MODEL_b00eab87a9d64e6fb47d9bd4417db2b5",
       "value": 1222317369
      }
     },
     "29e7d89e15ed47e5b1333aca4996ff6f": {
      "model_module": "@jupyter-widgets/controls",
      "model_module_version": "2.0.0",
      "model_name": "HTMLStyleModel",
      "state": {
       "description_width": "",
       "font_size": null,
       "text_color": null
      }
     },
     "2ee98dc29dfe48e098f29d3fda48ea8b": {
      "model_module": "@jupyter-widgets/base",
      "model_module_version": "2.0.0",
      "model_name": "LayoutModel",
      "state": {}
     },
     "388dd8902e154ae286369a3db5865d3a": {
      "model_module": "@jupyter-widgets/base",
      "model_module_version": "2.0.0",
      "model_name": "LayoutModel",
      "state": {}
     },
     "46f27f75cbe141e59e7eaeeaebfb7e2c": {
      "model_module": "@jupyter-widgets/controls",
      "model_module_version": "2.0.0",
      "model_name": "HTMLModel",
      "state": {
       "layout": "IPY_MODEL_e332937736cb46679455539f9ac1b70c",
       "style": "IPY_MODEL_0ae6fff720dd4a9d97d718fcfdb28611",
       "value": " 26.0/26.0 [00:00&lt;00:00, 840B/s]"
      }
     },
     "47930e5267174ed098588030deef904c": {
      "model_module": "@jupyter-widgets/controls",
      "model_module_version": "2.0.0",
      "model_name": "HBoxModel",
      "state": {
       "children": [
        "IPY_MODEL_b5ead687eaa043028b26f217e3a32f77",
        "IPY_MODEL_26ea70a24df643d5a6431c7d43deb0d2",
        "IPY_MODEL_ea22ee4bc3a144b2a69f329a930a4c07"
       ],
       "layout": "IPY_MODEL_23269fa01d9e415b8fe7866eff0a23f4"
      }
     },
     "4966a2331f564440b0bacb872bf20705": {
      "model_module": "@jupyter-widgets/controls",
      "model_module_version": "2.0.0",
      "model_name": "HTMLStyleModel",
      "state": {
       "description_width": "",
       "font_size": null,
       "text_color": null
      }
     },
     "4cdd6513f1904512b46bbe21ca5bb29e": {
      "model_module": "@jupyter-widgets/controls",
      "model_module_version": "2.0.0",
      "model_name": "HTMLStyleModel",
      "state": {
       "description_width": "",
       "font_size": null,
       "text_color": null
      }
     },
     "5a5bb7bbee094577ac8813a11c2d859d": {
      "model_module": "@jupyter-widgets/controls",
      "model_module_version": "2.0.0",
      "model_name": "HBoxModel",
      "state": {
       "children": [
        "IPY_MODEL_b8785b1aa6de47789b02f5a4e0189e8d",
        "IPY_MODEL_7efe26b95d94427c9c1d148a60cb5868",
        "IPY_MODEL_d2ced53a07d142729b6d09c6bf04525e"
       ],
       "layout": "IPY_MODEL_388dd8902e154ae286369a3db5865d3a"
      }
     },
     "5e7cfd6f5d2d4615b37dba50883f6984": {
      "model_module": "@jupyter-widgets/base",
      "model_module_version": "2.0.0",
      "model_name": "LayoutModel",
      "state": {}
     },
     "62ab92de57264a5eb8bb4bf2fb80024b": {
      "model_module": "@jupyter-widgets/base",
      "model_module_version": "2.0.0",
      "model_name": "LayoutModel",
      "state": {}
     },
     "72cc54a35f0243feb393f5ea8cfea735": {
      "model_module": "@jupyter-widgets/controls",
      "model_module_version": "2.0.0",
      "model_name": "HTMLStyleModel",
      "state": {
       "description_width": "",
       "font_size": null,
       "text_color": null
      }
     },
     "75bb3856a0cc4fcc96ba2abb9202b7e1": {
      "model_module": "@jupyter-widgets/base",
      "model_module_version": "2.0.0",
      "model_name": "LayoutModel",
      "state": {}
     },
     "79bac6fc5a074958abafe46e55fa961f": {
      "model_module": "@jupyter-widgets/controls",
      "model_module_version": "2.0.0",
      "model_name": "HBoxModel",
      "state": {
       "children": [
        "IPY_MODEL_091bbe72a64f47e8a4bbff5c373da351",
        "IPY_MODEL_015fe1726b1249c1b53bab61daeddb33",
        "IPY_MODEL_a54b8e178f6a43ce9688937a5b1037af"
       ],
       "layout": "IPY_MODEL_175404add238474883ae15138298500c"
      }
     },
     "7c2546526f654c3c862886f12243319f": {
      "model_module": "@jupyter-widgets/base",
      "model_module_version": "2.0.0",
      "model_name": "LayoutModel",
      "state": {}
     },
     "7efe26b95d94427c9c1d148a60cb5868": {
      "model_module": "@jupyter-widgets/controls",
      "model_module_version": "2.0.0",
      "model_name": "FloatProgressModel",
      "state": {
       "bar_style": "success",
       "layout": "IPY_MODEL_cdc000dd4977404e9bd7b9f23b44de06",
       "max": 1802,
       "style": "IPY_MODEL_d9858e92901943d796838b93eb1c07b4",
       "value": 1802
      }
     },
     "8055fb36c955420cb197fbf310ad4ddf": {
      "model_module": "@jupyter-widgets/controls",
      "model_module_version": "2.0.0",
      "model_name": "ProgressStyleModel",
      "state": {
       "description_width": ""
      }
     },
     "81e9f9fce34f46d5bda2dc07068e87bd": {
      "model_module": "@jupyter-widgets/base",
      "model_module_version": "2.0.0",
      "model_name": "LayoutModel",
      "state": {}
     },
     "85c9c967f9834f6183f93c55a9cbbf53": {
      "model_module": "@jupyter-widgets/controls",
      "model_module_version": "2.0.0",
      "model_name": "ProgressStyleModel",
      "state": {
       "description_width": ""
      }
     },
     "8b1a90136b3b42aa92f7445e98bcb257": {
      "model_module": "@jupyter-widgets/controls",
      "model_module_version": "2.0.0",
      "model_name": "HTMLStyleModel",
      "state": {
       "description_width": "",
       "font_size": null,
       "text_color": null
      }
     },
     "8c357ebb6c0647f790da40f3095de8b2": {
      "model_module": "@jupyter-widgets/controls",
      "model_module_version": "2.0.0",
      "model_name": "ProgressStyleModel",
      "state": {
       "description_width": ""
      }
     },
     "975b64270e1145d0b2cc66053db2e1e9": {
      "model_module": "@jupyter-widgets/controls",
      "model_module_version": "2.0.0",
      "model_name": "HTMLStyleModel",
      "state": {
       "description_width": "",
       "font_size": null,
       "text_color": null
      }
     },
     "987448c69817411caf06ecbc029e466a": {
      "model_module": "@jupyter-widgets/base",
      "model_module_version": "2.0.0",
      "model_name": "LayoutModel",
      "state": {}
     },
     "a54b8e178f6a43ce9688937a5b1037af": {
      "model_module": "@jupyter-widgets/controls",
      "model_module_version": "2.0.0",
      "model_name": "HTMLModel",
      "state": {
       "layout": "IPY_MODEL_7c2546526f654c3c862886f12243319f",
       "style": "IPY_MODEL_afe8b452ddc042df929693771dec70ee",
       "value": " 899k/899k [00:00&lt;00:00, 3.20MB/s]"
      }
     },
     "a616b9ef43ef4b04ac7ebb5f2bacb3d7": {
      "model_module": "@jupyter-widgets/base",
      "model_module_version": "2.0.0",
      "model_name": "LayoutModel",
      "state": {}
     },
     "ac5e1b080c3e4920a57da812d208de1e": {
      "model_module": "@jupyter-widgets/base",
      "model_module_version": "2.0.0",
      "model_name": "LayoutModel",
      "state": {}
     },
     "afe8b452ddc042df929693771dec70ee": {
      "model_module": "@jupyter-widgets/controls",
      "model_module_version": "2.0.0",
      "model_name": "HTMLStyleModel",
      "state": {
       "description_width": "",
       "font_size": null,
       "text_color": null
      }
     },
     "b00eab87a9d64e6fb47d9bd4417db2b5": {
      "model_module": "@jupyter-widgets/controls",
      "model_module_version": "2.0.0",
      "model_name": "ProgressStyleModel",
      "state": {
       "description_width": ""
      }
     },
     "b5bc453aa2ea423f83be92ea3f51a15b": {
      "model_module": "@jupyter-widgets/controls",
      "model_module_version": "2.0.0",
      "model_name": "HTMLModel",
      "state": {
       "layout": "IPY_MODEL_110e0f3d8ee549418f3d88eb7d7db6dd",
       "style": "IPY_MODEL_8b1a90136b3b42aa92f7445e98bcb257",
       "value": "tokenizer_config.json: 100%"
      }
     },
     "b5ead687eaa043028b26f217e3a32f77": {
      "model_module": "@jupyter-widgets/controls",
      "model_module_version": "2.0.0",
      "model_name": "HTMLModel",
      "state": {
       "layout": "IPY_MODEL_bc9e1c3a2e004540ae60d9a9adf22a37",
       "style": "IPY_MODEL_975b64270e1145d0b2cc66053db2e1e9",
       "value": "pytorch_model.bin: 100%"
      }
     },
     "b6bb0f56e6694d1eb971afeee07e741c": {
      "model_module": "@jupyter-widgets/controls",
      "model_module_version": "2.0.0",
      "model_name": "FloatProgressModel",
      "state": {
       "bar_style": "success",
       "layout": "IPY_MODEL_a616b9ef43ef4b04ac7ebb5f2bacb3d7",
       "max": 456318,
       "style": "IPY_MODEL_8c357ebb6c0647f790da40f3095de8b2",
       "value": 456318
      }
     },
     "b8785b1aa6de47789b02f5a4e0189e8d": {
      "model_module": "@jupyter-widgets/controls",
      "model_module_version": "2.0.0",
      "model_name": "HTMLModel",
      "state": {
       "layout": "IPY_MODEL_987448c69817411caf06ecbc029e466a",
       "style": "IPY_MODEL_4966a2331f564440b0bacb872bf20705",
       "value": "config.json: 100%"
      }
     },
     "b90dd0a0be6441f48f1e026bbda14950": {
      "model_module": "@jupyter-widgets/controls",
      "model_module_version": "2.0.0",
      "model_name": "HTMLStyleModel",
      "state": {
       "description_width": "",
       "font_size": null,
       "text_color": null
      }
     },
     "ba031205031448eda50cbf499cf84bdf": {
      "model_module": "@jupyter-widgets/base",
      "model_module_version": "2.0.0",
      "model_name": "LayoutModel",
      "state": {}
     },
     "bc9e1c3a2e004540ae60d9a9adf22a37": {
      "model_module": "@jupyter-widgets/base",
      "model_module_version": "2.0.0",
      "model_name": "LayoutModel",
      "state": {}
     },
     "c056969ef7b8470ea21a0b8a50b45f1f": {
      "model_module": "@jupyter-widgets/base",
      "model_module_version": "2.0.0",
      "model_name": "LayoutModel",
      "state": {}
     },
     "c6554daba173411f8c670890e470a786": {
      "model_module": "@jupyter-widgets/controls",
      "model_module_version": "2.0.0",
      "model_name": "HTMLModel",
      "state": {
       "layout": "IPY_MODEL_75bb3856a0cc4fcc96ba2abb9202b7e1",
       "style": "IPY_MODEL_08244395def14e7b9ff8d0fac860af79",
       "value": " 456k/456k [00:00&lt;00:00, 13.2MB/s]"
      }
     },
     "caa06e9a6f394c12baf2fccf2ee20def": {
      "model_module": "@jupyter-widgets/base",
      "model_module_version": "2.0.0",
      "model_name": "LayoutModel",
      "state": {}
     },
     "cdc000dd4977404e9bd7b9f23b44de06": {
      "model_module": "@jupyter-widgets/base",
      "model_module_version": "2.0.0",
      "model_name": "LayoutModel",
      "state": {}
     },
     "d2ced53a07d142729b6d09c6bf04525e": {
      "model_module": "@jupyter-widgets/controls",
      "model_module_version": "2.0.0",
      "model_name": "HTMLModel",
      "state": {
       "layout": "IPY_MODEL_c056969ef7b8470ea21a0b8a50b45f1f",
       "style": "IPY_MODEL_72cc54a35f0243feb393f5ea8cfea735",
       "value": " 1.80k/1.80k [00:00&lt;00:00, 157kB/s]"
      }
     },
     "d44d9992c5b04379a8c6c860341f5168": {
      "model_module": "@jupyter-widgets/controls",
      "model_module_version": "2.0.0",
      "model_name": "HBoxModel",
      "state": {
       "children": [
        "IPY_MODEL_b5bc453aa2ea423f83be92ea3f51a15b",
        "IPY_MODEL_e03eb203c6894dcba513afefdec44627",
        "IPY_MODEL_46f27f75cbe141e59e7eaeeaebfb7e2c"
       ],
       "layout": "IPY_MODEL_2ee98dc29dfe48e098f29d3fda48ea8b"
      }
     },
     "d9858e92901943d796838b93eb1c07b4": {
      "model_module": "@jupyter-widgets/controls",
      "model_module_version": "2.0.0",
      "model_name": "ProgressStyleModel",
      "state": {
       "description_width": ""
      }
     },
     "dc405c3169c944b6b903748b93b81d55": {
      "model_module": "@jupyter-widgets/controls",
      "model_module_version": "2.0.0",
      "model_name": "HTMLModel",
      "state": {
       "layout": "IPY_MODEL_ac5e1b080c3e4920a57da812d208de1e",
       "style": "IPY_MODEL_b90dd0a0be6441f48f1e026bbda14950",
       "value": "merges.txt: 100%"
      }
     },
     "e03eb203c6894dcba513afefdec44627": {
      "model_module": "@jupyter-widgets/controls",
      "model_module_version": "2.0.0",
      "model_name": "FloatProgressModel",
      "state": {
       "bar_style": "success",
       "layout": "IPY_MODEL_81e9f9fce34f46d5bda2dc07068e87bd",
       "max": 26,
       "style": "IPY_MODEL_85c9c967f9834f6183f93c55a9cbbf53",
       "value": 26
      }
     },
     "e332937736cb46679455539f9ac1b70c": {
      "model_module": "@jupyter-widgets/base",
      "model_module_version": "2.0.0",
      "model_name": "LayoutModel",
      "state": {}
     },
     "ea22ee4bc3a144b2a69f329a930a4c07": {
      "model_module": "@jupyter-widgets/controls",
      "model_module_version": "2.0.0",
      "model_name": "HTMLModel",
      "state": {
       "layout": "IPY_MODEL_ba031205031448eda50cbf499cf84bdf",
       "style": "IPY_MODEL_4cdd6513f1904512b46bbe21ca5bb29e",
       "value": " 1.22G/1.22G [01:07&lt;00:00, 19.8MB/s]"
      }
     },
     "eed9d693d6184278bbc7928976f091ae": {
      "model_module": "@jupyter-widgets/base",
      "model_module_version": "2.0.0",
      "model_name": "LayoutModel",
      "state": {}
     },
     "f00bbf62886f4290afd3b08a71db39d0": {
      "model_module": "@jupyter-widgets/controls",
      "model_module_version": "2.0.0",
      "model_name": "HBoxModel",
      "state": {
       "children": [
        "IPY_MODEL_dc405c3169c944b6b903748b93b81d55",
        "IPY_MODEL_b6bb0f56e6694d1eb971afeee07e741c",
        "IPY_MODEL_c6554daba173411f8c670890e470a786"
       ],
       "layout": "IPY_MODEL_eed9d693d6184278bbc7928976f091ae"
      }
     }
    },
    "version_major": 2,
    "version_minor": 0
   }
  }
 },
 "nbformat": 4,
 "nbformat_minor": 5
}
