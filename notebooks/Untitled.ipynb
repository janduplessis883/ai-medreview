{
 "cells": [
  {
   "cell_type": "code",
   "execution_count": 1,
   "id": "0a5246c5-5bdf-4864-81e5-680786638ea2",
   "metadata": {},
   "outputs": [],
   "source": [
    "import pandas as pd\n",
    "import seaborn as sns\n",
    "import matplotlib.pyplot as plt"
   ]
  },
  {
   "cell_type": "code",
   "execution_count": 2,
   "id": "d1a061cd-a667-4e33-81d3-b744c10ed1bb",
   "metadata": {},
   "outputs": [
    {
     "data": {
      "text/plain": [
       "(8086, 19)"
      ]
     },
     "execution_count": 2,
     "metadata": {},
     "output_type": "execute_result"
    }
   ],
   "source": [
    "data = pd.read_csv('../ai_medreview/data/data.csv')\n",
    "data.shape"
   ]
  },
  {
   "cell_type": "code",
   "execution_count": 3,
   "id": "2295348e-36ec-4c50-bb46-34863ca37413",
   "metadata": {},
   "outputs": [
    {
     "name": "stderr",
     "output_type": "stream",
     "text": [
      "/Users/janduplessis/.pyenv/versions/3.12.1/envs/lewagon/lib/python3.12/site-packages/tqdm/auto.py:21: TqdmWarning: IProgress not found. Please update jupyter and ipywidgets. See https://ipywidgets.readthedocs.io/en/stable/user_install.html\n",
      "  from .autonotebook import tqdm as notebook_tqdm\n",
      "Some weights of the model checkpoint at cardiffnlp/twitter-roberta-base-sentiment-latest were not used when initializing RobertaForSequenceClassification: ['roberta.pooler.dense.bias', 'roberta.pooler.dense.weight']\n",
      "- This IS expected if you are initializing RobertaForSequenceClassification from the checkpoint of a model trained on another task or with another architecture (e.g. initializing a BertForSequenceClassification model from a BertForPreTraining model).\n",
      "- This IS NOT expected if you are initializing RobertaForSequenceClassification from the checkpoint of a model that you expect to be exactly identical (initializing a BertForSequenceClassification model from a BertForSequenceClassification model).\n",
      "Some weights of the model checkpoint at dbmdz/bert-large-cased-finetuned-conll03-english were not used when initializing BertForTokenClassification: ['bert.pooler.dense.bias', 'bert.pooler.dense.weight']\n",
      "- This IS expected if you are initializing BertForTokenClassification from the checkpoint of a model trained on another task or with another architecture (e.g. initializing a BertForSequenceClassification model from a BertForPreTraining model).\n",
      "- This IS NOT expected if you are initializing BertForTokenClassification from the checkpoint of a model that you expect to be exactly identical (initializing a BertForSequenceClassification model from a BertForSequenceClassification model).\n"
     ]
    }
   ],
   "source": [
    "from ai_medreview.data import *"
   ]
  },
  {
   "cell_type": "code",
   "execution_count": 4,
   "id": "4b61c6f5-469f-4c14-926b-8e93a4c64d5d",
   "metadata": {},
   "outputs": [
    {
     "name": "stderr",
     "output_type": "stream",
     "text": [
      "\u001b[32m2024-06-24 14:04:10.067\u001b[0m | \u001b[1mINFO    \u001b[0m | \u001b[36mai_medreview.utils\u001b[0m:\u001b[36mwrapper\u001b[0m:\u001b[36m19\u001b[0m - \u001b[1m🖥️    Started: 'load_google_sheet'\u001b[0m\n",
      "\u001b[32m2024-06-24 14:04:14.262\u001b[0m | \u001b[1mINFO    \u001b[0m | \u001b[36mai_medreview.utils\u001b[0m:\u001b[36mwrapper\u001b[0m:\u001b[36m25\u001b[0m - \u001b[1m✅ Completed: 'load_google_sheet' ⚡️4.193807 sec\u001b[0m\n"
     ]
    }
   ],
   "source": [
    "df = load_google_sheet()"
   ]
  },
  {
   "cell_type": "code",
   "execution_count": 5,
   "id": "1253d2a9-4064-45ba-a053-edd5ba403b2b",
   "metadata": {},
   "outputs": [
    {
     "data": {
      "text/html": [
       "<div>\n",
       "<style scoped>\n",
       "    .dataframe tbody tr th:only-of-type {\n",
       "        vertical-align: middle;\n",
       "    }\n",
       "\n",
       "    .dataframe tbody tr th {\n",
       "        vertical-align: top;\n",
       "    }\n",
       "\n",
       "    .dataframe thead th {\n",
       "        text-align: right;\n",
       "    }\n",
       "</style>\n",
       "<table border=\"1\" class=\"dataframe\">\n",
       "  <thead>\n",
       "    <tr style=\"text-align: right;\">\n",
       "      <th></th>\n",
       "      <th>submission_id</th>\n",
       "      <th>respondent-id</th>\n",
       "      <th>time</th>\n",
       "      <th>rating</th>\n",
       "      <th>free_text</th>\n",
       "      <th>do_better</th>\n",
       "      <th>pcn</th>\n",
       "      <th>surgery</th>\n",
       "    </tr>\n",
       "  </thead>\n",
       "  <tbody>\n",
       "    <tr>\n",
       "      <th>5386</th>\n",
       "      <td>mannual</td>\n",
       "      <td>upload</td>\n",
       "      <td>2022-12-14 15:36:00</td>\n",
       "      <td>Extremely likely</td>\n",
       "      <td>Nothing</td>\n",
       "      <td></td>\n",
       "      <td>Brompton-Health-PCN</td>\n",
       "      <td>Scarsdale-Medical-Centre</td>\n",
       "    </tr>\n",
       "    <tr>\n",
       "      <th>5387</th>\n",
       "      <td>mannual</td>\n",
       "      <td>upload</td>\n",
       "      <td>2022-12-14 15:36:00</td>\n",
       "      <td>Extremely likely</td>\n",
       "      <td>Really Likely! Extremely likely Practice!!!!</td>\n",
       "      <td></td>\n",
       "      <td>Brompton-Health-PCN</td>\n",
       "      <td>Scarsdale-Medical-Centre</td>\n",
       "    </tr>\n",
       "    <tr>\n",
       "      <th>5388</th>\n",
       "      <td>mannual</td>\n",
       "      <td>upload</td>\n",
       "      <td>2022-12-15 16:43:00</td>\n",
       "      <td>Extremely likely</td>\n",
       "      <td>Appointments sometimes are far ahead, but over...</td>\n",
       "      <td></td>\n",
       "      <td>Brompton-Health-PCN</td>\n",
       "      <td>Scarsdale-Medical-Centre</td>\n",
       "    </tr>\n",
       "    <tr>\n",
       "      <th>5389</th>\n",
       "      <td>mannual</td>\n",
       "      <td>upload</td>\n",
       "      <td>2022-12-15 18:15:00</td>\n",
       "      <td>Extremely likely</td>\n",
       "      <td>Nothing I can think of</td>\n",
       "      <td></td>\n",
       "      <td>Brompton-Health-PCN</td>\n",
       "      <td>Scarsdale-Medical-Centre</td>\n",
       "    </tr>\n",
       "    <tr>\n",
       "      <th>5390</th>\n",
       "      <td>mannual</td>\n",
       "      <td>upload</td>\n",
       "      <td>2022-12-16 11:21:00</td>\n",
       "      <td>Extremely likely</td>\n",
       "      <td>Very helpful and prompt service. Definitely re...</td>\n",
       "      <td></td>\n",
       "      <td>Brompton-Health-PCN</td>\n",
       "      <td>Scarsdale-Medical-Centre</td>\n",
       "    </tr>\n",
       "  </tbody>\n",
       "</table>\n",
       "</div>"
      ],
      "text/plain": [
       "     submission_id respondent-id                time            rating  \\\n",
       "5386       mannual        upload 2022-12-14 15:36:00  Extremely likely   \n",
       "5387       mannual        upload 2022-12-14 15:36:00  Extremely likely   \n",
       "5388       mannual        upload 2022-12-15 16:43:00  Extremely likely   \n",
       "5389       mannual        upload 2022-12-15 18:15:00  Extremely likely   \n",
       "5390       mannual        upload 2022-12-16 11:21:00  Extremely likely   \n",
       "\n",
       "                                              free_text do_better  \\\n",
       "5386                                            Nothing             \n",
       "5387       Really Likely! Extremely likely Practice!!!!             \n",
       "5388  Appointments sometimes are far ahead, but over...             \n",
       "5389                             Nothing I can think of             \n",
       "5390  Very helpful and prompt service. Definitely re...             \n",
       "\n",
       "                      pcn                   surgery  \n",
       "5386  Brompton-Health-PCN  Scarsdale-Medical-Centre  \n",
       "5387  Brompton-Health-PCN  Scarsdale-Medical-Centre  \n",
       "5388  Brompton-Health-PCN  Scarsdale-Medical-Centre  \n",
       "5389  Brompton-Health-PCN  Scarsdale-Medical-Centre  \n",
       "5390  Brompton-Health-PCN  Scarsdale-Medical-Centre  "
      ]
     },
     "execution_count": 5,
     "metadata": {},
     "output_type": "execute_result"
    }
   ],
   "source": [
    "df.head()"
   ]
  },
  {
   "cell_type": "code",
   "execution_count": 6,
   "id": "757ac87b-7313-4bf9-8b98-138eee9f9382",
   "metadata": {},
   "outputs": [],
   "source": [
    "def find_people(text):\n",
    "\n",
    "    # Check if the text is empty or not a string\n",
    "    if not text or not isinstance(text, str):\n",
    "        return text  # Return the text as-is if it's invalid or empty\n",
    "\n",
    "    people = []\n",
    "    try:\n",
    "        # Run the NER pipeline on the valid input text\n",
    "        entities = ner_pipeline(text)\n",
    "\n",
    "        # Iterate over detected entities\n",
    "        for entity in entities:\n",
    "            # Check if the entity is classified as a person\n",
    "            if entity[\"entity_group\"] == \"PER\":\n",
    "                # Add the persons name to a list.\n",
    "               people.append(entity[\"word\"])\n",
    "    except ValueError as e:\n",
    "        # Log the error for debugging\n",
    "        print(f\"Error processing text: {text}\")\n",
    "        raise e\n",
    "\n",
    "    return people"
   ]
  },
  {
   "cell_type": "code",
   "execution_count": null,
   "id": "4683eb62-46fe-4a74-bac5-676b47d5df26",
   "metadata": {},
   "outputs": [],
   "source": []
  },
  {
   "cell_type": "code",
   "execution_count": 7,
   "id": "cef0a8a5-f72a-4dad-aadd-64802b89edac",
   "metadata": {},
   "outputs": [
    {
     "name": "stderr",
     "output_type": "stream",
     "text": [
      "100%|█████████████████████████████████████████████████████████████████████████████████| 8087/8087 [25:37<00:00,  5.26it/s]\n"
     ]
    }
   ],
   "source": [
    "df[\"free_text_people\"] = df[\"free_text\"].progress_apply(find_people)"
   ]
  },
  {
   "cell_type": "code",
   "execution_count": null,
   "id": "1e510f4f-55a3-49cd-9d62-e028a8248459",
   "metadata": {},
   "outputs": [],
   "source": [
    "people1 = df2['free_text_people'].to_list()"
   ]
  },
  {
   "cell_type": "code",
   "execution_count": null,
   "id": "9b2abb3e-9148-459b-beda-992533816b4b",
   "metadata": {},
   "outputs": [],
   "source": [
    "for l in df2['free_text_people']:\n",
    "    if len(list(l)) != 0:\n",
    "        print(list(l))"
   ]
  },
  {
   "cell_type": "code",
   "execution_count": null,
   "id": "7932011c-7544-447d-a36d-ea173c8ca80c",
   "metadata": {},
   "outputs": [],
   "source": [
    "df[\"do_better_people\"] = df[\"do_better\"].progress_apply(find_people)"
   ]
  },
  {
   "cell_type": "code",
   "execution_count": null,
   "id": "9a66924d-9d98-422b-856f-926fbde278e6",
   "metadata": {},
   "outputs": [],
   "source": [
    "for l in df['do_better_people']:\n",
    "    if len(list(l)) != 0:\n",
    "        print(list(l))"
   ]
  },
  {
   "cell_type": "code",
   "execution_count": null,
   "id": "7b7c0224-725f-40c7-901a-65b288093359",
   "metadata": {},
   "outputs": [],
   "source": [
    "people2 = df[\"do_better_people\"].to_list()"
   ]
  },
  {
   "cell_type": "code",
   "execution_count": null,
   "id": "fa23305f-07d1-4677-ab1f-a746b04c041a",
   "metadata": {},
   "outputs": [],
   "source": [
    "import pandas as pd\n",
    "from transformers import pipeline\n",
    "\n",
    "# Initialize the NER pipeline\n",
    "ner_pipeline = pipeline(\"ner\", grouped_entities=True)\n",
    "\n",
    "def find_people(text):\n",
    "    \"\"\"\n",
    "    Extract names of people from the given text using NER.\n",
    "    \n",
    "    Args:\n",
    "    text (str): The input text to process.\n",
    "    \n",
    "    Returns:\n",
    "    list: A list of names classified as persons.\n",
    "    \"\"\"\n",
    "    if not text or not isinstance(text, str):\n",
    "        return []  # Return an empty list if text is invalid or empty\n",
    "\n",
    "    people = []\n",
    "    try:\n",
    "        entities = ner_pipeline(text)\n",
    "        for entity in entities:\n",
    "            if entity[\"entity_group\"] == \"PER\":\n",
    "                people.append(entity[\"word\"])\n",
    "    except ValueError as e:\n",
    "        print(f\"Error processing text: {text}\")\n",
    "        raise e\n",
    "\n",
    "    return people\n",
    "\n",
    "def extract_people_from_dataframe(df, text_column):\n",
    "    \"\"\"\n",
    "    Process each row in the DataFrame to extract names of people from a specified text column.\n",
    "    \n",
    "    Args:\n",
    "    df (pd.DataFrame): The input DataFrame containing text data.\n",
    "    text_column (str): The name of the column containing text data.\n",
    "    \n",
    "    Returns:\n",
    "    pd.DataFrame: A new DataFrame with an additional column for extracted names.\n",
    "    \"\"\"\n",
    "    if text_column not in df.columns:\n",
    "        raise ValueError(f\"Column '{text_column}' does not exist in the DataFrame\")\n",
    "\n",
    "    # Apply the find_people function to each row in the specified text column\n",
    "    df['people'] = df[text_column].apply(find_people)\n",
    "    \n",
    "    return df\n",
    "\n",
    "# Example usage\n",
    "if __name__ == \"__main__\":\n",
    "    # Sample DataFrame\n",
    "    data = {\n",
    "        'id': [1, 2, 3],\n",
    "        'text': [\n",
    "            \"Barack Obama was the 44th President of the United States.\",\n",
    "            \"Elon Musk is the CEO of SpaceX and Tesla.\",\n",
    "            \"Serena Williams is a professional tennis player and so is Stephie Graff, and Sammy David Junior\"\n",
    "        ]\n",
    "    }\n",
    "    df = pd.DataFrame(data)\n",
    "    \n",
    "    # Extract names of people from the text column\n",
    "    result_df = extract_people_from_dataframe(df, 'text')\n",
    "    \n",
    "    # Display the result\n",
    "    print(result_df)"
   ]
  },
  {
   "cell_type": "code",
   "execution_count": null,
   "id": "257f910b-feac-4c19-9a52-a772b51fb616",
   "metadata": {},
   "outputs": [],
   "source": []
  },
  {
   "cell_type": "code",
   "execution_count": null,
   "id": "b3ba3b5a-5b2b-462f-8945-6d9081ac9280",
   "metadata": {},
   "outputs": [],
   "source": []
  }
 ],
 "metadata": {
  "kernelspec": {
   "display_name": "Python 3 (ipykernel)",
   "language": "python",
   "name": "python3"
  },
  "language_info": {
   "codemirror_mode": {
    "name": "ipython",
    "version": 3
   },
   "file_extension": ".py",
   "mimetype": "text/x-python",
   "name": "python",
   "nbconvert_exporter": "python",
   "pygments_lexer": "ipython3",
   "version": "3.12.1"
  },
  "widgets": {
   "application/vnd.jupyter.widget-state+json": {
    "state": {},
    "version_major": 2,
    "version_minor": 0
   }
  }
 },
 "nbformat": 4,
 "nbformat_minor": 5
}
