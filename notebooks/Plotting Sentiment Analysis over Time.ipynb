{
 "cells": [
  {
   "cell_type": "code",
   "execution_count": 3,
   "id": "6dc4e7f2",
   "metadata": {},
   "outputs": [],
   "source": [
    "import pandas as pd \n",
    "import seaborn as sns\n",
    "import matplotlib.pyplot as plt"
   ]
  },
  {
   "cell_type": "code",
   "execution_count": 4,
   "id": "6db78476",
   "metadata": {},
   "outputs": [],
   "source": [
    "from friendsfamilytest.params import *"
   ]
  },
  {
   "cell_type": "code",
   "execution_count": 27,
   "id": "8a5b5176",
   "metadata": {},
   "outputs": [],
   "source": [
    "data = pd.read_csv(f'{DATA_PATH}/data.csv')"
   ]
  },
  {
   "cell_type": "code",
   "execution_count": 28,
   "id": "e70014c5",
   "metadata": {},
   "outputs": [
    {
     "name": "stdout",
     "output_type": "stream",
     "text": [
      "<class 'pandas.core.frame.DataFrame'>\n",
      "RangeIndex: 624 entries, 0 to 623\n",
      "Data columns (total 12 columns):\n",
      " #   Column              Non-Null Count  Dtype  \n",
      "---  ------              --------------  -----  \n",
      " 0   time                624 non-null    object \n",
      " 1   rating              624 non-null    object \n",
      " 2   free_text           488 non-null    object \n",
      " 3   do_better           209 non-null    object \n",
      " 4   free_text_len       624 non-null    int64  \n",
      " 5   do_better_len       624 non-null    int64  \n",
      " 6   rating_score        613 non-null    float64\n",
      " 7   classif             624 non-null    object \n",
      " 8   classif_scores      624 non-null    float64\n",
      " 9   sentiment           624 non-null    object \n",
      " 10  sentiment_score     624 non-null    float64\n",
      " 11  improvement_labels  209 non-null    object \n",
      "dtypes: float64(3), int64(2), object(7)\n",
      "memory usage: 58.6+ KB\n"
     ]
    }
   ],
   "source": [
    "data.info()"
   ]
  },
  {
   "cell_type": "code",
   "execution_count": 29,
   "id": "1106d2c5",
   "metadata": {},
   "outputs": [],
   "source": [
    "data['time'] = pd.to_datetime(data['time'])"
   ]
  },
  {
   "cell_type": "code",
   "execution_count": 30,
   "id": "018b633f",
   "metadata": {},
   "outputs": [
    {
     "name": "stdout",
     "output_type": "stream",
     "text": [
      "pre drop: (624, 12)\n",
      "post drop: (624, 12)\n"
     ]
    }
   ],
   "source": [
    "print(f'pre drop: {data.shape}')\n",
    "data.drop_duplicates()\n",
    "print(f'post drop: {data.shape}')"
   ]
  },
  {
   "cell_type": "code",
   "execution_count": 31,
   "id": "0823f82d",
   "metadata": {},
   "outputs": [],
   "source": [
    "new = data[['time', 'sentiment', 'sentiment_score']].copy()"
   ]
  },
  {
   "cell_type": "code",
   "execution_count": 32,
   "id": "7edff30e",
   "metadata": {},
   "outputs": [],
   "source": [
    "new.sort_values(by='time', inplace=True)"
   ]
  },
  {
   "cell_type": "code",
   "execution_count": 33,
   "id": "37a56bbe",
   "metadata": {},
   "outputs": [],
   "source": [
    "# Set the 'time' column as the index\n",
    "new.set_index('time', inplace=True)"
   ]
  },
  {
   "cell_type": "code",
   "execution_count": 36,
   "id": "716bae6a",
   "metadata": {},
   "outputs": [],
   "source": [
    "\n",
    "\n",
    "# Now, if you have one column for scores and another for the sentiment\n",
    "# First, you'll need to convert the sentiment to separate columns\n",
    "df_pivot = new.pivot_table(index=new.index, columns='sentiment', values='sentiment_score', aggfunc='mean')\n",
    "\n",
    "# Now that you have a pivot table, you can resample it by month to get the mean values\n",
    "monthly_means = df_pivot.resample('M').mean()\n",
    "\n",
    "# monthly_means will now have the average of the sentiment scores for each month\n",
    "\n"
   ]
  },
  {
   "cell_type": "code",
   "execution_count": 37,
   "id": "986b8491",
   "metadata": {},
   "outputs": [
    {
     "data": {
      "text/html": [
       "<div>\n",
       "<style scoped>\n",
       "    .dataframe tbody tr th:only-of-type {\n",
       "        vertical-align: middle;\n",
       "    }\n",
       "\n",
       "    .dataframe tbody tr th {\n",
       "        vertical-align: top;\n",
       "    }\n",
       "\n",
       "    .dataframe thead th {\n",
       "        text-align: right;\n",
       "    }\n",
       "</style>\n",
       "<table border=\"1\" class=\"dataframe\">\n",
       "  <thead>\n",
       "    <tr style=\"text-align: right;\">\n",
       "      <th>sentiment</th>\n",
       "      <th>negative</th>\n",
       "      <th>neutral</th>\n",
       "      <th>positive</th>\n",
       "    </tr>\n",
       "    <tr>\n",
       "      <th>time</th>\n",
       "      <th></th>\n",
       "      <th></th>\n",
       "      <th></th>\n",
       "    </tr>\n",
       "  </thead>\n",
       "  <tbody>\n",
       "    <tr>\n",
       "      <th>2023-07-31</th>\n",
       "      <td>0.777425</td>\n",
       "      <td>0.751541</td>\n",
       "      <td>0.771399</td>\n",
       "    </tr>\n",
       "    <tr>\n",
       "      <th>2023-08-31</th>\n",
       "      <td>0.824313</td>\n",
       "      <td>0.646260</td>\n",
       "      <td>0.760963</td>\n",
       "    </tr>\n",
       "    <tr>\n",
       "      <th>2023-09-30</th>\n",
       "      <td>0.775967</td>\n",
       "      <td>0.694820</td>\n",
       "      <td>0.791779</td>\n",
       "    </tr>\n",
       "    <tr>\n",
       "      <th>2023-10-31</th>\n",
       "      <td>0.800190</td>\n",
       "      <td>0.657973</td>\n",
       "      <td>0.757178</td>\n",
       "    </tr>\n",
       "    <tr>\n",
       "      <th>2023-11-30</th>\n",
       "      <td>0.646914</td>\n",
       "      <td>0.607595</td>\n",
       "      <td>0.717819</td>\n",
       "    </tr>\n",
       "    <tr>\n",
       "      <th>2023-12-31</th>\n",
       "      <td>0.750231</td>\n",
       "      <td>0.678164</td>\n",
       "      <td>0.745230</td>\n",
       "    </tr>\n",
       "    <tr>\n",
       "      <th>2024-01-31</th>\n",
       "      <td>NaN</td>\n",
       "      <td>0.740755</td>\n",
       "      <td>0.672262</td>\n",
       "    </tr>\n",
       "  </tbody>\n",
       "</table>\n",
       "</div>"
      ],
      "text/plain": [
       "sentiment   negative   neutral  positive\n",
       "time                                    \n",
       "2023-07-31  0.777425  0.751541  0.771399\n",
       "2023-08-31  0.824313  0.646260  0.760963\n",
       "2023-09-30  0.775967  0.694820  0.791779\n",
       "2023-10-31  0.800190  0.657973  0.757178\n",
       "2023-11-30  0.646914  0.607595  0.717819\n",
       "2023-12-31  0.750231  0.678164  0.745230\n",
       "2024-01-31       NaN  0.740755  0.672262"
      ]
     },
     "execution_count": 37,
     "metadata": {},
     "output_type": "execute_result"
    }
   ],
   "source": [
    "monthly_mean]]]]]]"
   ]
  },
  {
   "cell_type": "markdown",
   "id": "e3b30fd9",
   "metadata": {},
   "source": []
  },
  {
   "cell_type": "code",
   "execution_count": null,
   "id": "386493eb",
   "metadata": {},
   "outputs": [],
   "source": []
  },
  {
   "cell_type": "code",
   "execution_count": null,
   "id": "af2a938e",
   "metadata": {},
   "outputs": [],
   "source": []
  },
  {
   "cell_type": "code",
   "execution_count": null,
   "id": "818a309d",
   "metadata": {},
   "outputs": [],
   "source": []
  },
  {
   "cell_type": "code",
   "execution_count": null,
   "id": "74051406",
   "metadata": {},
   "outputs": [],
   "source": [
    "sns."
   ]
  }
 ],
 "metadata": {
  "hide_input": false,
  "kernelspec": {
   "display_name": "Python 3 (ipykernel)",
   "language": "python",
   "name": "python3"
  },
  "language_info": {
   "codemirror_mode": {
    "name": "ipython",
    "version": 3
   },
   "file_extension": ".py",
   "mimetype": "text/x-python",
   "name": "python",
   "nbconvert_exporter": "python",
   "pygments_lexer": "ipython3",
   "version": "3.10.6"
  },
  "toc": {
   "base_numbering": 1,
   "nav_menu": {},
   "number_sections": true,
   "sideBar": true,
   "skip_h1_title": false,
   "title_cell": "Table of Contents",
   "title_sidebar": "Contents",
   "toc_cell": false,
   "toc_position": {},
   "toc_section_display": true,
   "toc_window_display": false
  }
 },
 "nbformat": 4,
 "nbformat_minor": 5
}
