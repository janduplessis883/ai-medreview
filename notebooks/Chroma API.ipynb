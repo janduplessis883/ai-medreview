{
 "cells": [
  {
   "cell_type": "markdown",
   "id": "d0854ce7-693a-441c-b45a-032fb6dc7343",
   "metadata": {},
   "source": [
    "<img width=\"100\" height=\"100\" src=\"https://img.icons8.com/isometric/100/api.png\" alt=\"api\"/>"
   ]
  },
  {
   "cell_type": "markdown",
   "id": "f258f823-4236-4394-bffc-0e808be4fe4e",
   "metadata": {},
   "source": [
    "# **Chroma** API\n",
    "https://docs.trychroma.com/api-reference"
   ]
  },
  {
   "cell_type": "code",
   "execution_count": 4,
   "id": "40a72bdf-1296-4583-aee3-9607c3911bad",
   "metadata": {},
   "outputs": [],
   "source": [
    "import chromadb\n",
    "\n",
    "client = chromadb.PersistentClient(path=\"../ai_medreview/data/chroma/\")"
   ]
  },
  {
   "cell_type": "code",
   "execution_count": 5,
   "id": "91b2e8ac-045e-497a-bb2b-01e10ead3c09",
   "metadata": {},
   "outputs": [
    {
     "data": {
      "text/plain": [
       "[Collection(name=langchain), Collection(name=GP_Surgery_Reviews)]"
      ]
     },
     "execution_count": 5,
     "metadata": {},
     "output_type": "execute_result"
    }
   ],
   "source": [
    "client.list_collections()"
   ]
  },
  {
   "cell_type": "code",
   "execution_count": 9,
   "id": "0bc8c3b3-0acf-4497-8fd1-c4fe97174d91",
   "metadata": {},
   "outputs": [],
   "source": [
    "# get an existing collection\n",
    "collection = client.get_collection(\"langchain\")"
   ]
  },
  {
   "cell_type": "code",
   "execution_count": 10,
   "id": "8d539cd9-f2c6-4426-a6c8-f19d7848ed65",
   "metadata": {},
   "outputs": [
    {
     "data": {
      "text/plain": [
       "0"
      ]
     },
     "execution_count": 10,
     "metadata": {},
     "output_type": "execute_result"
    }
   ],
   "source": [
    "collection.count()"
   ]
  },
  {
   "cell_type": "code",
   "execution_count": null,
   "id": "369e1799-5748-4adb-b939-62926b3fd8bb",
   "metadata": {},
   "outputs": [],
   "source": []
  },
  {
   "cell_type": "code",
   "execution_count": null,
   "id": "ad530951-0505-4d03-a8ce-d4f86af0dc4d",
   "metadata": {},
   "outputs": [],
   "source": []
  },
  {
   "cell_type": "code",
   "execution_count": null,
   "id": "74e9f36e-723a-4969-8a38-5f4fe2f10081",
   "metadata": {},
   "outputs": [],
   "source": []
  },
  {
   "cell_type": "code",
   "execution_count": null,
   "id": "f9bfe011-50a6-4229-a35d-fff3c999d0a9",
   "metadata": {},
   "outputs": [],
   "source": []
  },
  {
   "cell_type": "code",
   "execution_count": null,
   "id": "d3be839c-8c04-4734-b7b3-3d58d6454f2f",
   "metadata": {},
   "outputs": [],
   "source": []
  },
  {
   "cell_type": "code",
   "execution_count": null,
   "id": "95224a6f-d73b-4fae-a651-7301118d68e9",
   "metadata": {},
   "outputs": [],
   "source": []
  }
 ],
 "metadata": {
  "kernelspec": {
   "display_name": "Python 3 (ipykernel)",
   "language": "python",
   "name": "python3"
  },
  "language_info": {
   "codemirror_mode": {
    "name": "ipython",
    "version": 3
   },
   "file_extension": ".py",
   "mimetype": "text/x-python",
   "name": "python",
   "nbconvert_exporter": "python",
   "pygments_lexer": "ipython3",
   "version": "3.10.6"
  },
  "widgets": {
   "application/vnd.jupyter.widget-state+json": {
    "state": {},
    "version_major": 2,
    "version_minor": 0
   }
  }
 },
 "nbformat": 4,
 "nbformat_minor": 5
}
