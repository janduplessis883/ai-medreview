{
 "cells": [
  {
   "cell_type": "markdown",
   "id": "b50f3a43",
   "metadata": {},
   "source": [
    "![Static Badge](https://img.shields.io/badge/GitHub-janduplessis883-%23aabd3b)  ![Static Badge](https://img.shields.io/badge/Python-3.10.6-%23ae4f4d) ![Static Badge](https://img.shields.io/badge/Telegram-%40jdp146-%2354a7e5?logo=telegram)"
   ]
  },
  {
   "cell_type": "code",
   "execution_count": 1,
   "id": "f35329db",
   "metadata": {},
   "outputs": [
    {
     "name": "stderr",
     "output_type": "stream",
     "text": [
      "Some weights of the model checkpoint at cardiffnlp/twitter-roberta-base-sentiment-latest were not used when initializing RobertaForSequenceClassification: ['roberta.pooler.dense.bias', 'roberta.pooler.dense.weight']\n",
      "- This IS expected if you are initializing RobertaForSequenceClassification from the checkpoint of a model trained on another task or with another architecture (e.g. initializing a BertForSequenceClassification model from a BertForPreTraining model).\n",
      "- This IS NOT expected if you are initializing RobertaForSequenceClassification from the checkpoint of a model that you expect to be exactly identical (initializing a BertForSequenceClassification model from a BertForSequenceClassification model).\n",
      "Some weights of the model checkpoint at dbmdz/bert-large-cased-finetuned-conll03-english were not used when initializing BertForTokenClassification: ['bert.pooler.dense.bias', 'bert.pooler.dense.weight']\n",
      "- This IS expected if you are initializing BertForTokenClassification from the checkpoint of a model trained on another task or with another architecture (e.g. initializing a BertForSequenceClassification model from a BertForPreTraining model).\n",
      "- This IS NOT expected if you are initializing BertForTokenClassification from the checkpoint of a model that you expect to be exactly identical (initializing a BertForSequenceClassification model from a BertForSequenceClassification model).\n"
     ]
    }
   ],
   "source": [
    "from friendsfamilytest.params import *\n",
    "from friendsfamilytest.sheethelper import *\n",
    "from friendsfamilytest.data import *\n",
    "from friendsfamilytest.utils import *\n",
    "\n",
    "import pandas as pd \n",
    "import seaborn as sns\n",
    "import plotly.express as px\n",
    "\n",
    "from wordcloud import WordCloud\n",
    "%load_ext autoreload\n",
    "%autoreload 2\n",
    "%config InlineBackend.figure_formats='retina'"
   ]
  },
  {
   "cell_type": "code",
   "execution_count": 2,
   "id": "789d1c83",
   "metadata": {},
   "outputs": [
    {
     "name": "stderr",
     "output_type": "stream",
     "text": [
      "\u001b[32m2024-03-31 18:54:37.826\u001b[0m | \u001b[1mINFO    \u001b[0m | \u001b[36mfriendsfamilytest.utils\u001b[0m:\u001b[36mwrapper\u001b[0m:\u001b[36m19\u001b[0m - \u001b[1m🖥️    Started: 'load_google_sheet'\u001b[0m\n",
      "\u001b[32m2024-03-31 18:54:39.898\u001b[0m | \u001b[1mINFO    \u001b[0m | \u001b[36mfriendsfamilytest.utils\u001b[0m:\u001b[36mwrapper\u001b[0m:\u001b[36m25\u001b[0m - \u001b[1m✅ Completed: 'load_google_sheet' ⚡️2.071577 sec\u001b[0m\n"
     ]
    }
   ],
   "source": [
    "data = load_google_sheet()"
   ]
  },
  {
   "cell_type": "code",
   "execution_count": 3,
   "id": "2201ebd6",
   "metadata": {},
   "outputs": [
    {
     "data": {
      "text/html": [
       "<div>\n",
       "<style scoped>\n",
       "    .dataframe tbody tr th:only-of-type {\n",
       "        vertical-align: middle;\n",
       "    }\n",
       "\n",
       "    .dataframe tbody tr th {\n",
       "        vertical-align: top;\n",
       "    }\n",
       "\n",
       "    .dataframe thead th {\n",
       "        text-align: right;\n",
       "    }\n",
       "</style>\n",
       "<table border=\"1\" class=\"dataframe\">\n",
       "  <thead>\n",
       "    <tr style=\"text-align: right;\">\n",
       "      <th></th>\n",
       "      <th>time</th>\n",
       "      <th>rating</th>\n",
       "      <th>free_text</th>\n",
       "      <th>do_better</th>\n",
       "      <th>surgery</th>\n",
       "    </tr>\n",
       "  </thead>\n",
       "  <tbody>\n",
       "    <tr>\n",
       "      <th>0</th>\n",
       "      <td>2023-07-13 15:28:22</td>\n",
       "      <td>Extremely likely</td>\n",
       "      <td>Very friendly caring staff, treated me with re...</td>\n",
       "      <td>Keep it up</td>\n",
       "      <td>Earls Court Surgery</td>\n",
       "    </tr>\n",
       "    <tr>\n",
       "      <th>1</th>\n",
       "      <td>2023-07-13 15:29:16</td>\n",
       "      <td>Extremely likely</td>\n",
       "      <td>so good so confidential</td>\n",
       "      <td></td>\n",
       "      <td>Earls Court Surgery</td>\n",
       "    </tr>\n",
       "    <tr>\n",
       "      <th>2</th>\n",
       "      <td>2023-07-13 15:29:21</td>\n",
       "      <td>Extremely likely</td>\n",
       "      <td>The doctor was very understanding and very kno...</td>\n",
       "      <td>No. It was the best.</td>\n",
       "      <td>Earls Court Surgery</td>\n",
       "    </tr>\n",
       "    <tr>\n",
       "      <th>3</th>\n",
       "      <td>2023-07-13 15:30:10</td>\n",
       "      <td>Extremely likely</td>\n",
       "      <td>Dr E was extremely nice</td>\n",
       "      <td>the receptionist was very unkind</td>\n",
       "      <td>Earls Court Surgery</td>\n",
       "    </tr>\n",
       "    <tr>\n",
       "      <th>4</th>\n",
       "      <td>2023-07-13 15:31:48</td>\n",
       "      <td>Extremely likely</td>\n",
       "      <td>I was spoken to politely on the phone and a te...</td>\n",
       "      <td>No. I was happy with everything.</td>\n",
       "      <td>Earls Court Surgery</td>\n",
       "    </tr>\n",
       "  </tbody>\n",
       "</table>\n",
       "</div>"
      ],
      "text/plain": [
       "                 time            rating  \\\n",
       "0 2023-07-13 15:28:22  Extremely likely   \n",
       "1 2023-07-13 15:29:16  Extremely likely   \n",
       "2 2023-07-13 15:29:21  Extremely likely   \n",
       "3 2023-07-13 15:30:10  Extremely likely   \n",
       "4 2023-07-13 15:31:48  Extremely likely   \n",
       "\n",
       "                                           free_text  \\\n",
       "0  Very friendly caring staff, treated me with re...   \n",
       "1                            so good so confidential   \n",
       "2  The doctor was very understanding and very kno...   \n",
       "3                           Dr E was extremely nice    \n",
       "4  I was spoken to politely on the phone and a te...   \n",
       "\n",
       "                            do_better              surgery  \n",
       "0                          Keep it up  Earls Court Surgery  \n",
       "1                                      Earls Court Surgery  \n",
       "2                No. It was the best.  Earls Court Surgery  \n",
       "3   the receptionist was very unkind   Earls Court Surgery  \n",
       "4  No. I was happy with everything.    Earls Court Surgery  "
      ]
     },
     "execution_count": 3,
     "metadata": {},
     "output_type": "execute_result"
    }
   ],
   "source": [
    "data.head()"
   ]
  },
  {
   "cell_type": "code",
   "execution_count": 8,
   "id": "bc6d5aa4",
   "metadata": {},
   "outputs": [],
   "source": [
    "data['free_text_len'] = data['free_text'].str.split().apply(len)\n",
    "data['do_better_len'] = data['do_better'].str.split().apply(len)"
   ]
  },
  {
   "cell_type": "code",
   "execution_count": 9,
   "id": "d5311ce4",
   "metadata": {},
   "outputs": [
    {
     "data": {
      "text/html": [
       "<div>\n",
       "<style scoped>\n",
       "    .dataframe tbody tr th:only-of-type {\n",
       "        vertical-align: middle;\n",
       "    }\n",
       "\n",
       "    .dataframe tbody tr th {\n",
       "        vertical-align: top;\n",
       "    }\n",
       "\n",
       "    .dataframe thead th {\n",
       "        text-align: right;\n",
       "    }\n",
       "</style>\n",
       "<table border=\"1\" class=\"dataframe\">\n",
       "  <thead>\n",
       "    <tr style=\"text-align: right;\">\n",
       "      <th></th>\n",
       "      <th>time</th>\n",
       "      <th>rating</th>\n",
       "      <th>free_text</th>\n",
       "      <th>do_better</th>\n",
       "      <th>surgery</th>\n",
       "      <th>free_text_len</th>\n",
       "      <th>do_better_len</th>\n",
       "    </tr>\n",
       "  </thead>\n",
       "  <tbody>\n",
       "    <tr>\n",
       "      <th>0</th>\n",
       "      <td>2023-07-13 15:28:22</td>\n",
       "      <td>Extremely likely</td>\n",
       "      <td>Very friendly caring staff, treated me with re...</td>\n",
       "      <td>Keep it up</td>\n",
       "      <td>Earls Court Surgery</td>\n",
       "      <td>13</td>\n",
       "      <td>3</td>\n",
       "    </tr>\n",
       "    <tr>\n",
       "      <th>1</th>\n",
       "      <td>2023-07-13 15:29:16</td>\n",
       "      <td>Extremely likely</td>\n",
       "      <td>so good so confidential</td>\n",
       "      <td></td>\n",
       "      <td>Earls Court Surgery</td>\n",
       "      <td>4</td>\n",
       "      <td>0</td>\n",
       "    </tr>\n",
       "    <tr>\n",
       "      <th>2</th>\n",
       "      <td>2023-07-13 15:29:21</td>\n",
       "      <td>Extremely likely</td>\n",
       "      <td>The doctor was very understanding and very kno...</td>\n",
       "      <td>No. It was the best.</td>\n",
       "      <td>Earls Court Surgery</td>\n",
       "      <td>8</td>\n",
       "      <td>5</td>\n",
       "    </tr>\n",
       "    <tr>\n",
       "      <th>3</th>\n",
       "      <td>2023-07-13 15:30:10</td>\n",
       "      <td>Extremely likely</td>\n",
       "      <td>Dr E was extremely nice</td>\n",
       "      <td>the receptionist was very unkind</td>\n",
       "      <td>Earls Court Surgery</td>\n",
       "      <td>5</td>\n",
       "      <td>5</td>\n",
       "    </tr>\n",
       "    <tr>\n",
       "      <th>4</th>\n",
       "      <td>2023-07-13 15:31:48</td>\n",
       "      <td>Extremely likely</td>\n",
       "      <td>I was spoken to politely on the phone and a te...</td>\n",
       "      <td>No. I was happy with everything.</td>\n",
       "      <td>Earls Court Surgery</td>\n",
       "      <td>44</td>\n",
       "      <td>6</td>\n",
       "    </tr>\n",
       "  </tbody>\n",
       "</table>\n",
       "</div>"
      ],
      "text/plain": [
       "                 time            rating  \\\n",
       "0 2023-07-13 15:28:22  Extremely likely   \n",
       "1 2023-07-13 15:29:16  Extremely likely   \n",
       "2 2023-07-13 15:29:21  Extremely likely   \n",
       "3 2023-07-13 15:30:10  Extremely likely   \n",
       "4 2023-07-13 15:31:48  Extremely likely   \n",
       "\n",
       "                                           free_text  \\\n",
       "0  Very friendly caring staff, treated me with re...   \n",
       "1                            so good so confidential   \n",
       "2  The doctor was very understanding and very kno...   \n",
       "3                           Dr E was extremely nice    \n",
       "4  I was spoken to politely on the phone and a te...   \n",
       "\n",
       "                            do_better              surgery  free_text_len  \\\n",
       "0                          Keep it up  Earls Court Surgery             13   \n",
       "1                                      Earls Court Surgery              4   \n",
       "2                No. It was the best.  Earls Court Surgery              8   \n",
       "3   the receptionist was very unkind   Earls Court Surgery              5   \n",
       "4  No. I was happy with everything.    Earls Court Surgery             44   \n",
       "\n",
       "   do_better_len  \n",
       "0              3  \n",
       "1              0  \n",
       "2              5  \n",
       "3              5  \n",
       "4              6  "
      ]
     },
     "execution_count": 9,
     "metadata": {},
     "output_type": "execute_result"
    }
   ],
   "source": [
    "data.head()"
   ]
  },
  {
   "cell_type": "code",
   "execution_count": 10,
   "id": "8462738b",
   "metadata": {},
   "outputs": [
    {
     "data": {
      "text/plain": [
       "<Axes: xlabel='free_text_len', ylabel='Count'>"
      ]
     },
     "execution_count": 10,
     "metadata": {},
     "output_type": "execute_result"
    },
    {
     "data": {
      "image/png": "[encoded data removed]",
      "text/plain": [
       "<Figure size 640x480 with 1 Axes>"
      ]
     },
     "metadata": {
      "image/png": {
       "height": 433,
       "width": 575
      }
     },
     "output_type": "display_data"
    }
   ],
   "source": [
    "import seaborn as sns\n",
    "sns.histplot(data=data, x='free_text_len')"
   ]
  },
  {
   "cell_type": "code",
   "execution_count": 11,
   "id": "b5f1f953",
   "metadata": {},
   "outputs": [
    {
     "data": {
      "text/plain": [
       "<Axes: xlabel='do_better_len', ylabel='Count'>"
      ]
     },
     "execution_count": 11,
     "metadata": {},
     "output_type": "execute_result"
    },
    {
     "data": {
      "image/png": "[encoded data removed]",
      "text/plain": [
       "<Figure size 640x480 with 1 Axes>"
      ]
     },
     "metadata": {
      "image/png": {
       "height": 433,
       "width": 571
      }
     },
     "output_type": "display_data"
    }
   ],
   "source": [
    "sns.histplot(data=data, x='do_better_len')"
   ]
  },
  {
   "cell_type": "code",
   "execution_count": 12,
   "id": "f7a9e069",
   "metadata": {},
   "outputs": [
    {
     "name": "stdout",
     "output_type": "stream",
     "text": [
      "['Keep it up', 'No', 'No', 'No', 'No answer ', 'wait time', 'No', 'Yes ', 'No', 'No. Fine ', 'No', 'No', 'No', 'Not really\\n', 'No', 'None', 'No nothinh', 'No', 'No', 'No', 'No', 'No', 'No', 'No', 'No', 'None', 'No', 'Not really ', 'NO', 'Nothings ', 'No', 'No', 'Nothing ', 'No', 'No', 'No', 'All good', 'Reminder', 'No', 'N/A', 'No', 'No', 'No', 'No', 'No', 'No', 'No', 'No', 'No ', 'No really ', 'No. ', 'No', 'All good', 'None', 'No', 'No', 'No :)', 'Nothing', 'Not at all', 'No', 'Excellent ', 'No', 'No', 'No', 'No', 'Thanks ', 'No', 'No', 'Not really ', 'No', 'NO.', 'None ', 'No', 'No', 'No ', 'None', 'Thank you 😊', 'Thank you 😊', 'Nope ', 'Nothing', 'No', 'No', 'No', 'None ', 'No', 'No', 'No', 'No', ' No', 'No', 'No', 'No', 'Nothing. ', 'No', 'Nothing ', 'no', 'No', 'No ', 'No', 'None ', 'No', 'No', 'No', 'No', 'No', 'No', 'No', 'Nothing ', 'That’s all ', 'No', 'No nothing ', 'No tks', 'No', 'No', 'No', 'No', 'No', 'No', 'No', 'No.', 'No', 'No', 'Nothing', 'No', 'Nathing', 'No', 'none', 'No', 'No', 'Nothing ', 'yes', 'No', 'No', 'No', 'No', \"It's  okey\", 'Not really', 'No', 'No', 'Nothing', 'NO', 'No thanks', 'No thanks', 'Nothing', 'No', 'No', 'No', 'Not', 'Perfect', 'No', 'Na', 'No ', 'No ', 'No', 'Not sure', 'All great ', \"Don't know \", 'NO…', 'No', 'All good', 'No', 'No', 'No', 'No', 'No', 'No', 'No', 'No comment', 'I am ok ', 'No ', 'No', 'Not at all ', 'No', 'Nope', 'No', 'No', 'No', 'No', 'No']\n"
     ]
    }
   ],
   "source": [
    "remove_list = []\n",
    "for text in data['do_better']:\n",
    "    if text == '':\n",
    "        pass\n",
    "    elif len(text) < 12 and len(text) > 1:\n",
    "        remove_list.append(text)\n",
    "        \n",
    "print(remove_list)"
   ]
  },
  {
   "cell_type": "code",
   "execution_count": 13,
   "id": "f2c359bd",
   "metadata": {},
   "outputs": [
    {
     "data": {
      "text/plain": [
       "time             0\n",
       "rating           0\n",
       "free_text        0\n",
       "do_better        0\n",
       "surgery          0\n",
       "free_text_len    0\n",
       "do_better_len    0\n",
       "dtype: int64"
      ]
     },
     "execution_count": 13,
     "metadata": {},
     "output_type": "execute_result"
    }
   ],
   "source": [
    "data.isna().sum()"
   ]
  },
  {
   "cell_type": "code",
   "execution_count": 14,
   "id": "9d4cdf74",
   "metadata": {},
   "outputs": [],
   "source": [
    "patient_feedback_categories = [\n",
    "    \"Appointment Availability\",\n",
    "    \"Reception and Administration\",\n",
    "    \"Consultation Quality\",\n",
    "    \"Treatment Efficacy\",\n",
    "    \"Facility Cleanliness and Comfort\",\n",
    "    \"Communication and Information\",\n",
    "    \"Wait Times\",\n",
    "    \"Confidentiality and Privacy\",\n",
    "    \"Telehealth Services\",\n",
    "    \"Follow-up Care\",\n",
    "    \"Billing and Insurance Handling\",\n",
    "    \"COVID-19 Measures\",\n",
    "    \"Patient Empowerment\",\n",
    "    \"Accessibility\",\n",
    "    \"Overall Satisfaction\",\n",
    "    \"No Improvement Suggestion\",\n",
    "]\n"
   ]
  },
  {
   "cell_type": "code",
   "execution_count": 15,
   "id": "7a68a128",
   "metadata": {},
   "outputs": [],
   "source": [
    "from transformers import pipeline\n",
    "classifier = pipeline(\"zero-shot-classification\",\n",
    "                      model=\"facebook/bart-large-mnli\") "
   ]
  },
  {
   "cell_type": "code",
   "execution_count": 16,
   "id": "861ae55e",
   "metadata": {
    "scrolled": true
   },
   "outputs": [
    {
     "name": "stdout",
     "output_type": "stream",
     "text": [
      "1\n",
      "Empty input string\n",
      "5\n",
      "7\n",
      "9\n",
      "Empty input string\n",
      "13\n",
      "15\n",
      "Empty input string\n",
      "Empty input string\n",
      "21\n",
      "23\n",
      "Empty input string\n",
      "Empty input string\n",
      "29\n",
      "31\n",
      "33\n",
      "35\n",
      "37\n",
      "Empty input string\n",
      "41\n",
      "43\n",
      "Empty input string\n",
      "Empty input string\n",
      "49\n",
      "Empty input string\n",
      "Empty input string\n",
      "55\n",
      "Empty input string\n",
      "59\n",
      "Empty input string\n",
      "63\n",
      "65\n",
      "Empty input string\n",
      "Empty input string\n",
      "Empty input string\n",
      "Empty input string\n",
      "75\n",
      "77\n",
      "Empty input string\n",
      "Empty input string\n",
      "Empty input string\n",
      "85\n",
      "87\n",
      "Empty input string\n",
      "Empty input string\n",
      "Empty input string\n",
      "Empty input string\n",
      "Empty input string\n",
      "Empty input string\n",
      "101\n",
      "Empty input string\n",
      "105\n",
      "Empty input string\n",
      "Empty input string\n",
      "111\n",
      "Empty input string\n",
      "115\n",
      "117\n",
      "119\n",
      "121\n",
      "123\n",
      "125\n",
      "Empty input string\n",
      "129\n",
      "Empty input string\n",
      "133\n",
      "135\n",
      "Empty input string\n",
      "Empty input string\n",
      "Empty input string\n",
      "Empty input string\n",
      "Empty input string\n",
      "147\n",
      "149\n",
      "151\n",
      "153\n",
      "Empty input string\n",
      "157\n",
      "159\n",
      "161\n",
      "163\n",
      "Empty input string\n",
      "Empty input string\n",
      "169\n",
      "171\n",
      "173\n",
      "175\n",
      "177\n",
      "179\n",
      "181\n",
      "183\n",
      "Empty input string\n",
      "187\n",
      "Empty input string\n",
      "191\n",
      "193\n",
      "195\n",
      "197\n",
      "199\n",
      "201\n",
      "203\n",
      "205\n",
      "207\n",
      "Empty input string\n",
      "211\n",
      "Empty input string\n",
      "Empty input string\n",
      "217\n",
      "Empty input string\n",
      "221\n",
      "223\n",
      "225\n",
      "227\n",
      "229\n",
      "Empty input string\n",
      "Empty input string\n",
      "235\n",
      "Empty input string\n",
      "Empty input string\n",
      "Empty input string\n",
      "243\n",
      "245\n",
      "247\n",
      "Empty input string\n",
      "251\n",
      "253\n",
      "Empty input string\n",
      "257\n",
      "Empty input string\n",
      "261\n",
      "263\n",
      "265\n",
      "267\n",
      "269\n",
      "271\n",
      "273\n",
      "275\n",
      "Empty input string\n",
      "Empty input string\n",
      "281\n",
      "283\n",
      "285\n",
      "287\n",
      "Empty input string\n",
      "Empty input string\n",
      "293\n",
      "295\n",
      "297\n",
      "299\n",
      "301\n",
      "303\n",
      "305\n",
      "307\n",
      "309\n",
      "311\n",
      "313\n",
      "315\n",
      "317\n",
      "319\n",
      "321\n",
      "323\n",
      "325\n",
      "327\n",
      "329\n",
      "331\n",
      "333\n",
      "Empty input string\n",
      "Empty input string\n",
      "339\n",
      "Empty input string\n",
      "343\n",
      "345\n",
      "347\n",
      "349\n",
      "Empty input string\n",
      "353\n",
      "Empty input string\n",
      "357\n",
      "359\n",
      "361\n",
      "363\n",
      "365\n",
      "Empty input string\n",
      "Empty input string\n",
      "371\n",
      "Empty input string\n",
      "Empty input string\n",
      "Empty input string\n",
      "Empty input string\n",
      "Empty input string\n",
      "383\n",
      "385\n",
      "Empty input string\n",
      "389\n",
      "391\n",
      "Empty input string\n",
      "395\n",
      "397\n",
      "399\n",
      "401\n",
      "403\n",
      "405\n",
      "407\n",
      "Empty input string\n",
      "Empty input string\n",
      "413\n",
      "415\n",
      "Empty input string\n",
      "Empty input string\n",
      "421\n",
      "423\n",
      "425\n",
      "Empty input string\n",
      "429\n",
      "431\n",
      "Empty input string\n",
      "Empty input string\n",
      "Empty input string\n",
      "439\n",
      "441\n",
      "443\n",
      "445\n",
      "Empty input string\n",
      "Empty input string\n",
      "Empty input string\n",
      "453\n",
      "455\n",
      "Empty input string\n",
      "459\n",
      "461\n",
      "Empty input string\n",
      "465\n",
      "467\n",
      "469\n",
      "471\n",
      "473\n",
      "Empty input string\n",
      "Empty input string\n",
      "Empty input string\n",
      "Empty input string\n",
      "Empty input string\n",
      "Empty input string\n",
      "487\n",
      "489\n",
      "Empty input string\n",
      "Empty input string\n",
      "495\n",
      "Empty input string\n",
      "499\n",
      "501\n",
      "Empty input string\n",
      "505\n",
      "507\n",
      "Empty input string\n",
      "Empty input string\n",
      "513\n",
      "Empty input string\n",
      "Empty input string\n",
      "519\n",
      "Empty input string\n",
      "Empty input string\n",
      "Empty input string\n",
      "527\n",
      "Empty input string\n",
      "531\n",
      "533\n",
      "535\n",
      "Empty input string\n",
      "Empty input string\n",
      "541\n",
      "543\n",
      "Empty input string\n",
      "Empty input string\n",
      "549\n",
      "551\n",
      "553\n",
      "555\n",
      "557\n",
      "559\n",
      "Empty input string\n",
      "Empty input string\n",
      "565\n",
      "567\n",
      "569\n",
      "571\n",
      "Empty input string\n",
      "Empty input string\n",
      "Empty input string\n",
      "579\n",
      "581\n",
      "583\n",
      "585\n",
      "587\n",
      "Empty input string\n",
      "591\n",
      "Empty input string\n",
      "Empty input string\n",
      "597\n",
      "599\n",
      "601\n",
      "Empty input string\n",
      "605\n",
      "607\n",
      "Empty input string\n",
      "611\n",
      "Empty input string\n",
      "615\n",
      "617\n",
      "619\n",
      "621\n",
      "Empty input string\n",
      "Empty input string\n",
      "Empty input string\n",
      "629\n",
      "631\n",
      "Empty input string\n",
      "635\n",
      "637\n",
      "Empty input string\n",
      "Empty input string\n",
      "643\n",
      "645\n",
      "Empty input string\n",
      "Empty input string\n",
      "651\n",
      "653\n",
      "Empty input string\n",
      "Empty input string\n",
      "659\n",
      "661\n",
      "Empty input string\n",
      "Empty input string\n",
      "Empty input string\n",
      "Empty input string\n",
      "Empty input string\n",
      "Empty input string\n",
      "675\n",
      "Empty input string\n",
      "Empty input string\n",
      "Empty input string\n",
      "683\n",
      "685\n",
      "Empty input string\n",
      "689\n",
      "691\n",
      "693\n",
      "695\n",
      "Empty input string\n",
      "699\n",
      "Empty input string\n",
      "703\n",
      "Empty input string\n",
      "707\n",
      "Empty input string\n",
      "711\n",
      "Empty input string\n",
      "715\n",
      "Empty input string\n",
      "719\n",
      "Empty input string\n",
      "723\n",
      "725\n",
      "Empty input string\n",
      "729\n",
      "731\n",
      "Empty input string\n",
      "Empty input string\n",
      "737\n",
      "739\n",
      "741\n",
      "743\n",
      "745\n",
      "747\n",
      "Empty input string\n",
      "751\n",
      "753\n",
      "Empty input string\n",
      "Empty input string\n",
      "759\n",
      "Empty input string\n",
      "Empty input string\n",
      "Empty input string\n",
      "767\n",
      "769\n",
      "Empty input string\n",
      "Empty input string\n",
      "775\n",
      "777\n",
      "779\n",
      "Empty input string\n",
      "Empty input string\n",
      "785\n",
      "787\n",
      "789\n",
      "Empty input string\n",
      "793\n",
      "Empty input string\n",
      "797\n",
      "799\n",
      "Empty input string\n",
      "Empty input string\n",
      "805\n",
      "807\n",
      "809\n",
      "Empty input string\n",
      "813\n",
      "Empty input string\n",
      "817\n",
      "819\n",
      "Empty input string\n",
      "Empty input string\n",
      "Empty input string\n",
      "827\n",
      "829\n",
      "Empty input string\n",
      "833\n",
      "835\n",
      "Empty input string\n",
      "Empty input string\n",
      "Empty input string\n",
      "843\n",
      "Empty input string\n",
      "Empty input string\n",
      "Empty input string\n",
      "Empty input string\n",
      "853\n",
      "855\n",
      "857\n",
      "859\n",
      "861\n",
      "Empty input string\n",
      "Empty input string\n",
      "867\n",
      "869\n",
      "871\n",
      "873\n",
      "875\n",
      "Empty input string\n",
      "Empty input string\n",
      "Empty input string\n",
      "Empty input string\n",
      "Empty input string\n",
      "887\n",
      "889\n",
      "891\n",
      "Empty input string\n",
      "895\n",
      "897\n",
      "899\n",
      "901\n",
      "Empty input string\n",
      "Empty input string\n",
      "907\n",
      "Empty input string\n",
      "Empty input string\n",
      "Empty input string\n",
      "915\n",
      "917\n",
      "Empty input string\n",
      "Empty input string\n",
      "923\n",
      "925\n",
      "927\n",
      "Empty input string\n",
      "931\n",
      "933\n",
      "Empty input string\n",
      "937\n",
      "Empty input string\n",
      "941\n",
      "943\n",
      "945\n",
      "947\n",
      "949\n",
      "951\n",
      "Empty input string\n",
      "955\n",
      "957\n",
      "959\n",
      "Empty input string\n",
      "963\n",
      "Empty input string\n",
      "967\n",
      "969\n",
      "971\n",
      "973\n",
      "975\n",
      "977\n",
      "Empty input string\n",
      "981\n",
      "983\n",
      "985\n",
      "987\n",
      "989\n",
      "991\n",
      "993\n",
      "995\n",
      "Empty input string\n",
      "999\n",
      "Empty input string\n",
      "Empty input string\n",
      "1005\n",
      "1007\n",
      "1009\n",
      "1011\n",
      "1013\n",
      "Empty input string\n",
      "1017\n",
      "Empty input string\n",
      "1021\n",
      "1023\n",
      "1025\n",
      "1027\n",
      "1029\n",
      "Empty input string\n",
      "1033\n",
      "Empty input string\n",
      "Empty input string\n",
      "Empty input string\n",
      "Empty input string\n",
      "Empty input string\n",
      "1045\n",
      "Empty input string\n",
      "1049\n",
      "Empty input string\n",
      "Empty input string\n",
      "1055\n",
      "Empty input string\n",
      "1059\n",
      "1061\n",
      "1063\n",
      "1065\n",
      "Empty input string\n",
      "1069\n",
      "1071\n",
      "Empty input string\n",
      "Empty input string\n",
      "Empty input string\n",
      "Empty input string\n",
      "1081\n",
      "1083\n",
      "Empty input string\n",
      "1087\n",
      "1089\n",
      "Empty input string\n",
      "Empty input string\n",
      "1095\n",
      "1097\n",
      "Empty input string\n",
      "Empty input string\n",
      "Empty input string\n",
      "Empty input string\n",
      "Empty input string\n",
      "1109\n",
      "1111\n",
      "1113\n",
      "1115\n",
      "1117\n",
      "1119\n",
      "1121\n",
      "Empty input string\n",
      "Empty input string\n",
      "Empty input string\n",
      "Empty input string\n",
      "Empty input string\n",
      "Empty input string\n",
      "1135\n",
      "Empty input string\n",
      "Empty input string\n",
      "Empty input string\n",
      "1143\n",
      "Empty input string\n",
      "Empty input string\n",
      "1149\n",
      "Empty input string\n",
      "1153\n",
      "1155\n",
      "1157\n",
      "Empty input string\n",
      "Empty input string\n",
      "1163\n",
      "1165\n",
      "1167\n",
      "1169\n",
      "Empty input string\n",
      "Empty input string\n",
      "1175\n",
      "1177\n",
      "Empty input string\n",
      "1181\n",
      "1183\n",
      "1185\n",
      "1187\n",
      "1189\n",
      "1191\n",
      "1193\n",
      "Empty input string\n",
      "Empty input string\n",
      "1199\n",
      "1201\n",
      "1203\n",
      "1205\n",
      "1207\n",
      "1209\n",
      "1211\n",
      "Empty input string\n",
      "Empty input string\n",
      "Empty input string\n",
      "Empty input string\n",
      "1221\n",
      "Empty input string\n",
      "Empty input string\n",
      "Empty input string\n",
      "1229\n",
      "1231\n",
      "1233\n",
      "Empty input string\n",
      "1237\n",
      "Empty input string\n",
      "Empty input string\n",
      "Empty input string\n",
      "1245\n",
      "Empty input string\n",
      "1249\n",
      "1251\n",
      "1253\n",
      "1255\n",
      "1257\n",
      "1259\n",
      "1261\n",
      "1263\n",
      "Empty input string\n",
      "1267\n",
      "Empty input string\n",
      "Empty input string\n",
      "Empty input string\n",
      "Empty input string\n",
      "1277\n",
      "Empty input string\n",
      "Empty input string\n",
      "1283\n",
      "1285\n",
      "1287\n",
      "Empty input string\n",
      "1291\n",
      "1293\n",
      "1295\n",
      "Empty input string\n",
      "Empty input string\n",
      "Empty input string\n",
      "Empty input string\n",
      "1305\n",
      "1307\n",
      "Empty input string\n",
      "1311\n",
      "1313\n",
      "1315\n",
      "1317\n",
      "Empty input string\n",
      "1321\n",
      "1323\n",
      "Empty input string\n",
      "1327\n",
      "Empty input string\n",
      "Empty input string\n",
      "Empty input string\n",
      "Empty input string\n",
      "Empty input string\n",
      "1339\n",
      "1341\n",
      "1343\n",
      "Empty input string\n",
      "Empty input string\n",
      "Empty input string\n"
     ]
    }
   ],
   "source": [
    "text_list = []\n",
    "label_list = []\n",
    "count = 0\n",
    "for text in data['do_better']:\n",
    "    count = count + 1\n",
    "    if text != '':\n",
    "        output = classifier(text, patient_feedback_categories)\n",
    "        text_list.append(text)\n",
    "        label_list.append(output['labels'][0])\n",
    "        print(count)\n",
    "        count = count + 1\n",
    "    else:\n",
    "        print(\"Empty input string\")\n",
    "        count = count +1\n",
    "\n"
   ]
  },
  {
   "cell_type": "code",
   "execution_count": 17,
   "id": "b9dbb7df",
   "metadata": {},
   "outputs": [
    {
     "data": {
      "text/plain": [
       "['Keep it up',\n",
       " 'No. It was the best.',\n",
       " 'the receptionist was very unkind ',\n",
       " 'No. I was happy with everything.  ',\n",
       " 'No. It is already perfect.',\n",
       " 'No',\n",
       " 'I think it is getting better, the ladies at the reception can be so rude, it would not do any harm to smile, be friendly, put the patient at ease',\n",
       " 'The basement is a bit dark and gloomy and reception area could also do with an upgrade ',\n",
       " \"Earl's court surgery is really lucky to have Nurse A\",\n",
       " 'No',\n",
       " 'No',\n",
       " 'Yes, of course, she showed me the easy and a great way to apply for my medicine',\n",
       " 'No answer ',\n",
       " 'Everything was done professionally. ',\n",
       " 'The staff and especially the GP are very good in service. ',\n",
       " 'wait time',\n",
       " 'No',\n",
       " 'Everything  fine  ',\n",
       " 'Can’t think of anything ',\n",
       " \"Yes they didn't have my xray for my arm  a waste off time for me there! \",\n",
       " 'Sendn me to Specialist,the best.',\n",
       " 'More knowledge newly qualified doctors , enthusiastic ',\n",
       " 'Nothing I can think about ',\n",
       " 'Yes ',\n",
       " 'More doctors in the surgery. ',\n",
       " 'Everything is good',\n",
       " 'No',\n",
       " 'No. Fine ',\n",
       " 'No',\n",
       " 'No',\n",
       " 'Every body enjoying to work .\\nI can feel it.',\n",
       " 'More face to face appointment with the doctors',\n",
       " 'Can’t think of anythink',\n",
       " 'Doctor and all the staff',\n",
       " 'No',\n",
       " 'Not really\\n',\n",
       " 'To change all the front desk staff ',\n",
       " 'No',\n",
       " 'Nothing at all, it’s perfect. Thank you. MW',\n",
       " 'Possibly getting an appointment more quickly if required ',\n",
       " 'None',\n",
       " 'No nothinh',\n",
       " 'Longer time with the doctors if needed ',\n",
       " 'No',\n",
       " 'No',\n",
       " 'I’m fully satisfied for their service and kind',\n",
       " 'Absolutely not',\n",
       " 'No',\n",
       " 'Bee more professional ',\n",
       " 'No',\n",
       " 'No',\n",
       " 'Easy access to blood tests results ',\n",
       " 'No',\n",
       " 'No. Everything’s fine ',\n",
       " 'I would like not to see the front desk staff ',\n",
       " \"Can't think of any at this time.\",\n",
       " 'Nothing I can think of',\n",
       " \"I don't think so.\",\n",
       " 'No',\n",
       " 'My above comment answers the question ',\n",
       " 'Strict Adherence to Heart values and talk in polite manner, rather than talking in a tone of entitlement.',\n",
       " 'Allow more face to face appointment s. Online ones are less  effective',\n",
       " \"I don't know at the moment \",\n",
       " 'Don’t think so',\n",
       " 'No',\n",
       " 'Not that I know of ',\n",
       " 'None',\n",
       " 'If you change all the front desk staff ',\n",
       " 'Thank you! If I can also book the “visit” appointments via the app it would be great. As at the moment only the “telephone services” are available when I try to book via the app, else I have to call to book a “visit” appointment. Thank you very much ',\n",
       " ' The doctor be more sympathetic',\n",
       " 'Nothing- all very helpful from initiation to follow up to conclusion',\n",
       " \"Everything's there already. Excellent. \",\n",
       " 'as I’d experienced going to the clinics frequently, i felt satisfied and comfortable.',\n",
       " 'Front desk staff need all changes ',\n",
       " 'An updated website.',\n",
       " 'No',\n",
       " 'not really. everyone is really friendly',\n",
       " \"I am with this Surgery for 28 years, so it's meant that I am very happy with their service \",\n",
       " 'Not really ',\n",
       " 'NO',\n",
       " 'Very pleased with the appointment ',\n",
       " 'The whole Team of The GP practice are doing their best to help as much as they can.',\n",
       " 'I understand their job is stressful,but there is not need to be so rude and intimidating. ',\n",
       " \"I don't  think so\",\n",
       " 'I think work on Saturday ',\n",
       " 'Dr E should have behaved as a responsible GP and sent me for further tests. I had heart failure and she had diagnosed me with asthma. I visited her 5/6 times in a space of a few months with symptoms that I now know were typical of heart failure but she  did nothing other than increase my cortisone. It was only when I attended a & e that I was diagnosed with heart failure. Neither she or her colleague Dr A have apologised.  Naturally I am taking the matter further.',\n",
       " 'I don’t feel safe after being with the same surgery for more than 20 years. My son is still terrified about what happen to him.',\n",
       " 'Nothings ',\n",
       " 'Yes. a bit better.',\n",
       " 'Everything in my recent experience was good',\n",
       " 'No',\n",
       " 'No',\n",
       " 'Nothing ',\n",
       " 'Yes if you put face to face appointment available on nhs app',\n",
       " 'No',\n",
       " 'No',\n",
       " 'Surgery looks a bit tired ',\n",
       " 'No',\n",
       " 'All good',\n",
       " 'Reminder',\n",
       " 'No',\n",
       " 'Yes not going down stairs ',\n",
       " 'For me, the experience was best. No complain at all.',\n",
       " 'N/A',\n",
       " 'No',\n",
       " 'No',\n",
       " 'No',\n",
       " ' so far  is okay.',\n",
       " 'No',\n",
       " 'No',\n",
       " 'Nothing I can reckon',\n",
       " 'I think more face to face contact with GP  is much better  than 90% off telephone conversations',\n",
       " 'No',\n",
       " 'No',\n",
       " 'No',\n",
       " 'Nothing more as every thing there couldn’t be better.',\n",
       " 'I am satisfied with the service experience',\n",
       " 'No ',\n",
       " 'No really ',\n",
       " 'No. ',\n",
       " \"I don't think there is anything to improve\",\n",
       " 'No',\n",
       " 'All good',\n",
       " 'training for HCA  Training for reception. on basics :- how to talk to patients , how to a acknowledge they sre wring and not see as a personal attack on them , drs if not going to do some thing to contact the patient and discuss so your not wiating thinking some thing is been done and its not , freshen the surgery up its dull dull dull and sure this is what helps make all the staff dull plus the present non colour makes the place feel grubby , see patients on time instead of staying in rooms having non work conversations as  they can be heard in waiting room ( room where o2 stored downstairs make the staircase downstairs more accessible so narrow nearly fallen a number of times  ',\n",
       " 'None',\n",
       " 'Yes to appointment face to face.',\n",
       " 'Not this past visit; in these hard times, I have a lot to learn and it’s not always easy, but the surgery is brilliant. Thank you',\n",
       " 'Provide some physio exercises on the premises',\n",
       " 'No',\n",
       " 'Water fountain ',\n",
       " 'No',\n",
       " 'No :)',\n",
       " \"I can't think of anything \",\n",
       " 'Everything is good ',\n",
       " 'Nothing',\n",
       " 'Not if I can think of ',\n",
       " 'No fully satisfied',\n",
       " 'No everything was good ',\n",
       " 'Not at present.',\n",
       " 'I’m very much satisfied and comfortable ',\n",
       " 'No, perfectly satisfied ',\n",
       " 'I am very satisfied and comfortable ',\n",
       " 'Not at all',\n",
       " 'yes if the doctor had called me  for the telephone appointment as arranged ',\n",
       " 'Waiting room could be better with comfortable chairs n magazines. ',\n",
       " 'I would be happy if you carry on your efforts for better interest of your clients ',\n",
       " 'To be sent to GPS closer to my address. It’s difficult going far while sick',\n",
       " 'Yeah some time it’s very helpful ',\n",
       " 'The way in this Gp very good in appointments and the receptionist  ,',\n",
       " 'No',\n",
       " 'Not this time',\n",
       " 'Excellent ',\n",
       " 'No',\n",
       " \"Can't think right now!\",\n",
       " 'No',\n",
       " 'Yes the GPS should spend more time in surgery ',\n",
       " 'No. They were spot on. Much appreciated.',\n",
       " 'No',\n",
       " 'No',\n",
       " 'No not really always satisfied ',\n",
       " 'The premises is poor quality but the care excellent ',\n",
       " 'Not at present.',\n",
       " 'Thanks ',\n",
       " 'No',\n",
       " 'No',\n",
       " 'For now it is ok ',\n",
       " 'A water fountain ',\n",
       " 'They are all excellent ',\n",
       " 'Have moved area but never my Doctor ',\n",
       " 'Keep up the great work been friendly, helpful and the Drs are also always ready to help ',\n",
       " 'Not that I know of ',\n",
       " 'Not really ',\n",
       " 'I’m very happy with the service.',\n",
       " 'No',\n",
       " 'Better not queue outside of the building. ',\n",
       " 'NO.',\n",
       " 'Just the appointment ',\n",
       " 'Not really, unles they were giving out elixir of youth',\n",
       " 'None ',\n",
       " 'Yes, the Dr could have reviewed results and arranged to give feedback ',\n",
       " 'Possibly more patience by the receptionists with patients over the phone.',\n",
       " 'Doctors have to update their knowledge because I don’t feel they have enough knowledge ',\n",
       " 'Yes, the superior and ignorant approach from the receptionists.',\n",
       " 'Not really as investment into physical infrastructure is no doubt a matter of  budgets',\n",
       " 'No',\n",
       " 'Having a nurse on site during surgery hours ',\n",
       " 'No',\n",
       " 'No ',\n",
       " 'None',\n",
       " 'Nothing at all needs changing.',\n",
       " 'Thank you 😊',\n",
       " 'Thank you 😊',\n",
       " 'Nope ',\n",
       " 'Yes not asking about personal health issues ',\n",
       " 'Nothing',\n",
       " 'No you are can not do anything because NHS does not except ',\n",
       " '.',\n",
       " 'From time to time it’s difficult to understand doctors ie calls via loudspeaker, accent when speaking fast, questions not addressed…',\n",
       " 'As I said lack of face to face.',\n",
       " 'There’s nothing to be improved. As customer service is handling in a very professional way already',\n",
       " 'I think it’s pretty good ',\n",
       " 'No',\n",
       " 'Yes The attentiveness \\n',\n",
       " 'Answer above … ',\n",
       " 'No',\n",
       " 'No',\n",
       " 'More diagnostic machines and x rays ',\n",
       " 'None ',\n",
       " 'No',\n",
       " 'No',\n",
       " ' Just  I would like to  say..why my medical  at after 48 hours..must  be to  get  my  tablets\\nAt pharmacy  with  in 24 hours. ',\n",
       " 'No',\n",
       " 'No',\n",
       " ' No',\n",
       " 'No',\n",
       " 'No',\n",
       " 'It was good ',\n",
       " 'Everything was okay',\n",
       " 'No',\n",
       " 'Not really , thank you 😊 ',\n",
       " 'Can’t think of any ',\n",
       " 'No. I think every thing is going okay.',\n",
       " 'Nothing. ',\n",
       " 'The surgery  is a bit old and  need some renovations. ',\n",
       " 'No',\n",
       " 'Everything was good ',\n",
       " 'Nothing ',\n",
       " 'Shorter appointment wait',\n",
       " 'no',\n",
       " 'Not at all. Excellent team.',\n",
       " 'No',\n",
       " 'I was satisfied with the way I was treated. ',\n",
       " 'No ',\n",
       " 'Doctor is very good … only the front desk staff is careless and rude … pretending they are busy … don’t give time to complete your enquiry … ',\n",
       " 'By changing staff at reception ',\n",
       " 'No. What you do is great.',\n",
       " 'No',\n",
       " 'Not that I know of',\n",
       " 'None ',\n",
       " 'No',\n",
       " 'Seeing face to face would have been better but it was adequate for my needs.',\n",
       " 'No',\n",
       " 'No',\n",
       " 'No',\n",
       " 'My experience was excellent 👌 \\n',\n",
       " 'Quick response ',\n",
       " 'No',\n",
       " 'No',\n",
       " 'No. Covid has been hard on all of us and they’ve done as well as they could in these difficult circumstances. Much appreciated.',\n",
       " 'No',\n",
       " 'Nothing ',\n",
       " 'That’s all ',\n",
       " 'All the front desk staff needs to be changed ',\n",
       " 'No',\n",
       " 'I am very satisfied with all the services I’ve received from the whole team at the surgery throughout the last 33 years of being their patient. ',\n",
       " 'No nothing ',\n",
       " 'No tks',\n",
       " 'Appointment time to see a doctor is to long',\n",
       " 'Yes instead of call with Dr would have been better face to face exam',\n",
       " 'No',\n",
       " 'No',\n",
       " 'No',\n",
       " 'Tea & Coffee machine 😋',\n",
       " 'Nothing at all, they are just outstanding.',\n",
       " 'If I can book an appointment face to face on the nhs app',\n",
       " 'Nothing - everything was great ',\n",
       " 'Quicker response time ',\n",
       " 'No',\n",
       " 'No',\n",
       " 'Continue doing the amazing job that you are already doing ',\n",
       " 'My visit was very straightforward and it went very well. It could’ve been any better.',\n",
       " 'No',\n",
       " 'No',\n",
       " 'Not at this moment ',\n",
       " 'Just change all the front desk staff ',\n",
       " 'Quicker appointments ',\n",
       " 'If results can be texted or emailed ',\n",
       " 'No.',\n",
       " 'I think stair rail not secure enough to downstairs and steep maybe instal a regular lift',\n",
       " 'No',\n",
       " 'Friendly reception personnel and good doctors ',\n",
       " 'Happy with my experience of the service',\n",
       " 'More appointment slot if it’s possible ',\n",
       " 'No',\n",
       " 'They are extremely excellent ',\n",
       " 'No everything was first class',\n",
       " 'Nothing',\n",
       " 'No',\n",
       " 'No, my experience was  very positive',\n",
       " 'NO, everything OK',\n",
       " 'Nathing',\n",
       " 'Not really 😊',\n",
       " 'She is very knowledgeable and gives important advice and what’s more helps to treat you',\n",
       " 'No',\n",
       " \"Because I have part broken leg and waiting for a new knee it's hard to go down and up those stairs.\",\n",
       " 'none',\n",
       " 'Everything is good ',\n",
       " 'Nothing special. ',\n",
       " 'No',\n",
       " 'Reception  team needs to be more professional, more helpful and less rude to patients..',\n",
       " 'No',\n",
       " 'Yes - looked into obtaining a Covid jab for me instead of just refusing to help, which is a total lack of care.',\n",
       " 'Dedicated Mental Health Professionals: Having mental health specialists, such as psychologists or counsellors, available on-site or via telehealth appointments would provide patients with easier access to mental health care. This could be particularly helpful for those who might feel overwhelmed by the prospect of seeking help outside the GP surgery.',\n",
       " 'Would like to see normal blood results sent via SMS or the NHS App if possible, hopefully if it is not available now it will be in future. Could you please keep us updated.',\n",
       " 'Reception area not in the best manner, could be brighter to uplift the spirit when. visiting.',\n",
       " 'Would like to see information about the PPG - Patient Participation Group in reception.',\n",
       " 'Better service quick appointment solve the problem , when you want to see the doctor is because you are not well ',\n",
       " 'Nothing ',\n",
       " 'yes',\n",
       " 'The information displayed in reception is very useful, thank you for sharing.',\n",
       " 'No',\n",
       " 'No',\n",
       " 'The surgery actually looking into obtaining a COVID jab for me instead of just refusing to help.  ',\n",
       " 'No',\n",
       " 'No',\n",
       " 'No not that I can think\\nOf',\n",
       " \"It's  okey\",\n",
       " 'Not really',\n",
       " 'The following ',\n",
       " 'Clear indications before and once at the surgery would have been welcomed ',\n",
       " 'Quite happy with what exists. ',\n",
       " 'Needs spring cleaning',\n",
       " 'No',\n",
       " 'More digital services via NHS App',\n",
       " 'No',\n",
       " 'Nothing',\n",
       " 'NO',\n",
       " 'Okay thanks ',\n",
       " 'The clinic need improve services of Medicion',\n",
       " 'No thanks',\n",
       " 'No thanks',\n",
       " 'Nothing',\n",
       " 'I do not have any improvement suggestion at the moment.',\n",
       " 'Staff at reception can be unfriendly and not very helpful at times.',\n",
       " 'No',\n",
       " 'More opportunity for screening like the new Atrial fibrillation screen being done by reception.',\n",
       " 'No',\n",
       " 'No',\n",
       " 'Not',\n",
       " 'Perfect',\n",
       " 'No',\n",
       " 'Na',\n",
       " 'Couldn’t be more better?! Just keep up the good work.',\n",
       " 'No ',\n",
       " 'Friendly  people ',\n",
       " 'No ',\n",
       " 'Nothing I can think of',\n",
       " 'Very understandable and have friendly workers',\n",
       " 'No',\n",
       " 'Not sure',\n",
       " 'Keep it the same way ',\n",
       " 'Change my doctor ',\n",
       " 'reception  staff smiling more instead of sitting looking unwelcoming at the front desk which hits you as soon as walk in makes u want ti turn around and go back out , not been able to hear  staff having private non work related conversations behind closed doors when its  your appointment time , seeing you at your booked appointment  time ',\n",
       " 'All great ',\n",
       " 'No. Clearly every member of the team treats us patients with respect and concern. I know that this is not always the case with other Surgeries and must be the result of hard work and a strong ethos.',\n",
       " \"Don't know \",\n",
       " 'NO…',\n",
       " 'I would like to improve pharmacist s services',\n",
       " 'Better service ',\n",
       " \"There's nothing more, it's a better surgery.\",\n",
       " 'No',\n",
       " 'All good',\n",
       " 'No',\n",
       " 'No',\n",
       " 'No',\n",
       " 'No',\n",
       " 'No',\n",
       " 'Having a coffee machine so you can have a drink while waiting. ',\n",
       " 'Due to the number of illnesses I suffer from some of which are serious, it would be so beneficial to me to have an appointment. much sooner based. Upon I am In a vulnerable group in relation to my medical problems.',\n",
       " 'Short time to appointment ',\n",
       " 'I was told the wait for a new prescription was 2 days, in fact it was ready later the same day. It woukd be good to be sent a message when this is available so that the medicine can be picked up earlier.',\n",
       " 'No',\n",
       " 'No',\n",
       " 'None at all, going to the surgery feels like being home 💓',\n",
       " 'Nothing special.',\n",
       " 'Provide more appointmetns ',\n",
       " 'Customer Service training for staff members',\n",
       " 'No comment',\n",
       " 'I like the notice boards in reception very infomrative and give a  good overview of the practice',\n",
       " 'I am ok ',\n",
       " 'I think everything is perfect in surgery',\n",
       " 'No ',\n",
       " 'No',\n",
       " 'Update on anti inflammatory oral approved application to a wound dressing the injury.',\n",
       " 'Not at all ',\n",
       " 'No',\n",
       " 'Not really. it was fine as it was',\n",
       " 'Nope',\n",
       " 'A bit more flexibility around scheduling appointments and availability',\n",
       " 'No',\n",
       " 'No',\n",
       " 'For me all good ',\n",
       " 'No',\n",
       " 'No',\n",
       " 'Absolutely not.',\n",
       " 'No']"
      ]
     },
     "execution_count": 17,
     "metadata": {},
     "output_type": "execute_result"
    }
   ],
   "source": [
    "text_list"
   ]
  },
  {
   "cell_type": "code",
   "execution_count": 18,
   "id": "69dfc83b",
   "metadata": {},
   "outputs": [
    {
     "data": {
      "text/html": [
       "<div>\n",
       "<style scoped>\n",
       "    .dataframe tbody tr th:only-of-type {\n",
       "        vertical-align: middle;\n",
       "    }\n",
       "\n",
       "    .dataframe tbody tr th {\n",
       "        vertical-align: top;\n",
       "    }\n",
       "\n",
       "    .dataframe thead th {\n",
       "        text-align: right;\n",
       "    }\n",
       "</style>\n",
       "<table border=\"1\" class=\"dataframe\">\n",
       "  <thead>\n",
       "    <tr style=\"text-align: right;\">\n",
       "      <th></th>\n",
       "      <th>text</th>\n",
       "      <th>labels</th>\n",
       "    </tr>\n",
       "  </thead>\n",
       "  <tbody>\n",
       "    <tr>\n",
       "      <th>0</th>\n",
       "      <td>Keep it up</td>\n",
       "      <td>Follow-up Care</td>\n",
       "    </tr>\n",
       "    <tr>\n",
       "      <th>1</th>\n",
       "      <td>No. It was the best.</td>\n",
       "      <td>No Improvement Suggestion</td>\n",
       "    </tr>\n",
       "    <tr>\n",
       "      <th>2</th>\n",
       "      <td>the receptionist was very unkind</td>\n",
       "      <td>Reception and Administration</td>\n",
       "    </tr>\n",
       "    <tr>\n",
       "      <th>3</th>\n",
       "      <td>No. I was happy with everything.</td>\n",
       "      <td>Overall Satisfaction</td>\n",
       "    </tr>\n",
       "    <tr>\n",
       "      <th>4</th>\n",
       "      <td>No. It is already perfect.</td>\n",
       "      <td>No Improvement Suggestion</td>\n",
       "    </tr>\n",
       "    <tr>\n",
       "      <th>...</th>\n",
       "      <td>...</td>\n",
       "      <td>...</td>\n",
       "    </tr>\n",
       "    <tr>\n",
       "      <th>391</th>\n",
       "      <td>For me all good</td>\n",
       "      <td>Overall Satisfaction</td>\n",
       "    </tr>\n",
       "    <tr>\n",
       "      <th>392</th>\n",
       "      <td>No</td>\n",
       "      <td>No Improvement Suggestion</td>\n",
       "    </tr>\n",
       "    <tr>\n",
       "      <th>393</th>\n",
       "      <td>No</td>\n",
       "      <td>No Improvement Suggestion</td>\n",
       "    </tr>\n",
       "    <tr>\n",
       "      <th>394</th>\n",
       "      <td>Absolutely not.</td>\n",
       "      <td>No Improvement Suggestion</td>\n",
       "    </tr>\n",
       "    <tr>\n",
       "      <th>395</th>\n",
       "      <td>No</td>\n",
       "      <td>No Improvement Suggestion</td>\n",
       "    </tr>\n",
       "  </tbody>\n",
       "</table>\n",
       "<p>396 rows × 2 columns</p>\n",
       "</div>"
      ],
      "text/plain": [
       "                                   text                        labels\n",
       "0                            Keep it up                Follow-up Care\n",
       "1                  No. It was the best.     No Improvement Suggestion\n",
       "2     the receptionist was very unkind   Reception and Administration\n",
       "3    No. I was happy with everything.            Overall Satisfaction\n",
       "4            No. It is already perfect.     No Improvement Suggestion\n",
       "..                                  ...                           ...\n",
       "391                    For me all good           Overall Satisfaction\n",
       "392                                  No     No Improvement Suggestion\n",
       "393                                  No     No Improvement Suggestion\n",
       "394                     Absolutely not.     No Improvement Suggestion\n",
       "395                                  No     No Improvement Suggestion\n",
       "\n",
       "[396 rows x 2 columns]"
      ]
     },
     "execution_count": 18,
     "metadata": {},
     "output_type": "execute_result"
    }
   ],
   "source": [
    "my_dict = {\n",
    "    \"text\": text_list,\n",
    "    \"labels\": label_list\n",
    "}\n",
    "\n",
    "label_df = pd.DataFrame(my_dict)\n",
    "label_df"
   ]
  },
  {
   "cell_type": "code",
   "execution_count": 19,
   "id": "8cd73b6c",
   "metadata": {},
   "outputs": [
    {
     "data": {
      "text/plain": [
       "<Axes: xlabel='count', ylabel='labels'>"
      ]
     },
     "execution_count": 19,
     "metadata": {},
     "output_type": "execute_result"
    },
    {
     "data": {
      "image/png": "[encoded data removed]",
      "text/plain": [
       "<Figure size 640x480 with 1 Axes>"
      ]
     },
     "metadata": {
      "image/png": {
       "height": 432,
       "width": 770
      }
     },
     "output_type": "display_data"
    }
   ],
   "source": [
    "sns.countplot(label_df['labels'])"
   ]
  },
  {
   "cell_type": "code",
   "execution_count": 41,
   "id": "037c2389",
   "metadata": {},
   "outputs": [],
   "source": [
    "data = pd.read_csv('../friendsfamilytest/data/data.csv')"
   ]
  },
  {
   "cell_type": "code",
   "execution_count": 42,
   "id": "0b001417-9154-4bcd-8091-76b761d0f1b2",
   "metadata": {},
   "outputs": [
    {
     "data": {
      "text/html": [
       "<div>\n",
       "<style scoped>\n",
       "    .dataframe tbody tr th:only-of-type {\n",
       "        vertical-align: middle;\n",
       "    }\n",
       "\n",
       "    .dataframe tbody tr th {\n",
       "        vertical-align: top;\n",
       "    }\n",
       "\n",
       "    .dataframe thead th {\n",
       "        text-align: right;\n",
       "    }\n",
       "</style>\n",
       "<table border=\"1\" class=\"dataframe\">\n",
       "  <thead>\n",
       "    <tr style=\"text-align: right;\">\n",
       "      <th></th>\n",
       "      <th>time</th>\n",
       "      <th>rating</th>\n",
       "      <th>free_text</th>\n",
       "      <th>do_better</th>\n",
       "      <th>surgery</th>\n",
       "      <th>sentiment_free_text</th>\n",
       "      <th>sentiment_score_free_text</th>\n",
       "      <th>sentiment_do_better</th>\n",
       "      <th>sentiment_score_do_better</th>\n",
       "      <th>free_text_len</th>\n",
       "      <th>do_better_len</th>\n",
       "      <th>rating_score</th>\n",
       "      <th>feedback_labels</th>\n",
       "      <th>improvement_labels</th>\n",
       "    </tr>\n",
       "  </thead>\n",
       "  <tbody>\n",
       "    <tr>\n",
       "      <th>0</th>\n",
       "      <td>2023-07-13 15:28:00</td>\n",
       "      <td>Extremely likely</td>\n",
       "      <td>Very friendly caring staff treated me with res...</td>\n",
       "      <td>NaN</td>\n",
       "      <td>Earls Court Surgery</td>\n",
       "      <td>positive</td>\n",
       "      <td>0.892932</td>\n",
       "      <td>neutral</td>\n",
       "      <td>0.0</td>\n",
       "      <td>13.0</td>\n",
       "      <td>3</td>\n",
       "      <td>5.0</td>\n",
       "      <td>Staff Empathy and Compassion</td>\n",
       "      <td>NaN</td>\n",
       "    </tr>\n",
       "    <tr>\n",
       "      <th>1</th>\n",
       "      <td>2023-07-13 15:29:00</td>\n",
       "      <td>Extremely likely</td>\n",
       "      <td>NaN</td>\n",
       "      <td>NaN</td>\n",
       "      <td>Earls Court Surgery</td>\n",
       "      <td>neutral</td>\n",
       "      <td>0.000000</td>\n",
       "      <td>neutral</td>\n",
       "      <td>0.0</td>\n",
       "      <td>4.0</td>\n",
       "      <td>0</td>\n",
       "      <td>5.0</td>\n",
       "      <td>NaN</td>\n",
       "      <td>NaN</td>\n",
       "    </tr>\n",
       "  </tbody>\n",
       "</table>\n",
       "</div>"
      ],
      "text/plain": [
       "                  time            rating  \\\n",
       "0  2023-07-13 15:28:00  Extremely likely   \n",
       "1  2023-07-13 15:29:00  Extremely likely   \n",
       "\n",
       "                                           free_text do_better  \\\n",
       "0  Very friendly caring staff treated me with res...       NaN   \n",
       "1                                                NaN       NaN   \n",
       "\n",
       "               surgery sentiment_free_text  sentiment_score_free_text  \\\n",
       "0  Earls Court Surgery            positive                   0.892932   \n",
       "1  Earls Court Surgery             neutral                   0.000000   \n",
       "\n",
       "  sentiment_do_better  sentiment_score_do_better  free_text_len  \\\n",
       "0             neutral                        0.0           13.0   \n",
       "1             neutral                        0.0            4.0   \n",
       "\n",
       "   do_better_len  rating_score               feedback_labels  \\\n",
       "0              3           5.0  Staff Empathy and Compassion   \n",
       "1              0           5.0                           NaN   \n",
       "\n",
       "  improvement_labels  \n",
       "0                NaN  \n",
       "1                NaN  "
      ]
     },
     "execution_count": 42,
     "metadata": {},
     "output_type": "execute_result"
    }
   ],
   "source": [
    "data.head(2)"
   ]
  },
  {
   "cell_type": "code",
   "execution_count": 43,
   "id": "5db5a891-e8ac-4d52-90c9-b779384f5dfd",
   "metadata": {},
   "outputs": [
    {
     "data": {
      "application/vnd.plotly.v1+json": {
       "config": {
        "plotlyServerURL": "https://plot.ly"
       },
       "data": [
        {
         "hovertemplate": "feedback_labels=Accessibility and Convenience<br>time=%{x}<br>Count of Feedback Labels=%{y}<extra></extra>",
         "legendgroup": "Accessibility and Convenience",
         "line": {
          "color": "#636EFA",
          "dash": "solid"
         },
         "marker": {
          "symbol": "circle"
         },
         "mode": "lines",
         "name": "Accessibility and Convenience",
         "orientation": "v",
         "showlegend": true,
         "type": "scatter",
         "x": [
          "2023-07-01T00:00:00",
          "2023-08-01T00:00:00",
          "2023-09-01T00:00:00",
          "2023-10-01T00:00:00",
          "2023-11-01T00:00:00",
          "2023-12-01T00:00:00",
          "2024-01-01T00:00:00",
          "2024-02-01T00:00:00",
          "2024-03-01T00:00:00"
         ],
         "xaxis": "x",
         "y": [
          0,
          4,
          2,
          2,
          0,
          5,
          1,
          40,
          30
         ],
         "yaxis": "y"
        },
        {
         "hovertemplate": "feedback_labels=Appointment Availability<br>time=%{x}<br>Count of Feedback Labels=%{y}<extra></extra>",
         "legendgroup": "Appointment Availability",
         "line": {
          "color": "#EF553B",
          "dash": "solid"
         },
         "marker": {
          "symbol": "circle"
         },
         "mode": "lines",
         "name": "Appointment Availability",
         "orientation": "v",
         "showlegend": true,
         "type": "scatter",
         "x": [
          "2023-07-01T00:00:00",
          "2023-08-01T00:00:00",
          "2023-09-01T00:00:00",
          "2023-10-01T00:00:00",
          "2023-11-01T00:00:00",
          "2023-12-01T00:00:00",
          "2024-01-01T00:00:00",
          "2024-02-01T00:00:00",
          "2024-03-01T00:00:00"
         ],
         "xaxis": "x",
         "y": [
          2,
          0,
          1,
          0,
          0,
          1,
          2,
          45,
          31
         ],
         "yaxis": "y"
        },
        {
         "hovertemplate": "feedback_labels=Communication Effectiveness<br>time=%{x}<br>Count of Feedback Labels=%{y}<extra></extra>",
         "legendgroup": "Communication Effectiveness",
         "line": {
          "color": "#00CC96",
          "dash": "solid"
         },
         "marker": {
          "symbol": "circle"
         },
         "mode": "lines",
         "name": "Communication Effectiveness",
         "orientation": "v",
         "showlegend": true,
         "type": "scatter",
         "x": [
          "2023-07-01T00:00:00",
          "2023-08-01T00:00:00",
          "2023-09-01T00:00:00",
          "2023-10-01T00:00:00",
          "2023-11-01T00:00:00",
          "2023-12-01T00:00:00",
          "2024-01-01T00:00:00",
          "2024-02-01T00:00:00",
          "2024-03-01T00:00:00"
         ],
         "xaxis": "x",
         "y": [
          1,
          0,
          0,
          0,
          0,
          0,
          0,
          2,
          2
         ],
         "yaxis": "y"
        },
        {
         "hovertemplate": "feedback_labels=Environment and Ambiance<br>time=%{x}<br>Count of Feedback Labels=%{y}<extra></extra>",
         "legendgroup": "Environment and Ambiance",
         "line": {
          "color": "#AB63FA",
          "dash": "solid"
         },
         "marker": {
          "symbol": "circle"
         },
         "mode": "lines",
         "name": "Environment and Ambiance",
         "orientation": "v",
         "showlegend": true,
         "type": "scatter",
         "x": [
          "2023-07-01T00:00:00",
          "2023-08-01T00:00:00",
          "2023-09-01T00:00:00",
          "2023-10-01T00:00:00",
          "2023-11-01T00:00:00",
          "2023-12-01T00:00:00",
          "2024-01-01T00:00:00",
          "2024-02-01T00:00:00",
          "2024-03-01T00:00:00"
         ],
         "xaxis": "x",
         "y": [
          0,
          0,
          0,
          1,
          0,
          2,
          0,
          4,
          3
         ],
         "yaxis": "y"
        },
        {
         "hovertemplate": "feedback_labels=Facility Cleanliness<br>time=%{x}<br>Count of Feedback Labels=%{y}<extra></extra>",
         "legendgroup": "Facility Cleanliness",
         "line": {
          "color": "#FFA15A",
          "dash": "solid"
         },
         "marker": {
          "symbol": "circle"
         },
         "mode": "lines",
         "name": "Facility Cleanliness",
         "orientation": "v",
         "showlegend": true,
         "type": "scatter",
         "x": [
          "2023-07-01T00:00:00",
          "2023-08-01T00:00:00",
          "2023-09-01T00:00:00",
          "2023-10-01T00:00:00",
          "2023-11-01T00:00:00",
          "2023-12-01T00:00:00",
          "2024-01-01T00:00:00",
          "2024-02-01T00:00:00",
          "2024-03-01T00:00:00"
         ],
         "xaxis": "x",
         "y": [
          0,
          0,
          0,
          0,
          0,
          0,
          0,
          4,
          3
         ],
         "yaxis": "y"
        },
        {
         "hovertemplate": "feedback_labels=Feedback and Complaints Handling<br>time=%{x}<br>Count of Feedback Labels=%{y}<extra></extra>",
         "legendgroup": "Feedback and Complaints Handling",
         "line": {
          "color": "#19D3F3",
          "dash": "solid"
         },
         "marker": {
          "symbol": "circle"
         },
         "mode": "lines",
         "name": "Feedback and Complaints Handling",
         "orientation": "v",
         "showlegend": true,
         "type": "scatter",
         "x": [
          "2023-07-01T00:00:00",
          "2023-08-01T00:00:00",
          "2023-09-01T00:00:00",
          "2023-10-01T00:00:00",
          "2023-11-01T00:00:00",
          "2023-12-01T00:00:00",
          "2024-01-01T00:00:00",
          "2024-02-01T00:00:00",
          "2024-03-01T00:00:00"
         ],
         "xaxis": "x",
         "y": [
          0,
          0,
          0,
          0,
          0,
          0,
          0,
          1,
          1
         ],
         "yaxis": "y"
        },
        {
         "hovertemplate": "feedback_labels=Follow-up and Continuity of Care<br>time=%{x}<br>Count of Feedback Labels=%{y}<extra></extra>",
         "legendgroup": "Follow-up and Continuity of Care",
         "line": {
          "color": "#FF6692",
          "dash": "solid"
         },
         "marker": {
          "symbol": "circle"
         },
         "mode": "lines",
         "name": "Follow-up and Continuity of Care",
         "orientation": "v",
         "showlegend": true,
         "type": "scatter",
         "x": [
          "2023-07-01T00:00:00",
          "2023-08-01T00:00:00",
          "2023-09-01T00:00:00",
          "2023-10-01T00:00:00",
          "2023-11-01T00:00:00",
          "2023-12-01T00:00:00",
          "2024-01-01T00:00:00",
          "2024-02-01T00:00:00",
          "2024-03-01T00:00:00"
         ],
         "xaxis": "x",
         "y": [
          2,
          6,
          6,
          2,
          0,
          12,
          0,
          73,
          47
         ],
         "yaxis": "y"
        },
        {
         "hovertemplate": "feedback_labels=Mental Health Support<br>time=%{x}<br>Count of Feedback Labels=%{y}<extra></extra>",
         "legendgroup": "Mental Health Support",
         "line": {
          "color": "#B6E880",
          "dash": "solid"
         },
         "marker": {
          "symbol": "circle"
         },
         "mode": "lines",
         "name": "Mental Health Support",
         "orientation": "v",
         "showlegend": true,
         "type": "scatter",
         "x": [
          "2023-07-01T00:00:00",
          "2023-08-01T00:00:00",
          "2023-09-01T00:00:00",
          "2023-10-01T00:00:00",
          "2023-11-01T00:00:00",
          "2023-12-01T00:00:00",
          "2024-01-01T00:00:00",
          "2024-02-01T00:00:00",
          "2024-03-01T00:00:00"
         ],
         "xaxis": "x",
         "y": [
          0,
          0,
          0,
          0,
          0,
          0,
          0,
          2,
          0
         ],
         "yaxis": "y"
        },
        {
         "hovertemplate": "feedback_labels=Patient Education and Information<br>time=%{x}<br>Count of Feedback Labels=%{y}<extra></extra>",
         "legendgroup": "Patient Education and Information",
         "line": {
          "color": "#FF97FF",
          "dash": "solid"
         },
         "marker": {
          "symbol": "circle"
         },
         "mode": "lines",
         "name": "Patient Education and Information",
         "orientation": "v",
         "showlegend": true,
         "type": "scatter",
         "x": [
          "2023-07-01T00:00:00",
          "2023-08-01T00:00:00",
          "2023-09-01T00:00:00",
          "2023-10-01T00:00:00",
          "2023-11-01T00:00:00",
          "2023-12-01T00:00:00",
          "2024-01-01T00:00:00",
          "2024-02-01T00:00:00",
          "2024-03-01T00:00:00"
         ],
         "xaxis": "x",
         "y": [
          0,
          1,
          0,
          0,
          0,
          2,
          0,
          1,
          0
         ],
         "yaxis": "y"
        },
        {
         "hovertemplate": "feedback_labels=Patient Respect<br>time=%{x}<br>Count of Feedback Labels=%{y}<extra></extra>",
         "legendgroup": "Patient Respect",
         "line": {
          "color": "#FECB52",
          "dash": "solid"
         },
         "marker": {
          "symbol": "circle"
         },
         "mode": "lines",
         "name": "Patient Respect",
         "orientation": "v",
         "showlegend": true,
         "type": "scatter",
         "x": [
          "2023-07-01T00:00:00",
          "2023-08-01T00:00:00",
          "2023-09-01T00:00:00",
          "2023-10-01T00:00:00",
          "2023-11-01T00:00:00",
          "2023-12-01T00:00:00",
          "2024-01-01T00:00:00",
          "2024-02-01T00:00:00",
          "2024-03-01T00:00:00"
         ],
         "xaxis": "x",
         "y": [
          11,
          6,
          10,
          4,
          7,
          11,
          8,
          96,
          82
         ],
         "yaxis": "y"
        },
        {
         "hovertemplate": "feedback_labels=Prescriptions and Medication Management<br>time=%{x}<br>Count of Feedback Labels=%{y}<extra></extra>",
         "legendgroup": "Prescriptions and Medication Management",
         "line": {
          "color": "#636EFA",
          "dash": "solid"
         },
         "marker": {
          "symbol": "circle"
         },
         "mode": "lines",
         "name": "Prescriptions and Medication Management",
         "orientation": "v",
         "showlegend": true,
         "type": "scatter",
         "x": [
          "2023-07-01T00:00:00",
          "2023-08-01T00:00:00",
          "2023-09-01T00:00:00",
          "2023-10-01T00:00:00",
          "2023-11-01T00:00:00",
          "2023-12-01T00:00:00",
          "2024-01-01T00:00:00",
          "2024-02-01T00:00:00",
          "2024-03-01T00:00:00"
         ],
         "xaxis": "x",
         "y": [
          1,
          1,
          0,
          0,
          0,
          0,
          1,
          7,
          2
         ],
         "yaxis": "y"
        },
        {
         "hovertemplate": "feedback_labels=Reception Staff Interaction<br>time=%{x}<br>Count of Feedback Labels=%{y}<extra></extra>",
         "legendgroup": "Reception Staff Interaction",
         "line": {
          "color": "#EF553B",
          "dash": "solid"
         },
         "marker": {
          "symbol": "circle"
         },
         "mode": "lines",
         "name": "Reception Staff Interaction",
         "orientation": "v",
         "showlegend": true,
         "type": "scatter",
         "x": [
          "2023-07-01T00:00:00",
          "2023-08-01T00:00:00",
          "2023-09-01T00:00:00",
          "2023-10-01T00:00:00",
          "2023-11-01T00:00:00",
          "2023-12-01T00:00:00",
          "2024-01-01T00:00:00",
          "2024-02-01T00:00:00",
          "2024-03-01T00:00:00"
         ],
         "xaxis": "x",
         "y": [
          4,
          10,
          7,
          4,
          3,
          5,
          2,
          57,
          35
         ],
         "yaxis": "y"
        },
        {
         "hovertemplate": "feedback_labels=Staff Empathy and Compassion<br>time=%{x}<br>Count of Feedback Labels=%{y}<extra></extra>",
         "legendgroup": "Staff Empathy and Compassion",
         "line": {
          "color": "#00CC96",
          "dash": "solid"
         },
         "marker": {
          "symbol": "circle"
         },
         "mode": "lines",
         "name": "Staff Empathy and Compassion",
         "orientation": "v",
         "showlegend": true,
         "type": "scatter",
         "x": [
          "2023-07-01T00:00:00",
          "2023-08-01T00:00:00",
          "2023-09-01T00:00:00",
          "2023-10-01T00:00:00",
          "2023-11-01T00:00:00",
          "2023-12-01T00:00:00",
          "2024-01-01T00:00:00",
          "2024-02-01T00:00:00",
          "2024-03-01T00:00:00"
         ],
         "xaxis": "x",
         "y": [
          7,
          5,
          12,
          2,
          0,
          5,
          5,
          34,
          28
         ],
         "yaxis": "y"
        },
        {
         "hovertemplate": "feedback_labels=Staff Professionalism<br>time=%{x}<br>Count of Feedback Labels=%{y}<extra></extra>",
         "legendgroup": "Staff Professionalism",
         "line": {
          "color": "#AB63FA",
          "dash": "solid"
         },
         "marker": {
          "symbol": "circle"
         },
         "mode": "lines",
         "name": "Staff Professionalism",
         "orientation": "v",
         "showlegend": true,
         "type": "scatter",
         "x": [
          "2023-07-01T00:00:00",
          "2023-08-01T00:00:00",
          "2023-09-01T00:00:00",
          "2023-10-01T00:00:00",
          "2023-11-01T00:00:00",
          "2023-12-01T00:00:00",
          "2024-01-01T00:00:00",
          "2024-02-01T00:00:00",
          "2024-03-01T00:00:00"
         ],
         "xaxis": "x",
         "y": [
          13,
          10,
          13,
          15,
          3,
          13,
          9,
          121,
          85
         ],
         "yaxis": "y"
        },
        {
         "hovertemplate": "feedback_labels=Surgery Website<br>time=%{x}<br>Count of Feedback Labels=%{y}<extra></extra>",
         "legendgroup": "Surgery Website",
         "line": {
          "color": "#FFA15A",
          "dash": "solid"
         },
         "marker": {
          "symbol": "circle"
         },
         "mode": "lines",
         "name": "Surgery Website",
         "orientation": "v",
         "showlegend": true,
         "type": "scatter",
         "x": [
          "2023-07-01T00:00:00",
          "2023-08-01T00:00:00",
          "2023-09-01T00:00:00",
          "2023-10-01T00:00:00",
          "2023-11-01T00:00:00",
          "2023-12-01T00:00:00",
          "2024-01-01T00:00:00",
          "2024-02-01T00:00:00",
          "2024-03-01T00:00:00"
         ],
         "xaxis": "x",
         "y": [
          0,
          0,
          0,
          0,
          0,
          0,
          0,
          1,
          0
         ],
         "yaxis": "y"
        },
        {
         "hovertemplate": "feedback_labels=Test Results<br>time=%{x}<br>Count of Feedback Labels=%{y}<extra></extra>",
         "legendgroup": "Test Results",
         "line": {
          "color": "#19D3F3",
          "dash": "solid"
         },
         "marker": {
          "symbol": "circle"
         },
         "mode": "lines",
         "name": "Test Results",
         "orientation": "v",
         "showlegend": true,
         "type": "scatter",
         "x": [
          "2023-07-01T00:00:00",
          "2023-08-01T00:00:00",
          "2023-09-01T00:00:00",
          "2023-10-01T00:00:00",
          "2023-11-01T00:00:00",
          "2023-12-01T00:00:00",
          "2024-01-01T00:00:00",
          "2024-02-01T00:00:00",
          "2024-03-01T00:00:00"
         ],
         "xaxis": "x",
         "y": [
          1,
          0,
          1,
          1,
          0,
          0,
          0,
          5,
          8
         ],
         "yaxis": "y"
        },
        {
         "hovertemplate": "feedback_labels=Treatment Quality<br>time=%{x}<br>Count of Feedback Labels=%{y}<extra></extra>",
         "legendgroup": "Treatment Quality",
         "line": {
          "color": "#FF6692",
          "dash": "solid"
         },
         "marker": {
          "symbol": "circle"
         },
         "mode": "lines",
         "name": "Treatment Quality",
         "orientation": "v",
         "showlegend": true,
         "type": "scatter",
         "x": [
          "2023-07-01T00:00:00",
          "2023-08-01T00:00:00",
          "2023-09-01T00:00:00",
          "2023-10-01T00:00:00",
          "2023-11-01T00:00:00",
          "2023-12-01T00:00:00",
          "2024-01-01T00:00:00",
          "2024-02-01T00:00:00",
          "2024-03-01T00:00:00"
         ],
         "xaxis": "x",
         "y": [
          2,
          2,
          2,
          1,
          2,
          5,
          5,
          38,
          21
         ],
         "yaxis": "y"
        },
        {
         "hovertemplate": "feedback_labels=Vaccinations<br>time=%{x}<br>Count of Feedback Labels=%{y}<extra></extra>",
         "legendgroup": "Vaccinations",
         "line": {
          "color": "#B6E880",
          "dash": "solid"
         },
         "marker": {
          "symbol": "circle"
         },
         "mode": "lines",
         "name": "Vaccinations",
         "orientation": "v",
         "showlegend": true,
         "type": "scatter",
         "x": [
          "2023-07-01T00:00:00",
          "2023-08-01T00:00:00",
          "2023-09-01T00:00:00",
          "2023-10-01T00:00:00",
          "2023-11-01T00:00:00",
          "2023-12-01T00:00:00",
          "2024-01-01T00:00:00",
          "2024-02-01T00:00:00",
          "2024-03-01T00:00:00"
         ],
         "xaxis": "x",
         "y": [
          0,
          0,
          2,
          0,
          0,
          0,
          0,
          4,
          2
         ],
         "yaxis": "y"
        },
        {
         "hovertemplate": "feedback_labels=Waiting Time<br>time=%{x}<br>Count of Feedback Labels=%{y}<extra></extra>",
         "legendgroup": "Waiting Time",
         "line": {
          "color": "#FF97FF",
          "dash": "solid"
         },
         "marker": {
          "symbol": "circle"
         },
         "mode": "lines",
         "name": "Waiting Time",
         "orientation": "v",
         "showlegend": true,
         "type": "scatter",
         "x": [
          "2023-07-01T00:00:00",
          "2023-08-01T00:00:00",
          "2023-09-01T00:00:00",
          "2023-10-01T00:00:00",
          "2023-11-01T00:00:00",
          "2023-12-01T00:00:00",
          "2024-01-01T00:00:00",
          "2024-02-01T00:00:00",
          "2024-03-01T00:00:00"
         ],
         "xaxis": "x",
         "y": [
          0,
          0,
          1,
          0,
          0,
          0,
          0,
          21,
          6
         ],
         "yaxis": "y"
        }
       ],
       "layout": {
        "height": 360,
        "legend": {
         "title": {
          "text": "Feedback Labels"
         },
         "tracegroupgap": 0,
         "x": 1.05,
         "xanchor": "left",
         "y": 1,
         "yanchor": "top"
        },
        "plot_bgcolor": "white",
        "template": {
         "data": {
          "candlestick": [
           {
            "decreasing": {
             "line": {
              "color": "#000033"
             }
            },
            "increasing": {
             "line": {
              "color": "#000032"
             }
            },
            "type": "candlestick"
           }
          ],
          "contour": [
           {
            "colorscale": [
             [
              0,
              "#000011"
             ],
             [
              0.1111111111111111,
              "#000012"
             ],
             [
              0.2222222222222222,
              "#000013"
             ],
             [
              0.3333333333333333,
              "#000014"
             ],
             [
              0.4444444444444444,
              "#000015"
             ],
             [
              0.5555555555555556,
              "#000016"
             ],
             [
              0.6666666666666666,
              "#000017"
             ],
             [
              0.7777777777777778,
              "#000018"
             ],
             [
              0.8888888888888888,
              "#000019"
             ],
             [
              1,
              "#000020"
             ]
            ],
            "type": "contour"
           }
          ],
          "contourcarpet": [
           {
            "colorscale": [
             [
              0,
              "#000011"
             ],
             [
              0.1111111111111111,
              "#000012"
             ],
             [
              0.2222222222222222,
              "#000013"
             ],
             [
              0.3333333333333333,
              "#000014"
             ],
             [
              0.4444444444444444,
              "#000015"
             ],
             [
              0.5555555555555556,
              "#000016"
             ],
             [
              0.6666666666666666,
              "#000017"
             ],
             [
              0.7777777777777778,
              "#000018"
             ],
             [
              0.8888888888888888,
              "#000019"
             ],
             [
              1,
              "#000020"
             ]
            ],
            "type": "contourcarpet"
           }
          ],
          "heatmap": [
           {
            "colorscale": [
             [
              0,
              "#000011"
             ],
             [
              0.1111111111111111,
              "#000012"
             ],
             [
              0.2222222222222222,
              "#000013"
             ],
             [
              0.3333333333333333,
              "#000014"
             ],
             [
              0.4444444444444444,
              "#000015"
             ],
             [
              0.5555555555555556,
              "#000016"
             ],
             [
              0.6666666666666666,
              "#000017"
             ],
             [
              0.7777777777777778,
              "#000018"
             ],
             [
              0.8888888888888888,
              "#000019"
             ],
             [
              1,
              "#000020"
             ]
            ],
            "type": "heatmap"
           }
          ],
          "histogram2d": [
           {
            "colorscale": [
             [
              0,
              "#000011"
             ],
             [
              0.1111111111111111,
              "#000012"
             ],
             [
              0.2222222222222222,
              "#000013"
             ],
             [
              0.3333333333333333,
              "#000014"
             ],
             [
              0.4444444444444444,
              "#000015"
             ],
             [
              0.5555555555555556,
              "#000016"
             ],
             [
              0.6666666666666666,
              "#000017"
             ],
             [
              0.7777777777777778,
              "#000018"
             ],
             [
              0.8888888888888888,
              "#000019"
             ],
             [
              1,
              "#000020"
             ]
            ],
            "type": "histogram2d"
           }
          ],
          "icicle": [
           {
            "textfont": {
             "color": "white"
            },
            "type": "icicle"
           }
          ],
          "sankey": [
           {
            "textfont": {
             "color": "#000036"
            },
            "type": "sankey"
           }
          ],
          "scatter": [
           {
            "marker": {
             "line": {
              "width": 0
             }
            },
            "type": "scatter"
           }
          ],
          "table": [
           {
            "cells": {
             "fill": {
              "color": "#000038"
             },
             "font": {
              "color": "#000037"
             },
             "line": {
              "color": "#000039"
             }
            },
            "header": {
             "fill": {
              "color": "#000040"
             },
             "font": {
              "color": "#000036"
             },
             "line": {
              "color": "#000039"
             }
            },
            "type": "table"
           }
          ],
          "waterfall": [
           {
            "connector": {
             "line": {
              "color": "#000036",
              "width": 2
             }
            },
            "decreasing": {
             "marker": {
              "color": "#000033"
             }
            },
            "increasing": {
             "marker": {
              "color": "#000032"
             }
            },
            "totals": {
             "marker": {
              "color": "#000034"
             }
            },
            "type": "waterfall"
           }
          ]
         },
         "layout": {
          "coloraxis": {
           "colorscale": [
            [
             0,
             "#000011"
            ],
            [
             0.1111111111111111,
             "#000012"
            ],
            [
             0.2222222222222222,
             "#000013"
            ],
            [
             0.3333333333333333,
             "#000014"
            ],
            [
             0.4444444444444444,
             "#000015"
            ],
            [
             0.5555555555555556,
             "#000016"
            ],
            [
             0.6666666666666666,
             "#000017"
            ],
            [
             0.7777777777777778,
             "#000018"
            ],
            [
             0.8888888888888888,
             "#000019"
            ],
            [
             1,
             "#000020"
            ]
           ]
          },
          "colorscale": {
           "diverging": [
            [
             0,
             "#000021"
            ],
            [
             0.1,
             "#000022"
            ],
            [
             0.2,
             "#000023"
            ],
            [
             0.3,
             "#000024"
            ],
            [
             0.4,
             "#000025"
            ],
            [
             0.5,
             "#000026"
            ],
            [
             0.6,
             "#000027"
            ],
            [
             0.7,
             "#000028"
            ],
            [
             0.8,
             "#000029"
            ],
            [
             0.9,
             "#000030"
            ],
            [
             1,
             "#000031"
            ]
           ],
           "sequential": [
            [
             0,
             "#000011"
            ],
            [
             0.1111111111111111,
             "#000012"
            ],
            [
             0.2222222222222222,
             "#000013"
            ],
            [
             0.3333333333333333,
             "#000014"
            ],
            [
             0.4444444444444444,
             "#000015"
            ],
            [
             0.5555555555555556,
             "#000016"
            ],
            [
             0.6666666666666666,
             "#000017"
            ],
            [
             0.7777777777777778,
             "#000018"
            ],
            [
             0.8888888888888888,
             "#000019"
            ],
            [
             1,
             "#000020"
            ]
           ],
           "sequentialminus": [
            [
             0,
             "#000011"
            ],
            [
             0.1111111111111111,
             "#000012"
            ],
            [
             0.2222222222222222,
             "#000013"
            ],
            [
             0.3333333333333333,
             "#000014"
            ],
            [
             0.4444444444444444,
             "#000015"
            ],
            [
             0.5555555555555556,
             "#000016"
            ],
            [
             0.6666666666666666,
             "#000017"
            ],
            [
             0.7777777777777778,
             "#000018"
            ],
            [
             0.8888888888888888,
             "#000019"
            ],
            [
             1,
             "#000020"
            ]
           ]
          },
          "colorway": [
           "#000001",
           "#000002",
           "#000003",
           "#000004",
           "#000005",
           "#000006",
           "#000007",
           "#000008",
           "#000009",
           "#000010"
          ]
         }
        },
        "title": {
         "text": "Time Series of Feedback Labels (Monthly Aggregation)"
        },
        "width": 1100,
        "xaxis": {
         "anchor": "y",
         "autorange": true,
         "domain": [
          0,
          1
         ],
         "gridcolor": "lightgray",
         "linecolor": "black",
         "linewidth": 1,
         "range": [
          "2023-07-01",
          "2024-03-01"
         ],
         "showline": true,
         "title": {
          "text": "time"
         },
         "type": "date"
        },
        "yaxis": {
         "anchor": "x",
         "autorange": true,
         "domain": [
          0,
          1
         ],
         "gridcolor": "lightgray",
         "linecolor": "black",
         "linewidth": 1,
         "range": [
          -6.722222222222222,
          127.72222222222223
         ],
         "showline": true,
         "title": {
          "text": "Count of Feedback Labels"
         },
         "type": "linear"
        }
       }
      },
      "image/png": "[encoded data removed]",
      "text/html": [
       "<div>                            <div id=\"fe80a283-bad2-4669-be97-0bbccf63af8f\" class=\"plotly-graph-div\" style=\"height:525px; width:1100px;\"></div>            <script type=\"text/javascript\">                require([\"plotly\"], function(Plotly) {                    window.PLOTLYENV=window.PLOTLYENV || {};                                    if (document.getElementById(\"fe80a283-bad2-4669-be97-0bbccf63af8f\")) {                    Plotly.newPlot(                        \"fe80a283-bad2-4669-be97-0bbccf63af8f\",                        [{\"hovertemplate\":\"feedback_labels=Accessibility and Convenience\\u003cbr\\u003etime=%{x}\\u003cbr\\u003eCount of Feedback Labels=%{y}\\u003cextra\\u003e\\u003c\\u002fextra\\u003e\",\"legendgroup\":\"Accessibility and Convenience\",\"line\":{\"color\":\"#636EFA\",\"dash\":\"solid\"},\"marker\":{\"symbol\":\"circle\"},\"mode\":\"lines\",\"name\":\"Accessibility and Convenience\",\"orientation\":\"v\",\"showlegend\":true,\"x\":[\"2023-07-01T00:00:00\",\"2023-08-01T00:00:00\",\"2023-09-01T00:00:00\",\"2023-10-01T00:00:00\",\"2023-11-01T00:00:00\",\"2023-12-01T00:00:00\",\"2024-01-01T00:00:00\",\"2024-02-01T00:00:00\",\"2024-03-01T00:00:00\"],\"xaxis\":\"x\",\"y\":[0,4,2,2,0,5,1,40,30],\"yaxis\":\"y\",\"type\":\"scatter\"},{\"hovertemplate\":\"feedback_labels=Appointment Availability\\u003cbr\\u003etime=%{x}\\u003cbr\\u003eCount of Feedback Labels=%{y}\\u003cextra\\u003e\\u003c\\u002fextra\\u003e\",\"legendgroup\":\"Appointment Availability\",\"line\":{\"color\":\"#EF553B\",\"dash\":\"solid\"},\"marker\":{\"symbol\":\"circle\"},\"mode\":\"lines\",\"name\":\"Appointment Availability\",\"orientation\":\"v\",\"showlegend\":true,\"x\":[\"2023-07-01T00:00:00\",\"2023-08-01T00:00:00\",\"2023-09-01T00:00:00\",\"2023-10-01T00:00:00\",\"2023-11-01T00:00:00\",\"2023-12-01T00:00:00\",\"2024-01-01T00:00:00\",\"2024-02-01T00:00:00\",\"2024-03-01T00:00:00\"],\"xaxis\":\"x\",\"y\":[2,0,1,0,0,1,2,45,31],\"yaxis\":\"y\",\"type\":\"scatter\"},{\"hovertemplate\":\"feedback_labels=Communication Effectiveness\\u003cbr\\u003etime=%{x}\\u003cbr\\u003eCount of Feedback Labels=%{y}\\u003cextra\\u003e\\u003c\\u002fextra\\u003e\",\"legendgroup\":\"Communication Effectiveness\",\"line\":{\"color\":\"#00CC96\",\"dash\":\"solid\"},\"marker\":{\"symbol\":\"circle\"},\"mode\":\"lines\",\"name\":\"Communication Effectiveness\",\"orientation\":\"v\",\"showlegend\":true,\"x\":[\"2023-07-01T00:00:00\",\"2023-08-01T00:00:00\",\"2023-09-01T00:00:00\",\"2023-10-01T00:00:00\",\"2023-11-01T00:00:00\",\"2023-12-01T00:00:00\",\"2024-01-01T00:00:00\",\"2024-02-01T00:00:00\",\"2024-03-01T00:00:00\"],\"xaxis\":\"x\",\"y\":[1,0,0,0,0,0,0,2,2],\"yaxis\":\"y\",\"type\":\"scatter\"},{\"hovertemplate\":\"feedback_labels=Environment and Ambiance\\u003cbr\\u003etime=%{x}\\u003cbr\\u003eCount of Feedback Labels=%{y}\\u003cextra\\u003e\\u003c\\u002fextra\\u003e\",\"legendgroup\":\"Environment and Ambiance\",\"line\":{\"color\":\"#AB63FA\",\"dash\":\"solid\"},\"marker\":{\"symbol\":\"circle\"},\"mode\":\"lines\",\"name\":\"Environment and Ambiance\",\"orientation\":\"v\",\"showlegend\":true,\"x\":[\"2023-07-01T00:00:00\",\"2023-08-01T00:00:00\",\"2023-09-01T00:00:00\",\"2023-10-01T00:00:00\",\"2023-11-01T00:00:00\",\"2023-12-01T00:00:00\",\"2024-01-01T00:00:00\",\"2024-02-01T00:00:00\",\"2024-03-01T00:00:00\"],\"xaxis\":\"x\",\"y\":[0,0,0,1,0,2,0,4,3],\"yaxis\":\"y\",\"type\":\"scatter\"},{\"hovertemplate\":\"feedback_labels=Facility Cleanliness\\u003cbr\\u003etime=%{x}\\u003cbr\\u003eCount of Feedback Labels=%{y}\\u003cextra\\u003e\\u003c\\u002fextra\\u003e\",\"legendgroup\":\"Facility Cleanliness\",\"line\":{\"color\":\"#FFA15A\",\"dash\":\"solid\"},\"marker\":{\"symbol\":\"circle\"},\"mode\":\"lines\",\"name\":\"Facility Cleanliness\",\"orientation\":\"v\",\"showlegend\":true,\"x\":[\"2023-07-01T00:00:00\",\"2023-08-01T00:00:00\",\"2023-09-01T00:00:00\",\"2023-10-01T00:00:00\",\"2023-11-01T00:00:00\",\"2023-12-01T00:00:00\",\"2024-01-01T00:00:00\",\"2024-02-01T00:00:00\",\"2024-03-01T00:00:00\"],\"xaxis\":\"x\",\"y\":[0,0,0,0,0,0,0,4,3],\"yaxis\":\"y\",\"type\":\"scatter\"},{\"hovertemplate\":\"feedback_labels=Feedback and Complaints Handling\\u003cbr\\u003etime=%{x}\\u003cbr\\u003eCount of Feedback Labels=%{y}\\u003cextra\\u003e\\u003c\\u002fextra\\u003e\",\"legendgroup\":\"Feedback and Complaints Handling\",\"line\":{\"color\":\"#19D3F3\",\"dash\":\"solid\"},\"marker\":{\"symbol\":\"circle\"},\"mode\":\"lines\",\"name\":\"Feedback and Complaints Handling\",\"orientation\":\"v\",\"showlegend\":true,\"x\":[\"2023-07-01T00:00:00\",\"2023-08-01T00:00:00\",\"2023-09-01T00:00:00\",\"2023-10-01T00:00:00\",\"2023-11-01T00:00:00\",\"2023-12-01T00:00:00\",\"2024-01-01T00:00:00\",\"2024-02-01T00:00:00\",\"2024-03-01T00:00:00\"],\"xaxis\":\"x\",\"y\":[0,0,0,0,0,0,0,1,1],\"yaxis\":\"y\",\"type\":\"scatter\"},{\"hovertemplate\":\"feedback_labels=Follow-up and Continuity of Care\\u003cbr\\u003etime=%{x}\\u003cbr\\u003eCount of Feedback Labels=%{y}\\u003cextra\\u003e\\u003c\\u002fextra\\u003e\",\"legendgroup\":\"Follow-up and Continuity of Care\",\"line\":{\"color\":\"#FF6692\",\"dash\":\"solid\"},\"marker\":{\"symbol\":\"circle\"},\"mode\":\"lines\",\"name\":\"Follow-up and Continuity of Care\",\"orientation\":\"v\",\"showlegend\":true,\"x\":[\"2023-07-01T00:00:00\",\"2023-08-01T00:00:00\",\"2023-09-01T00:00:00\",\"2023-10-01T00:00:00\",\"2023-11-01T00:00:00\",\"2023-12-01T00:00:00\",\"2024-01-01T00:00:00\",\"2024-02-01T00:00:00\",\"2024-03-01T00:00:00\"],\"xaxis\":\"x\",\"y\":[2,6,6,2,0,12,0,73,47],\"yaxis\":\"y\",\"type\":\"scatter\"},{\"hovertemplate\":\"feedback_labels=Mental Health Support\\u003cbr\\u003etime=%{x}\\u003cbr\\u003eCount of Feedback Labels=%{y}\\u003cextra\\u003e\\u003c\\u002fextra\\u003e\",\"legendgroup\":\"Mental Health Support\",\"line\":{\"color\":\"#B6E880\",\"dash\":\"solid\"},\"marker\":{\"symbol\":\"circle\"},\"mode\":\"lines\",\"name\":\"Mental Health Support\",\"orientation\":\"v\",\"showlegend\":true,\"x\":[\"2023-07-01T00:00:00\",\"2023-08-01T00:00:00\",\"2023-09-01T00:00:00\",\"2023-10-01T00:00:00\",\"2023-11-01T00:00:00\",\"2023-12-01T00:00:00\",\"2024-01-01T00:00:00\",\"2024-02-01T00:00:00\",\"2024-03-01T00:00:00\"],\"xaxis\":\"x\",\"y\":[0,0,0,0,0,0,0,2,0],\"yaxis\":\"y\",\"type\":\"scatter\"},{\"hovertemplate\":\"feedback_labels=Patient Education and Information\\u003cbr\\u003etime=%{x}\\u003cbr\\u003eCount of Feedback Labels=%{y}\\u003cextra\\u003e\\u003c\\u002fextra\\u003e\",\"legendgroup\":\"Patient Education and Information\",\"line\":{\"color\":\"#FF97FF\",\"dash\":\"solid\"},\"marker\":{\"symbol\":\"circle\"},\"mode\":\"lines\",\"name\":\"Patient Education and Information\",\"orientation\":\"v\",\"showlegend\":true,\"x\":[\"2023-07-01T00:00:00\",\"2023-08-01T00:00:00\",\"2023-09-01T00:00:00\",\"2023-10-01T00:00:00\",\"2023-11-01T00:00:00\",\"2023-12-01T00:00:00\",\"2024-01-01T00:00:00\",\"2024-02-01T00:00:00\",\"2024-03-01T00:00:00\"],\"xaxis\":\"x\",\"y\":[0,1,0,0,0,2,0,1,0],\"yaxis\":\"y\",\"type\":\"scatter\"},{\"hovertemplate\":\"feedback_labels=Patient Respect\\u003cbr\\u003etime=%{x}\\u003cbr\\u003eCount of Feedback Labels=%{y}\\u003cextra\\u003e\\u003c\\u002fextra\\u003e\",\"legendgroup\":\"Patient Respect\",\"line\":{\"color\":\"#FECB52\",\"dash\":\"solid\"},\"marker\":{\"symbol\":\"circle\"},\"mode\":\"lines\",\"name\":\"Patient Respect\",\"orientation\":\"v\",\"showlegend\":true,\"x\":[\"2023-07-01T00:00:00\",\"2023-08-01T00:00:00\",\"2023-09-01T00:00:00\",\"2023-10-01T00:00:00\",\"2023-11-01T00:00:00\",\"2023-12-01T00:00:00\",\"2024-01-01T00:00:00\",\"2024-02-01T00:00:00\",\"2024-03-01T00:00:00\"],\"xaxis\":\"x\",\"y\":[11,6,10,4,7,11,8,96,82],\"yaxis\":\"y\",\"type\":\"scatter\"},{\"hovertemplate\":\"feedback_labels=Prescriptions and Medication Management\\u003cbr\\u003etime=%{x}\\u003cbr\\u003eCount of Feedback Labels=%{y}\\u003cextra\\u003e\\u003c\\u002fextra\\u003e\",\"legendgroup\":\"Prescriptions and Medication Management\",\"line\":{\"color\":\"#636EFA\",\"dash\":\"solid\"},\"marker\":{\"symbol\":\"circle\"},\"mode\":\"lines\",\"name\":\"Prescriptions and Medication Management\",\"orientation\":\"v\",\"showlegend\":true,\"x\":[\"2023-07-01T00:00:00\",\"2023-08-01T00:00:00\",\"2023-09-01T00:00:00\",\"2023-10-01T00:00:00\",\"2023-11-01T00:00:00\",\"2023-12-01T00:00:00\",\"2024-01-01T00:00:00\",\"2024-02-01T00:00:00\",\"2024-03-01T00:00:00\"],\"xaxis\":\"x\",\"y\":[1,1,0,0,0,0,1,7,2],\"yaxis\":\"y\",\"type\":\"scatter\"},{\"hovertemplate\":\"feedback_labels=Reception Staff Interaction\\u003cbr\\u003etime=%{x}\\u003cbr\\u003eCount of Feedback Labels=%{y}\\u003cextra\\u003e\\u003c\\u002fextra\\u003e\",\"legendgroup\":\"Reception Staff Interaction\",\"line\":{\"color\":\"#EF553B\",\"dash\":\"solid\"},\"marker\":{\"symbol\":\"circle\"},\"mode\":\"lines\",\"name\":\"Reception Staff Interaction\",\"orientation\":\"v\",\"showlegend\":true,\"x\":[\"2023-07-01T00:00:00\",\"2023-08-01T00:00:00\",\"2023-09-01T00:00:00\",\"2023-10-01T00:00:00\",\"2023-11-01T00:00:00\",\"2023-12-01T00:00:00\",\"2024-01-01T00:00:00\",\"2024-02-01T00:00:00\",\"2024-03-01T00:00:00\"],\"xaxis\":\"x\",\"y\":[4,10,7,4,3,5,2,57,35],\"yaxis\":\"y\",\"type\":\"scatter\"},{\"hovertemplate\":\"feedback_labels=Staff Empathy and Compassion\\u003cbr\\u003etime=%{x}\\u003cbr\\u003eCount of Feedback Labels=%{y}\\u003cextra\\u003e\\u003c\\u002fextra\\u003e\",\"legendgroup\":\"Staff Empathy and Compassion\",\"line\":{\"color\":\"#00CC96\",\"dash\":\"solid\"},\"marker\":{\"symbol\":\"circle\"},\"mode\":\"lines\",\"name\":\"Staff Empathy and Compassion\",\"orientation\":\"v\",\"showlegend\":true,\"x\":[\"2023-07-01T00:00:00\",\"2023-08-01T00:00:00\",\"2023-09-01T00:00:00\",\"2023-10-01T00:00:00\",\"2023-11-01T00:00:00\",\"2023-12-01T00:00:00\",\"2024-01-01T00:00:00\",\"2024-02-01T00:00:00\",\"2024-03-01T00:00:00\"],\"xaxis\":\"x\",\"y\":[7,5,12,2,0,5,5,34,28],\"yaxis\":\"y\",\"type\":\"scatter\"},{\"hovertemplate\":\"feedback_labels=Staff Professionalism\\u003cbr\\u003etime=%{x}\\u003cbr\\u003eCount of Feedback Labels=%{y}\\u003cextra\\u003e\\u003c\\u002fextra\\u003e\",\"legendgroup\":\"Staff Professionalism\",\"line\":{\"color\":\"#AB63FA\",\"dash\":\"solid\"},\"marker\":{\"symbol\":\"circle\"},\"mode\":\"lines\",\"name\":\"Staff Professionalism\",\"orientation\":\"v\",\"showlegend\":true,\"x\":[\"2023-07-01T00:00:00\",\"2023-08-01T00:00:00\",\"2023-09-01T00:00:00\",\"2023-10-01T00:00:00\",\"2023-11-01T00:00:00\",\"2023-12-01T00:00:00\",\"2024-01-01T00:00:00\",\"2024-02-01T00:00:00\",\"2024-03-01T00:00:00\"],\"xaxis\":\"x\",\"y\":[13,10,13,15,3,13,9,121,85],\"yaxis\":\"y\",\"type\":\"scatter\"},{\"hovertemplate\":\"feedback_labels=Surgery Website\\u003cbr\\u003etime=%{x}\\u003cbr\\u003eCount of Feedback Labels=%{y}\\u003cextra\\u003e\\u003c\\u002fextra\\u003e\",\"legendgroup\":\"Surgery Website\",\"line\":{\"color\":\"#FFA15A\",\"dash\":\"solid\"},\"marker\":{\"symbol\":\"circle\"},\"mode\":\"lines\",\"name\":\"Surgery Website\",\"orientation\":\"v\",\"showlegend\":true,\"x\":[\"2023-07-01T00:00:00\",\"2023-08-01T00:00:00\",\"2023-09-01T00:00:00\",\"2023-10-01T00:00:00\",\"2023-11-01T00:00:00\",\"2023-12-01T00:00:00\",\"2024-01-01T00:00:00\",\"2024-02-01T00:00:00\",\"2024-03-01T00:00:00\"],\"xaxis\":\"x\",\"y\":[0,0,0,0,0,0,0,1,0],\"yaxis\":\"y\",\"type\":\"scatter\"},{\"hovertemplate\":\"feedback_labels=Test Results\\u003cbr\\u003etime=%{x}\\u003cbr\\u003eCount of Feedback Labels=%{y}\\u003cextra\\u003e\\u003c\\u002fextra\\u003e\",\"legendgroup\":\"Test Results\",\"line\":{\"color\":\"#19D3F3\",\"dash\":\"solid\"},\"marker\":{\"symbol\":\"circle\"},\"mode\":\"lines\",\"name\":\"Test Results\",\"orientation\":\"v\",\"showlegend\":true,\"x\":[\"2023-07-01T00:00:00\",\"2023-08-01T00:00:00\",\"2023-09-01T00:00:00\",\"2023-10-01T00:00:00\",\"2023-11-01T00:00:00\",\"2023-12-01T00:00:00\",\"2024-01-01T00:00:00\",\"2024-02-01T00:00:00\",\"2024-03-01T00:00:00\"],\"xaxis\":\"x\",\"y\":[1,0,1,1,0,0,0,5,8],\"yaxis\":\"y\",\"type\":\"scatter\"},{\"hovertemplate\":\"feedback_labels=Treatment Quality\\u003cbr\\u003etime=%{x}\\u003cbr\\u003eCount of Feedback Labels=%{y}\\u003cextra\\u003e\\u003c\\u002fextra\\u003e\",\"legendgroup\":\"Treatment Quality\",\"line\":{\"color\":\"#FF6692\",\"dash\":\"solid\"},\"marker\":{\"symbol\":\"circle\"},\"mode\":\"lines\",\"name\":\"Treatment Quality\",\"orientation\":\"v\",\"showlegend\":true,\"x\":[\"2023-07-01T00:00:00\",\"2023-08-01T00:00:00\",\"2023-09-01T00:00:00\",\"2023-10-01T00:00:00\",\"2023-11-01T00:00:00\",\"2023-12-01T00:00:00\",\"2024-01-01T00:00:00\",\"2024-02-01T00:00:00\",\"2024-03-01T00:00:00\"],\"xaxis\":\"x\",\"y\":[2,2,2,1,2,5,5,38,21],\"yaxis\":\"y\",\"type\":\"scatter\"},{\"hovertemplate\":\"feedback_labels=Vaccinations\\u003cbr\\u003etime=%{x}\\u003cbr\\u003eCount of Feedback Labels=%{y}\\u003cextra\\u003e\\u003c\\u002fextra\\u003e\",\"legendgroup\":\"Vaccinations\",\"line\":{\"color\":\"#B6E880\",\"dash\":\"solid\"},\"marker\":{\"symbol\":\"circle\"},\"mode\":\"lines\",\"name\":\"Vaccinations\",\"orientation\":\"v\",\"showlegend\":true,\"x\":[\"2023-07-01T00:00:00\",\"2023-08-01T00:00:00\",\"2023-09-01T00:00:00\",\"2023-10-01T00:00:00\",\"2023-11-01T00:00:00\",\"2023-12-01T00:00:00\",\"2024-01-01T00:00:00\",\"2024-02-01T00:00:00\",\"2024-03-01T00:00:00\"],\"xaxis\":\"x\",\"y\":[0,0,2,0,0,0,0,4,2],\"yaxis\":\"y\",\"type\":\"scatter\"},{\"hovertemplate\":\"feedback_labels=Waiting Time\\u003cbr\\u003etime=%{x}\\u003cbr\\u003eCount of Feedback Labels=%{y}\\u003cextra\\u003e\\u003c\\u002fextra\\u003e\",\"legendgroup\":\"Waiting Time\",\"line\":{\"color\":\"#FF97FF\",\"dash\":\"solid\"},\"marker\":{\"symbol\":\"circle\"},\"mode\":\"lines\",\"name\":\"Waiting Time\",\"orientation\":\"v\",\"showlegend\":true,\"x\":[\"2023-07-01T00:00:00\",\"2023-08-01T00:00:00\",\"2023-09-01T00:00:00\",\"2023-10-01T00:00:00\",\"2023-11-01T00:00:00\",\"2023-12-01T00:00:00\",\"2024-01-01T00:00:00\",\"2024-02-01T00:00:00\",\"2024-03-01T00:00:00\"],\"xaxis\":\"x\",\"y\":[0,0,1,0,0,0,0,21,6],\"yaxis\":\"y\",\"type\":\"scatter\"}],                        {\"template\":{\"data\":{\"candlestick\":[{\"decreasing\":{\"line\":{\"color\":\"#000033\"}},\"increasing\":{\"line\":{\"color\":\"#000032\"}},\"type\":\"candlestick\"}],\"contourcarpet\":[{\"colorscale\":[[0.0,\"#000011\"],[0.1111111111111111,\"#000012\"],[0.2222222222222222,\"#000013\"],[0.3333333333333333,\"#000014\"],[0.4444444444444444,\"#000015\"],[0.5555555555555556,\"#000016\"],[0.6666666666666666,\"#000017\"],[0.7777777777777778,\"#000018\"],[0.8888888888888888,\"#000019\"],[1.0,\"#000020\"]],\"type\":\"contourcarpet\"}],\"contour\":[{\"colorscale\":[[0.0,\"#000011\"],[0.1111111111111111,\"#000012\"],[0.2222222222222222,\"#000013\"],[0.3333333333333333,\"#000014\"],[0.4444444444444444,\"#000015\"],[0.5555555555555556,\"#000016\"],[0.6666666666666666,\"#000017\"],[0.7777777777777778,\"#000018\"],[0.8888888888888888,\"#000019\"],[1.0,\"#000020\"]],\"type\":\"contour\"}],\"heatmap\":[{\"colorscale\":[[0.0,\"#000011\"],[0.1111111111111111,\"#000012\"],[0.2222222222222222,\"#000013\"],[0.3333333333333333,\"#000014\"],[0.4444444444444444,\"#000015\"],[0.5555555555555556,\"#000016\"],[0.6666666666666666,\"#000017\"],[0.7777777777777778,\"#000018\"],[0.8888888888888888,\"#000019\"],[1.0,\"#000020\"]],\"type\":\"heatmap\"}],\"histogram2d\":[{\"colorscale\":[[0.0,\"#000011\"],[0.1111111111111111,\"#000012\"],[0.2222222222222222,\"#000013\"],[0.3333333333333333,\"#000014\"],[0.4444444444444444,\"#000015\"],[0.5555555555555556,\"#000016\"],[0.6666666666666666,\"#000017\"],[0.7777777777777778,\"#000018\"],[0.8888888888888888,\"#000019\"],[1.0,\"#000020\"]],\"type\":\"histogram2d\"}],\"icicle\":[{\"textfont\":{\"color\":\"white\"},\"type\":\"icicle\"}],\"sankey\":[{\"textfont\":{\"color\":\"#000036\"},\"type\":\"sankey\"}],\"scatter\":[{\"marker\":{\"line\":{\"width\":0}},\"type\":\"scatter\"}],\"table\":[{\"cells\":{\"fill\":{\"color\":\"#000038\"},\"font\":{\"color\":\"#000037\"},\"line\":{\"color\":\"#000039\"}},\"header\":{\"fill\":{\"color\":\"#000040\"},\"font\":{\"color\":\"#000036\"},\"line\":{\"color\":\"#000039\"}},\"type\":\"table\"}],\"waterfall\":[{\"connector\":{\"line\":{\"color\":\"#000036\",\"width\":2}},\"decreasing\":{\"marker\":{\"color\":\"#000033\"}},\"increasing\":{\"marker\":{\"color\":\"#000032\"}},\"totals\":{\"marker\":{\"color\":\"#000034\"}},\"type\":\"waterfall\"}]},\"layout\":{\"coloraxis\":{\"colorscale\":[[0.0,\"#000011\"],[0.1111111111111111,\"#000012\"],[0.2222222222222222,\"#000013\"],[0.3333333333333333,\"#000014\"],[0.4444444444444444,\"#000015\"],[0.5555555555555556,\"#000016\"],[0.6666666666666666,\"#000017\"],[0.7777777777777778,\"#000018\"],[0.8888888888888888,\"#000019\"],[1.0,\"#000020\"]]},\"colorscale\":{\"diverging\":[[0.0,\"#000021\"],[0.1,\"#000022\"],[0.2,\"#000023\"],[0.3,\"#000024\"],[0.4,\"#000025\"],[0.5,\"#000026\"],[0.6,\"#000027\"],[0.7,\"#000028\"],[0.8,\"#000029\"],[0.9,\"#000030\"],[1.0,\"#000031\"]],\"sequential\":[[0.0,\"#000011\"],[0.1111111111111111,\"#000012\"],[0.2222222222222222,\"#000013\"],[0.3333333333333333,\"#000014\"],[0.4444444444444444,\"#000015\"],[0.5555555555555556,\"#000016\"],[0.6666666666666666,\"#000017\"],[0.7777777777777778,\"#000018\"],[0.8888888888888888,\"#000019\"],[1.0,\"#000020\"]],\"sequentialminus\":[[0.0,\"#000011\"],[0.1111111111111111,\"#000012\"],[0.2222222222222222,\"#000013\"],[0.3333333333333333,\"#000014\"],[0.4444444444444444,\"#000015\"],[0.5555555555555556,\"#000016\"],[0.6666666666666666,\"#000017\"],[0.7777777777777778,\"#000018\"],[0.8888888888888888,\"#000019\"],[1.0,\"#000020\"]]},\"colorway\":[\"#000001\",\"#000002\",\"#000003\",\"#000004\",\"#000005\",\"#000006\",\"#000007\",\"#000008\",\"#000009\",\"#000010\"]}},\"xaxis\":{\"anchor\":\"y\",\"domain\":[0.0,1.0],\"title\":{\"text\":\"time\"},\"gridcolor\":\"lightgray\",\"showline\":true,\"linewidth\":1,\"linecolor\":\"black\"},\"yaxis\":{\"anchor\":\"x\",\"domain\":[0.0,1.0],\"title\":{\"text\":\"Count of Feedback Labels\"},\"gridcolor\":\"lightgray\",\"showline\":true,\"linewidth\":1,\"linecolor\":\"black\"},\"legend\":{\"title\":{\"text\":\"Feedback Labels\"},\"tracegroupgap\":0,\"x\":1.05,\"y\":1,\"xanchor\":\"left\",\"yanchor\":\"top\"},\"title\":{\"text\":\"Time Series of Feedback Labels (Monthly Aggregation)\"},\"width\":1100,\"plot_bgcolor\":\"white\"},                        {\"responsive\": true}                    ).then(function(){\n",
       "                            \n",
       "var gd = document.getElementById('fe80a283-bad2-4669-be97-0bbccf63af8f');\n",
       "var x = new MutationObserver(function (mutations, observer) {{\n",
       "        var display = window.getComputedStyle(gd).display;\n",
       "        if (!display || display === 'none') {{\n",
       "            console.log([gd, 'removed!']);\n",
       "            Plotly.purge(gd);\n",
       "            observer.disconnect();\n",
       "        }}\n",
       "}});\n",
       "\n",
       "// Listen for the removal of the full notebook cells\n",
       "var notebookContainer = gd.closest('#notebook-container');\n",
       "if (notebookContainer) {{\n",
       "    x.observe(notebookContainer, {childList: true});\n",
       "}}\n",
       "\n",
       "// Listen for the clearing of the current output cell\n",
       "var outputEl = gd.closest('.output');\n",
       "if (outputEl) {{\n",
       "    x.observe(outputEl, {childList: true});\n",
       "}}\n",
       "\n",
       "                        })                };                });            </script>        </div>"
      ]
     },
     "metadata": {},
     "output_type": "display_data"
    }
   ],
   "source": [
    "import pandas as pd\n",
    "import plotly.express as px\n",
    "data = data[((data['sentiment_free_text'] == 'neutral') | (data['sentiment_free_text'] == 'positive'))]\n",
    "data[\"time\"] = pd.to_datetime(data[\"time\"])\n",
    "\n",
    "# Setting the 'time' column as the index\n",
    "data.set_index(\"time\", inplace=True)\n",
    "\n",
    "# Grouping by month and 'feedback_labels' and then counting the occurrences\n",
    "# Converting the time index to a period index for monthly resampling\n",
    "data.index = data.index.to_period(\"M\")\n",
    "monthly_feedback_counts = (\n",
    "    data.groupby([data.index, \"feedback_labels\"])\n",
    "    .size()\n",
    "    .unstack(fill_value=0)\n",
    ")\n",
    "\n",
    "# Converting the period index back to a timestamp for compatibility with Plotly\n",
    "monthly_feedback_counts.index = monthly_feedback_counts.index.to_timestamp()\n",
    "\n",
    "# Plotting the data using Plotly Express with custom line colors\n",
    "fig1 = px.line(\n",
    "    monthly_feedback_counts,\n",
    "    x=monthly_feedback_counts.index,\n",
    "    y=monthly_feedback_counts.columns,\n",
    "    title=\"Time Series of Feedback Labels (Monthly Aggregation)\",\n",
    "    labels={\"x\": \"Month\", \"value\": \"Count of Feedback Labels\", \"variable\": \"Feedback Labels\"},\n",
    "    color_discrete_sequence=px.colors.qualitative.Plotly,\n",
    ")\n",
    "\n",
    "# Updating the layout\n",
    "fig1.update_layout(\n",
    "    width=1100,\n",
    "    legend=dict(title=\"Feedback Labels\", x=1.05, y=1, xanchor=\"left\", yanchor=\"top\"),\n",
    "    xaxis=dict(gridcolor=\"lightgray\", showline=True, linewidth=1, linecolor=\"black\"),\n",
    "    yaxis=dict(gridcolor=\"lightgray\", showline=True, linewidth=1, linecolor=\"black\"),\n",
    "    plot_bgcolor=\"white\",\n",
    ")\n",
    "\n",
    "# Displaying the plot in Jupyter Notebook\n",
    "fig1.show()"
   ]
  },
  {
   "cell_type": "code",
   "execution_count": null,
   "id": "bdc0a29b-06be-401d-af70-3d1f8a7a62f3",
   "metadata": {},
   "outputs": [],
   "source": []
  },
  {
   "cell_type": "code",
   "execution_count": null,
   "id": "41ac133d-19c3-42c9-bdfc-3f977fa0c9bf",
   "metadata": {},
   "outputs": [],
   "source": []
  },
  {
   "cell_type": "code",
   "execution_count": null,
   "id": "e05fb3d4-cf32-4254-8310-f651047a3745",
   "metadata": {},
   "outputs": [],
   "source": []
  }
 ],
 "metadata": {
  "hide_input": false,
  "kernelspec": {
   "display_name": "Python 3 (ipykernel)",
   "language": "python",
   "name": "python3"
  },
  "language_info": {
   "codemirror_mode": {
    "name": "ipython",
    "version": 3
   },
   "file_extension": ".py",
   "mimetype": "text/x-python",
   "name": "python",
   "nbconvert_exporter": "python",
   "pygments_lexer": "ipython3",
   "version": "3.10.6"
  },
  "toc": {
   "base_numbering": 1,
   "nav_menu": {},
   "number_sections": true,
   "sideBar": true,
   "skip_h1_title": false,
   "title_cell": "Table of Contents",
   "title_sidebar": "Contents",
   "toc_cell": false,
   "toc_position": {},
   "toc_section_display": true,
   "toc_window_display": false
  },
  "widgets": {
   "application/vnd.jupyter.widget-state+json": {
    "state": {},
    "version_major": 2,
    "version_minor": 0
   }
  }
 },
 "nbformat": 4,
 "nbformat_minor": 5
}
