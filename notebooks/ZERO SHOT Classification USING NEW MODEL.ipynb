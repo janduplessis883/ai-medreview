{
 "cells": [
  {
   "cell_type": "code",
   "execution_count": 13,
   "id": "fcffff2e-bdce-42d0-a41d-afcfc37bab80",
   "metadata": {},
   "outputs": [],
   "source": [
    "from transformers import pipeline"
   ]
  },
  {
   "cell_type": "code",
   "execution_count": 14,
   "id": "2650fadd-c83d-46fe-8ed1-16e1fc615bee",
   "metadata": {},
   "outputs": [],
   "source": [
    "from tqdm import tqdm"
   ]
  },
  {
   "cell_type": "code",
   "execution_count": 15,
   "id": "4ffc9e42-b2f7-4ac4-a223-e7001696410d",
   "metadata": {},
   "outputs": [],
   "source": [
    "classifier = pipeline(\"zero-shot-classification\", model=\"MoritzLaurer/deberta-v3-large-zeroshot-v2.0-c\")"
   ]
  },
  {
   "cell_type": "code",
   "execution_count": 17,
   "id": "737b75bc-4441-4a22-b9cd-b86acf5c99ca",
   "metadata": {},
   "outputs": [
    {
     "name": "stdout",
     "output_type": "stream",
     "text": [
      "Prescriptions and Medication Management\n"
     ]
    }
   ],
   "source": [
    "text = \"I would like to optimize my Diabetes medication\"\n",
    "candidate_labels = [\n",
    "        \"Staff Professionalism\",\n",
    "        \"Communication Effectiveness\",\n",
    "        \"Appointment Availability\",\n",
    "        \"Waiting Time\",\n",
    "        \"Facility Cleanliness\",\n",
    "        \"Patient Respect\",\n",
    "        \"Treatment Quality\",\n",
    "        \"Staff Empathy and Compassion\",\n",
    "        \"Administrative Efficiency\",\n",
    "        \"Reception Staff Interaction\",\n",
    "        \"Environment and Ambiance\",\n",
    "        \"Follow-up and Continuity of Care\",\n",
    "        \"Accessibility and Convenience\",\n",
    "        \"Patient Education and Information\",\n",
    "        \"Feedback and Complaints Handling\",\n",
    "        \"Test Results\",\n",
    "        \"Surgery Website\",\n",
    "        \"Telehealth\",\n",
    "        \"Vaccinations\",\n",
    "        \"Prescriptions and Medication Management\",\n",
    "        \"Mental Health Support\",\n",
    "    ]\n",
    "\n",
    "result = classifier(text, candidate_labels)\n",
    "print(result['labels'][0])"
   ]
  },
  {
   "cell_type": "code",
   "execution_count": null,
   "id": "cfa98053-2e57-4765-939a-be3689655bc3",
   "metadata": {},
   "outputs": [],
   "source": []
  }
 ],
 "metadata": {
  "kernelspec": {
   "display_name": "Python 3 (ipykernel)",
   "language": "python",
   "name": "python3"
  },
  "language_info": {
   "codemirror_mode": {
    "name": "ipython",
    "version": 3
   },
   "file_extension": ".py",
   "mimetype": "text/x-python",
   "name": "python",
   "nbconvert_exporter": "python",
   "pygments_lexer": "ipython3",
   "version": "3.10.6"
  }
 },
 "nbformat": 4,
 "nbformat_minor": 5
}
