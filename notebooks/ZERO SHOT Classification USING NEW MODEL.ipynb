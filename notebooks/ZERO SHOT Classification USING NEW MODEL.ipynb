{
 "cells": [
  {
   "cell_type": "code",
   "execution_count": 2,
   "id": "fcffff2e-bdce-42d0-a41d-afcfc37bab80",
   "metadata": {},
   "outputs": [],
   "source": [
    "from transformers import pipeline"
   ]
  },
  {
   "cell_type": "code",
   "execution_count": 3,
   "id": "2650fadd-c83d-46fe-8ed1-16e1fc615bee",
   "metadata": {},
   "outputs": [],
   "source": [
    "from tqdm import tqdm"
   ]
  },
  {
   "cell_type": "code",
   "execution_count": 4,
   "id": "4ffc9e42-b2f7-4ac4-a223-e7001696410d",
   "metadata": {},
   "outputs": [
    {
     "name": "stderr",
     "output_type": "stream",
     "text": [
      "/Users/janduplessis/.pyenv/versions/ai-medreview/lib/python3.10/site-packages/huggingface_hub/file_download.py:1150: FutureWarning: `resume_download` is deprecated and will be removed in version 1.0.0. Downloads always resume when possible. If you want to force a new download, use `force_download=True`.\n",
      "  warnings.warn(\n"
     ]
    }
   ],
   "source": [
    "classifier = pipeline(\"zero-shot-classification\", model=\"MoritzLaurer/deberta-v3-large-zeroshot-v2.0-c\")"
   ]
  },
  {
   "cell_type": "code",
   "execution_count": 6,
   "id": "737b75bc-4441-4a22-b9cd-b86acf5c99ca",
   "metadata": {},
   "outputs": [
    {
     "name": "stdout",
     "output_type": "stream",
     "text": [
      "{'sequence': 'THe surgery website is not very helpful', 'labels': ['Surgery Website', 'Treatment Quality', 'Communication Effectiveness', 'Patient Education and Information', 'Telehealth', 'Follow-up and Continuity of Care', 'Feedback and Complaints Handling', 'Administrative Efficiency', 'Accessibility and Convenience', 'Environment and Ambiance', 'Prescriptions and Medication Management', 'Staff Professionalism', 'Mental Health Support', 'Test Results', 'Appointment Availability', 'Patient Respect', 'Waiting Time', 'Staff Empathy and Compassion', 'Facility Cleanliness', 'Vaccinations', 'Reception Staff Interaction'], 'scores': [0.5357076525688171, 0.12500958144664764, 0.0915779247879982, 0.04794451594352722, 0.036029160022735596, 0.025781231001019478, 0.021486762911081314, 0.020418839529156685, 0.01866987533867359, 0.011322529055178165, 0.010715690441429615, 0.010620290413498878, 0.007726816926151514, 0.007588998880237341, 0.006600783672183752, 0.005682758055627346, 0.004787435755133629, 0.00471216905862093, 0.0027822800911962986, 0.002420565579086542, 0.002414208371192217]}\n"
     ]
    }
   ],
   "source": [
    "text = \"THe surgery website is not very helpful\"\n",
    "candidate_labels = [\n",
    "        \"Staff Professionalism\",\n",
    "        \"Communication Effectiveness\",\n",
    "        \"Appointment Availability\",\n",
    "        \"Waiting Time\",\n",
    "        \"Facility Cleanliness\",\n",
    "        \"Patient Respect\",\n",
    "        \"Treatment Quality\",\n",
    "        \"Staff Empathy and Compassion\",\n",
    "        \"Administrative Efficiency\",\n",
    "        \"Reception Staff Interaction\",\n",
    "        \"Environment and Ambiance\",\n",
    "        \"Follow-up and Continuity of Care\",\n",
    "        \"Accessibility and Convenience\",\n",
    "        \"Patient Education and Information\",\n",
    "        \"Feedback and Complaints Handling\",\n",
    "        \"Test Results\",\n",
    "        \"Surgery Website\",\n",
    "        \"Telehealth\",\n",
    "        \"Vaccinations\",\n",
    "        \"Prescriptions and Medication Management\",\n",
    "        \"Mental Health Support\",\n",
    "    ]\n",
    "\n",
    "result = classifier(text, candidate_labels)\n",
    "print(result)"
   ]
  },
  {
   "cell_type": "code",
   "execution_count": null,
   "id": "cfa98053-2e57-4765-939a-be3689655bc3",
   "metadata": {},
   "outputs": [],
   "source": []
  }
 ],
 "metadata": {
  "kernelspec": {
   "display_name": "Python 3 (ipykernel)",
   "language": "python",
   "name": "python3"
  },
  "language_info": {
   "codemirror_mode": {
    "name": "ipython",
    "version": 3
   },
   "file_extension": ".py",
   "mimetype": "text/x-python",
   "name": "python",
   "nbconvert_exporter": "python",
   "pygments_lexer": "ipython3",
   "version": "3.10.6"
  }
 },
 "nbformat": 4,
 "nbformat_minor": 5
}
