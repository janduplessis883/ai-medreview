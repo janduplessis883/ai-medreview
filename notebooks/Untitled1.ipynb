{
 "cells": [
  {
   "cell_type": "code",
   "execution_count": 23,
   "id": "2f928252-6936-4c51-a1dd-3def6e2aba4b",
   "metadata": {},
   "outputs": [],
   "source": [
    "import pandas as pd\n",
    "\n",
    "fake = pd.read_csv('/Users/janduplessis/code/janduplessis883/ai-medreview/ai_medreview/data/fake_gp_reviews_all_processed.csv')\n",
    "real = pd.read_csv('/Users/janduplessis/code/janduplessis883/ai-medreview/ai_medreview/data/real_gp_reviews_processed.csv')"
   ]
  },
  {
   "cell_type": "code",
   "execution_count": 24,
   "id": "19318979-1e6a-4f67-9c7b-4c39f6400dcb",
   "metadata": {},
   "outputs": [
    {
     "data": {
      "text/html": [
       "<div>\n",
       "<style scoped>\n",
       "    .dataframe tbody tr th:only-of-type {\n",
       "        vertical-align: middle;\n",
       "    }\n",
       "\n",
       "    .dataframe tbody tr th {\n",
       "        vertical-align: top;\n",
       "    }\n",
       "\n",
       "    .dataframe thead th {\n",
       "        text-align: right;\n",
       "    }\n",
       "</style>\n",
       "<table border=\"1\" class=\"dataframe\">\n",
       "  <thead>\n",
       "    <tr style=\"text-align: right;\">\n",
       "      <th></th>\n",
       "      <th>free_text</th>\n",
       "      <th>generation_category</th>\n",
       "      <th>free_text_len</th>\n",
       "      <th>sentiment_free_text</th>\n",
       "      <th>sentiment_score_free_text</th>\n",
       "      <th>feedback_labels</th>\n",
       "      <th>emotion_free_text</th>\n",
       "      <th>label</th>\n",
       "      <th>abs_sentiment</th>\n",
       "      <th>rating</th>\n",
       "    </tr>\n",
       "  </thead>\n",
       "  <tbody>\n",
       "    <tr>\n",
       "      <th>0</th>\n",
       "      <td>The staff were very helpful and kind.\\n\\nI rec...</td>\n",
       "      <td>Patient Respect</td>\n",
       "      <td>246</td>\n",
       "      <td>positive</td>\n",
       "      <td>0.959466</td>\n",
       "      <td>Reception Staff Interaction</td>\n",
       "      <td>disappointment</td>\n",
       "      <td>1</td>\n",
       "      <td>0.959466</td>\n",
       "      <td>3</td>\n",
       "    </tr>\n",
       "    <tr>\n",
       "      <th>1</th>\n",
       "      <td>The staff were friendly but forgot my appointm...</td>\n",
       "      <td>Patient Respect</td>\n",
       "      <td>933</td>\n",
       "      <td>negative</td>\n",
       "      <td>0.878586</td>\n",
       "      <td>Communication Effectiveness</td>\n",
       "      <td>disappointment</td>\n",
       "      <td>1</td>\n",
       "      <td>-0.878586</td>\n",
       "      <td>4</td>\n",
       "    </tr>\n",
       "  </tbody>\n",
       "</table>\n",
       "</div>"
      ],
      "text/plain": [
       "                                           free_text generation_category  \\\n",
       "0  The staff were very helpful and kind.\\n\\nI rec...     Patient Respect   \n",
       "1  The staff were friendly but forgot my appointm...     Patient Respect   \n",
       "\n",
       "   free_text_len sentiment_free_text  sentiment_score_free_text  \\\n",
       "0            246            positive                   0.959466   \n",
       "1            933            negative                   0.878586   \n",
       "\n",
       "               feedback_labels emotion_free_text  label  abs_sentiment rating  \n",
       "0  Reception Staff Interaction    disappointment      1       0.959466      3  \n",
       "1  Communication Effectiveness    disappointment      1      -0.878586      4  "
      ]
     },
     "execution_count": 24,
     "metadata": {},
     "output_type": "execute_result"
    }
   ],
   "source": [
    "fake.head(2)"
   ]
  },
  {
   "cell_type": "code",
   "execution_count": 25,
   "id": "45a46c82-6dd6-4804-b962-5138d089dec5",
   "metadata": {},
   "outputs": [
    {
     "data": {
      "text/plain": [
       "rating\n",
       "4                   2876\n",
       "3                   1970\n",
       "2                    924\n",
       "5                     34\n",
       "4\\n3\\n5\\n2\\n2\\n3       1\n",
       "Name: count, dtype: int64"
      ]
     },
     "execution_count": 25,
     "metadata": {},
     "output_type": "execute_result"
    }
   ],
   "source": [
    "fake['rating'].value_counts()"
   ]
  },
  {
   "cell_type": "code",
   "execution_count": 28,
   "id": "00ada709-3568-445b-a22a-88e5b9df3724",
   "metadata": {},
   "outputs": [
    {
     "data": {
      "text/plain": [
       "rating_score\n",
       "5.0    4239\n",
       "4.0    1042\n",
       "3.0     298\n",
       "2.0     251\n",
       "1.0     166\n",
       "Name: count, dtype: int64"
      ]
     },
     "execution_count": 28,
     "metadata": {},
     "output_type": "execute_result"
    }
   ],
   "source": [
    "real['rating_score'].value_counts()"
   ]
  },
  {
   "cell_type": "code",
   "execution_count": 29,
   "id": "9eb8faf0-5099-4ce7-930f-6f3b469c7d91",
   "metadata": {},
   "outputs": [
    {
     "data": {
      "text/plain": [
       "(6171, 9)"
      ]
     },
     "execution_count": 29,
     "metadata": {},
     "output_type": "execute_result"
    }
   ],
   "source": [
    "real.shape"
   ]
  },
  {
   "cell_type": "code",
   "execution_count": 30,
   "id": "6d8d61ec-8805-418a-a95b-b426de892379",
   "metadata": {},
   "outputs": [
    {
     "data": {
      "text/plain": [
       "(5805, 10)"
      ]
     },
     "execution_count": 30,
     "metadata": {},
     "output_type": "execute_result"
    }
   ],
   "source": [
    "fake.shape"
   ]
  },
  {
   "cell_type": "code",
   "execution_count": 34,
   "id": "3da46217-75c2-4e51-872a-5c2abc4f8242",
   "metadata": {},
   "outputs": [
    {
     "ename": "NameError",
     "evalue": "name 'abs_sentiment' is not defined",
     "output_type": "error",
     "traceback": [
      "\u001b[0;31m---------------------------------------------------------------------------\u001b[0m",
      "\u001b[0;31mNameError\u001b[0m                                 Traceback (most recent call last)",
      "Cell \u001b[0;32mIn[34], line 1\u001b[0m\n\u001b[0;32m----> 1\u001b[0m fake[\u001b[43mabs_sentiment\u001b[49m]\u001b[38;5;241m.\u001b[39mplot()\n",
      "\u001b[0;31mNameError\u001b[0m: name 'abs_sentiment' is not defined"
     ]
    }
   ],
   "source": [
    "fake[abs_sentiment].plot()"
   ]
  },
  {
   "cell_type": "code",
   "execution_count": null,
   "id": "0c83d204-8902-4697-87da-117d0f791c95",
   "metadata": {},
   "outputs": [],
   "source": []
  }
 ],
 "metadata": {
  "kernelspec": {
   "display_name": "Python 3 (ipykernel)",
   "language": "python",
   "name": "python3"
  },
  "language_info": {
   "codemirror_mode": {
    "name": "ipython",
    "version": 3
   },
   "file_extension": ".py",
   "mimetype": "text/x-python",
   "name": "python",
   "nbconvert_exporter": "python",
   "pygments_lexer": "ipython3",
   "version": "3.10.6"
  }
 },
 "nbformat": 4,
 "nbformat_minor": 5
}
