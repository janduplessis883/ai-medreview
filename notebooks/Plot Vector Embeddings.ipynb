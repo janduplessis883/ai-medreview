{
 "cells": [
  {
   "cell_type": "code",
   "execution_count": 43,
   "id": "9c6a359e-f40b-440d-8258-59731765ee48",
   "metadata": {},
   "outputs": [],
   "source": [
    "in_1 = \"Staff empathy and compassion\"\n",
    "\n",
    "in_2 = \"Patient respect\"\n",
    "\n",
    "in_3 = \"Environment and ambiance\"\n",
    "\n",
    "\n",
    "in_4 = \"Test results\"\n",
    "\n",
    "in_5 = \"Communication effectiveness\"\n",
    "\n",
    "\n",
    "in_6 = \"Prescriptions and medication management\"\n",
    "\n",
    "in_7 = \"Appointment availability\" \n",
    "\n",
    "in_8 = \"Wait Times\"\n",
    "in_9 = \"Treatment quality\"\n",
    "in_10 = \"Reception staff interaction\"\n",
    "in_11 = \"Staff professionalism\"\n",
    "in_12 = \"Follow-up and continuity of care\"\n",
    "in_13 = \"Metal Health Support\"\n",
    "in_14 = \"Surgery Website\"\n",
    "in_15 = \"Feedback and Complaints Handling\"\n",
    "in_16 = \"Patient Education and Information\"\n",
    "in_17 = \"Facility Cleanliness\"\n",
    "\n",
    "\n",
    "input_text_lst_news = [in_1, in_2, in_3, in_4, in_5, in_6, in_7, in_8, in_9, in_10, in_11, in_12, in_13, in_14, in_15, in_16, in_17]"
   ]
  },
  {
   "cell_type": "code",
   "execution_count": 44,
   "id": "06ea65b5-c6e0-4c96-9d2e-224dd8d5f979",
   "metadata": {},
   "outputs": [],
   "source": [
    "from sentence_transformers import SentenceTransformer\n",
    "model = SentenceTransformer('paraphrase-MiniLM-L6-v2')\n",
    "\n",
    "# Sentences we want to encode. Example:\n",
    "sentence = input_text_lst_news\n",
    "\n",
    "# Sentences are encoded by calling model.encode()\n",
    "embedding = model.encode(sentence)"
   ]
  },
  {
   "cell_type": "code",
   "execution_count": 45,
   "id": "568cfddf-5b2c-4b82-a7a6-c59ed0036608",
   "metadata": {},
   "outputs": [
    {
     "data": {
      "text/plain": [
       "(17, 384)"
      ]
     },
     "execution_count": 45,
     "metadata": {},
     "output_type": "execute_result"
    }
   ],
   "source": [
    "embedding.shape"
   ]
  },
  {
   "cell_type": "code",
   "execution_count": 46,
   "id": "050fc1b6-a711-404e-b1f9-ae367488eb9c",
   "metadata": {},
   "outputs": [],
   "source": [
    "import numpy as np\n",
    "\n",
    "embeddings = []\n",
    "for input_text in input_text_lst_news:\n",
    "    emb = model.encode(\n",
    "        [input_text])[0]\n",
    "    embeddings.append(emb)\n",
    "    \n",
    "embeddings_array = np.array(embeddings)"
   ]
  },
  {
   "cell_type": "code",
   "execution_count": 47,
   "id": "4277ae5d-78b9-4a0c-87aa-0b4274623d63",
   "metadata": {},
   "outputs": [],
   "source": [
    "from sklearn.decomposition import PCA\n",
    "\n",
    "# Perform PCA for 2D visualization\n",
    "PCA_model = PCA(n_components = 2)\n",
    "PCA_model.fit(embeddings_array)\n",
    "new_values = PCA_model.transform(embeddings_array)"
   ]
  },
  {
   "cell_type": "code",
   "execution_count": 48,
   "id": "8864de10-f31c-43dc-aecb-58481b34c7dc",
   "metadata": {},
   "outputs": [],
   "source": [
    "import plotly.express as px\n",
    "\n",
    "def plot_2D(x_values, y_values, labels):\n",
    "    # Create a DataFrame with the data\n",
    "    df = pd.DataFrame({'X_1': x_values, 'X_2': y_values, 'Label': labels})\n",
    "    \n",
    "    # Create the scatter plot using Plotly Express\n",
    "    fig = px.scatter(df, x='X_1', y='X_2', hover_name='Label', title='Embedding visualization in 2D')\n",
    "    \n",
    "    # Update the layout\n",
    "    fig.update_layout(\n",
    "        xaxis_title='X_1',\n",
    "        yaxis_title='X_2',\n",
    "        hoverlabel=dict(bgcolor='white', font_size=12, font_family='Arial')\n",
    "    )\n",
    "    \n",
    "    # Show the plot\n",
    "    fig.show()"
   ]
  },
  {
   "cell_type": "code",
   "execution_count": 49,
   "id": "4ac390ac-efb0-441e-b466-fe7a994604c2",
   "metadata": {},
   "outputs": [
    {
     "data": {
      "application/vnd.plotly.v1+json": {
       "config": {
        "plotlyServerURL": "https://plot.ly"
       },
       "data": [
        {
         "hovertemplate": "<b>%{hovertext}</b><br><br>X_1=%{x}<br>X_2=%{y}<extra></extra>",
         "hovertext": [
          "Staff empathy and compassion",
          "Patient respect",
          "Environment and ambiance",
          "Test results",
          "Communication effectiveness",
          "Prescriptions and medication management",
          "Appointment availability",
          "Wait Times",
          "Treatment quality",
          "Reception staff interaction",
          "Staff professionalism",
          "Follow-up and continuity of care",
          "Metal Health Support",
          "Surgery Website",
          "Feedback and Complaints Handling",
          "Patient Education and Information",
          "Facility Cleanliness"
         ],
         "legendgroup": "",
         "marker": {
          "color": "#636efa",
          "symbol": "circle"
         },
         "mode": "markers",
         "name": "",
         "orientation": "v",
         "showlegend": false,
         "type": "scatter",
         "x": [
          4.163628,
          0.098810166,
          -1.0183148,
          -2.5384226,
          2.394518,
          -3.4200974,
          -0.39141527,
          -1.0143949,
          -2.593923,
          5.122905,
          4.5760393,
          -0.8413297,
          -3.1673121,
          -2.5907154,
          1.8182263,
          -1.4996411,
          0.9014381
         ],
         "xaxis": "x",
         "y": [
          -0.16962889,
          -2.5609827,
          2.4283345,
          0.2515688,
          1.4136933,
          -0.11185722,
          -3.9083672,
          -2.0263867,
          1.504469,
          -0.21494389,
          0.5890293,
          -1.6503775,
          5.349777,
          -2.016749,
          0.5044296,
          -3.2829833,
          3.9009745
         ],
         "yaxis": "y"
        }
       ],
       "layout": {
        "autosize": true,
        "hoverlabel": {
         "bgcolor": "white",
         "font": {
          "family": "Arial",
          "size": 12
         }
        },
        "legend": {
         "tracegroupgap": 0
        },
        "template": {
         "data": {
          "bar": [
           {
            "error_x": {
             "color": "#2a3f5f"
            },
            "error_y": {
             "color": "#2a3f5f"
            },
            "marker": {
             "line": {
              "color": "#E5ECF6",
              "width": 0.5
             },
             "pattern": {
              "fillmode": "overlay",
              "size": 10,
              "solidity": 0.2
             }
            },
            "type": "bar"
           }
          ],
          "barpolar": [
           {
            "marker": {
             "line": {
              "color": "#E5ECF6",
              "width": 0.5
             },
             "pattern": {
              "fillmode": "overlay",
              "size": 10,
              "solidity": 0.2
             }
            },
            "type": "barpolar"
           }
          ],
          "carpet": [
           {
            "aaxis": {
             "endlinecolor": "#2a3f5f",
             "gridcolor": "white",
             "linecolor": "white",
             "minorgridcolor": "white",
             "startlinecolor": "#2a3f5f"
            },
            "baxis": {
             "endlinecolor": "#2a3f5f",
             "gridcolor": "white",
             "linecolor": "white",
             "minorgridcolor": "white",
             "startlinecolor": "#2a3f5f"
            },
            "type": "carpet"
           }
          ],
          "choropleth": [
           {
            "colorbar": {
             "outlinewidth": 0,
             "ticks": ""
            },
            "type": "choropleth"
           }
          ],
          "contour": [
           {
            "colorbar": {
             "outlinewidth": 0,
             "ticks": ""
            },
            "colorscale": [
             [
              0,
              "#0d0887"
             ],
             [
              0.1111111111111111,
              "#46039f"
             ],
             [
              0.2222222222222222,
              "#7201a8"
             ],
             [
              0.3333333333333333,
              "#9c179e"
             ],
             [
              0.4444444444444444,
              "#bd3786"
             ],
             [
              0.5555555555555556,
              "#d8576b"
             ],
             [
              0.6666666666666666,
              "#ed7953"
             ],
             [
              0.7777777777777778,
              "#fb9f3a"
             ],
             [
              0.8888888888888888,
              "#fdca26"
             ],
             [
              1,
              "#f0f921"
             ]
            ],
            "type": "contour"
           }
          ],
          "contourcarpet": [
           {
            "colorbar": {
             "outlinewidth": 0,
             "ticks": ""
            },
            "type": "contourcarpet"
           }
          ],
          "heatmap": [
           {
            "colorbar": {
             "outlinewidth": 0,
             "ticks": ""
            },
            "colorscale": [
             [
              0,
              "#0d0887"
             ],
             [
              0.1111111111111111,
              "#46039f"
             ],
             [
              0.2222222222222222,
              "#7201a8"
             ],
             [
              0.3333333333333333,
              "#9c179e"
             ],
             [
              0.4444444444444444,
              "#bd3786"
             ],
             [
              0.5555555555555556,
              "#d8576b"
             ],
             [
              0.6666666666666666,
              "#ed7953"
             ],
             [
              0.7777777777777778,
              "#fb9f3a"
             ],
             [
              0.8888888888888888,
              "#fdca26"
             ],
             [
              1,
              "#f0f921"
             ]
            ],
            "type": "heatmap"
           }
          ],
          "heatmapgl": [
           {
            "colorbar": {
             "outlinewidth": 0,
             "ticks": ""
            },
            "colorscale": [
             [
              0,
              "#0d0887"
             ],
             [
              0.1111111111111111,
              "#46039f"
             ],
             [
              0.2222222222222222,
              "#7201a8"
             ],
             [
              0.3333333333333333,
              "#9c179e"
             ],
             [
              0.4444444444444444,
              "#bd3786"
             ],
             [
              0.5555555555555556,
              "#d8576b"
             ],
             [
              0.6666666666666666,
              "#ed7953"
             ],
             [
              0.7777777777777778,
              "#fb9f3a"
             ],
             [
              0.8888888888888888,
              "#fdca26"
             ],
             [
              1,
              "#f0f921"
             ]
            ],
            "type": "heatmapgl"
           }
          ],
          "histogram": [
           {
            "marker": {
             "pattern": {
              "fillmode": "overlay",
              "size": 10,
              "solidity": 0.2
             }
            },
            "type": "histogram"
           }
          ],
          "histogram2d": [
           {
            "colorbar": {
             "outlinewidth": 0,
             "ticks": ""
            },
            "colorscale": [
             [
              0,
              "#0d0887"
             ],
             [
              0.1111111111111111,
              "#46039f"
             ],
             [
              0.2222222222222222,
              "#7201a8"
             ],
             [
              0.3333333333333333,
              "#9c179e"
             ],
             [
              0.4444444444444444,
              "#bd3786"
             ],
             [
              0.5555555555555556,
              "#d8576b"
             ],
             [
              0.6666666666666666,
              "#ed7953"
             ],
             [
              0.7777777777777778,
              "#fb9f3a"
             ],
             [
              0.8888888888888888,
              "#fdca26"
             ],
             [
              1,
              "#f0f921"
             ]
            ],
            "type": "histogram2d"
           }
          ],
          "histogram2dcontour": [
           {
            "colorbar": {
             "outlinewidth": 0,
             "ticks": ""
            },
            "colorscale": [
             [
              0,
              "#0d0887"
             ],
             [
              0.1111111111111111,
              "#46039f"
             ],
             [
              0.2222222222222222,
              "#7201a8"
             ],
             [
              0.3333333333333333,
              "#9c179e"
             ],
             [
              0.4444444444444444,
              "#bd3786"
             ],
             [
              0.5555555555555556,
              "#d8576b"
             ],
             [
              0.6666666666666666,
              "#ed7953"
             ],
             [
              0.7777777777777778,
              "#fb9f3a"
             ],
             [
              0.8888888888888888,
              "#fdca26"
             ],
             [
              1,
              "#f0f921"
             ]
            ],
            "type": "histogram2dcontour"
           }
          ],
          "mesh3d": [
           {
            "colorbar": {
             "outlinewidth": 0,
             "ticks": ""
            },
            "type": "mesh3d"
           }
          ],
          "parcoords": [
           {
            "line": {
             "colorbar": {
              "outlinewidth": 0,
              "ticks": ""
             }
            },
            "type": "parcoords"
           }
          ],
          "pie": [
           {
            "automargin": true,
            "type": "pie"
           }
          ],
          "scatter": [
           {
            "fillpattern": {
             "fillmode": "overlay",
             "size": 10,
             "solidity": 0.2
            },
            "type": "scatter"
           }
          ],
          "scatter3d": [
           {
            "line": {
             "colorbar": {
              "outlinewidth": 0,
              "ticks": ""
             }
            },
            "marker": {
             "colorbar": {
              "outlinewidth": 0,
              "ticks": ""
             }
            },
            "type": "scatter3d"
           }
          ],
          "scattercarpet": [
           {
            "marker": {
             "colorbar": {
              "outlinewidth": 0,
              "ticks": ""
             }
            },
            "type": "scattercarpet"
           }
          ],
          "scattergeo": [
           {
            "marker": {
             "colorbar": {
              "outlinewidth": 0,
              "ticks": ""
             }
            },
            "type": "scattergeo"
           }
          ],
          "scattergl": [
           {
            "marker": {
             "colorbar": {
              "outlinewidth": 0,
              "ticks": ""
             }
            },
            "type": "scattergl"
           }
          ],
          "scattermapbox": [
           {
            "marker": {
             "colorbar": {
              "outlinewidth": 0,
              "ticks": ""
             }
            },
            "type": "scattermapbox"
           }
          ],
          "scatterpolar": [
           {
            "marker": {
             "colorbar": {
              "outlinewidth": 0,
              "ticks": ""
             }
            },
            "type": "scatterpolar"
           }
          ],
          "scatterpolargl": [
           {
            "marker": {
             "colorbar": {
              "outlinewidth": 0,
              "ticks": ""
             }
            },
            "type": "scatterpolargl"
           }
          ],
          "scatterternary": [
           {
            "marker": {
             "colorbar": {
              "outlinewidth": 0,
              "ticks": ""
             }
            },
            "type": "scatterternary"
           }
          ],
          "surface": [
           {
            "colorbar": {
             "outlinewidth": 0,
             "ticks": ""
            },
            "colorscale": [
             [
              0,
              "#0d0887"
             ],
             [
              0.1111111111111111,
              "#46039f"
             ],
             [
              0.2222222222222222,
              "#7201a8"
             ],
             [
              0.3333333333333333,
              "#9c179e"
             ],
             [
              0.4444444444444444,
              "#bd3786"
             ],
             [
              0.5555555555555556,
              "#d8576b"
             ],
             [
              0.6666666666666666,
              "#ed7953"
             ],
             [
              0.7777777777777778,
              "#fb9f3a"
             ],
             [
              0.8888888888888888,
              "#fdca26"
             ],
             [
              1,
              "#f0f921"
             ]
            ],
            "type": "surface"
           }
          ],
          "table": [
           {
            "cells": {
             "fill": {
              "color": "#EBF0F8"
             },
             "line": {
              "color": "white"
             }
            },
            "header": {
             "fill": {
              "color": "#C8D4E3"
             },
             "line": {
              "color": "white"
             }
            },
            "type": "table"
           }
          ]
         },
         "layout": {
          "annotationdefaults": {
           "arrowcolor": "#2a3f5f",
           "arrowhead": 0,
           "arrowwidth": 1
          },
          "autotypenumbers": "strict",
          "coloraxis": {
           "colorbar": {
            "outlinewidth": 0,
            "ticks": ""
           }
          },
          "colorscale": {
           "diverging": [
            [
             0,
             "#8e0152"
            ],
            [
             0.1,
             "#c51b7d"
            ],
            [
             0.2,
             "#de77ae"
            ],
            [
             0.3,
             "#f1b6da"
            ],
            [
             0.4,
             "#fde0ef"
            ],
            [
             0.5,
             "#f7f7f7"
            ],
            [
             0.6,
             "#e6f5d0"
            ],
            [
             0.7,
             "#b8e186"
            ],
            [
             0.8,
             "#7fbc41"
            ],
            [
             0.9,
             "#4d9221"
            ],
            [
             1,
             "#276419"
            ]
           ],
           "sequential": [
            [
             0,
             "#0d0887"
            ],
            [
             0.1111111111111111,
             "#46039f"
            ],
            [
             0.2222222222222222,
             "#7201a8"
            ],
            [
             0.3333333333333333,
             "#9c179e"
            ],
            [
             0.4444444444444444,
             "#bd3786"
            ],
            [
             0.5555555555555556,
             "#d8576b"
            ],
            [
             0.6666666666666666,
             "#ed7953"
            ],
            [
             0.7777777777777778,
             "#fb9f3a"
            ],
            [
             0.8888888888888888,
             "#fdca26"
            ],
            [
             1,
             "#f0f921"
            ]
           ],
           "sequentialminus": [
            [
             0,
             "#0d0887"
            ],
            [
             0.1111111111111111,
             "#46039f"
            ],
            [
             0.2222222222222222,
             "#7201a8"
            ],
            [
             0.3333333333333333,
             "#9c179e"
            ],
            [
             0.4444444444444444,
             "#bd3786"
            ],
            [
             0.5555555555555556,
             "#d8576b"
            ],
            [
             0.6666666666666666,
             "#ed7953"
            ],
            [
             0.7777777777777778,
             "#fb9f3a"
            ],
            [
             0.8888888888888888,
             "#fdca26"
            ],
            [
             1,
             "#f0f921"
            ]
           ]
          },
          "colorway": [
           "#636efa",
           "#EF553B",
           "#00cc96",
           "#ab63fa",
           "#FFA15A",
           "#19d3f3",
           "#FF6692",
           "#B6E880",
           "#FF97FF",
           "#FECB52"
          ],
          "font": {
           "color": "#2a3f5f"
          },
          "geo": {
           "bgcolor": "white",
           "lakecolor": "white",
           "landcolor": "#E5ECF6",
           "showlakes": true,
           "showland": true,
           "subunitcolor": "white"
          },
          "hoverlabel": {
           "align": "left"
          },
          "hovermode": "closest",
          "mapbox": {
           "style": "light"
          },
          "paper_bgcolor": "white",
          "plot_bgcolor": "#E5ECF6",
          "polar": {
           "angularaxis": {
            "gridcolor": "white",
            "linecolor": "white",
            "ticks": ""
           },
           "bgcolor": "#E5ECF6",
           "radialaxis": {
            "gridcolor": "white",
            "linecolor": "white",
            "ticks": ""
           }
          },
          "scene": {
           "xaxis": {
            "backgroundcolor": "#E5ECF6",
            "gridcolor": "white",
            "gridwidth": 2,
            "linecolor": "white",
            "showbackground": true,
            "ticks": "",
            "zerolinecolor": "white"
           },
           "yaxis": {
            "backgroundcolor": "#E5ECF6",
            "gridcolor": "white",
            "gridwidth": 2,
            "linecolor": "white",
            "showbackground": true,
            "ticks": "",
            "zerolinecolor": "white"
           },
           "zaxis": {
            "backgroundcolor": "#E5ECF6",
            "gridcolor": "white",
            "gridwidth": 2,
            "linecolor": "white",
            "showbackground": true,
            "ticks": "",
            "zerolinecolor": "white"
           }
          },
          "shapedefaults": {
           "line": {
            "color": "#2a3f5f"
           }
          },
          "ternary": {
           "aaxis": {
            "gridcolor": "white",
            "linecolor": "white",
            "ticks": ""
           },
           "baxis": {
            "gridcolor": "white",
            "linecolor": "white",
            "ticks": ""
           },
           "bgcolor": "#E5ECF6",
           "caxis": {
            "gridcolor": "white",
            "linecolor": "white",
            "ticks": ""
           }
          },
          "title": {
           "x": 0.05
          },
          "xaxis": {
           "automargin": true,
           "gridcolor": "white",
           "linecolor": "white",
           "ticks": "",
           "title": {
            "standoff": 15
           },
           "zerolinecolor": "white",
           "zerolinewidth": 2
          },
          "yaxis": {
           "automargin": true,
           "gridcolor": "white",
           "linecolor": "white",
           "ticks": "",
           "title": {
            "standoff": 15
           },
           "zerolinecolor": "white",
           "zerolinewidth": 2
          }
         }
        },
        "title": {
         "text": "Embedding visualization in 2D"
        },
        "xaxis": {
         "anchor": "y",
         "autorange": true,
         "domain": [
          0,
          1
         ],
         "range": [
          -3.9363558227916227,
          5.639163422791623
         ],
         "title": {
          "text": "X_1"
         },
         "type": "linear"
        },
        "yaxis": {
         "anchor": "x",
         "autorange": true,
         "domain": [
          0,
          1
         ],
         "range": [
          -4.672388808737864,
          6.113798608737864
         ],
         "title": {
          "text": "X_2"
         },
         "type": "linear"
        }
       }
      },
      "image/png": "[encoded data removed]",
      "text/html": [
       "<div>                            <div id=\"b9329008-16d7-4b39-a43e-72cfc444fd2c\" class=\"plotly-graph-div\" style=\"height:525px; width:100%;\"></div>            <script type=\"text/javascript\">                require([\"plotly\"], function(Plotly) {                    window.PLOTLYENV=window.PLOTLYENV || {};                                    if (document.getElementById(\"b9329008-16d7-4b39-a43e-72cfc444fd2c\")) {                    Plotly.newPlot(                        \"b9329008-16d7-4b39-a43e-72cfc444fd2c\",                        [{\"hovertemplate\":\"\\u003cb\\u003e%{hovertext}\\u003c\\u002fb\\u003e\\u003cbr\\u003e\\u003cbr\\u003eX_1=%{x}\\u003cbr\\u003eX_2=%{y}\\u003cextra\\u003e\\u003c\\u002fextra\\u003e\",\"hovertext\":[\"Staff empathy and compassion\",\"Patient respect\",\"Environment and ambiance\",\"Test results\",\"Communication effectiveness\",\"Prescriptions and medication management\",\"Appointment availability\",\"Wait Times\",\"Treatment quality\",\"Reception staff interaction\",\"Staff professionalism\",\"Follow-up and continuity of care\",\"Metal Health Support\",\"Surgery Website\",\"Feedback and Complaints Handling\",\"Patient Education and Information\",\"Facility Cleanliness\"],\"legendgroup\":\"\",\"marker\":{\"color\":\"#636efa\",\"symbol\":\"circle\"},\"mode\":\"markers\",\"name\":\"\",\"orientation\":\"v\",\"showlegend\":false,\"x\":[4.163628,0.098810166,-1.0183148,-2.5384226,2.394518,-3.4200974,-0.39141527,-1.0143949,-2.593923,5.122905,4.5760393,-0.8413297,-3.1673121,-2.5907154,1.8182263,-1.4996411,0.9014381],\"xaxis\":\"x\",\"y\":[-0.16962889,-2.5609827,2.4283345,0.2515688,1.4136933,-0.11185722,-3.9083672,-2.0263867,1.504469,-0.21494389,0.5890293,-1.6503775,5.349777,-2.016749,0.5044296,-3.2829833,3.9009745],\"yaxis\":\"y\",\"type\":\"scatter\"}],                        {\"template\":{\"data\":{\"histogram2dcontour\":[{\"type\":\"histogram2dcontour\",\"colorbar\":{\"outlinewidth\":0,\"ticks\":\"\"},\"colorscale\":[[0.0,\"#0d0887\"],[0.1111111111111111,\"#46039f\"],[0.2222222222222222,\"#7201a8\"],[0.3333333333333333,\"#9c179e\"],[0.4444444444444444,\"#bd3786\"],[0.5555555555555556,\"#d8576b\"],[0.6666666666666666,\"#ed7953\"],[0.7777777777777778,\"#fb9f3a\"],[0.8888888888888888,\"#fdca26\"],[1.0,\"#f0f921\"]]}],\"choropleth\":[{\"type\":\"choropleth\",\"colorbar\":{\"outlinewidth\":0,\"ticks\":\"\"}}],\"histogram2d\":[{\"type\":\"histogram2d\",\"colorbar\":{\"outlinewidth\":0,\"ticks\":\"\"},\"colorscale\":[[0.0,\"#0d0887\"],[0.1111111111111111,\"#46039f\"],[0.2222222222222222,\"#7201a8\"],[0.3333333333333333,\"#9c179e\"],[0.4444444444444444,\"#bd3786\"],[0.5555555555555556,\"#d8576b\"],[0.6666666666666666,\"#ed7953\"],[0.7777777777777778,\"#fb9f3a\"],[0.8888888888888888,\"#fdca26\"],[1.0,\"#f0f921\"]]}],\"heatmap\":[{\"type\":\"heatmap\",\"colorbar\":{\"outlinewidth\":0,\"ticks\":\"\"},\"colorscale\":[[0.0,\"#0d0887\"],[0.1111111111111111,\"#46039f\"],[0.2222222222222222,\"#7201a8\"],[0.3333333333333333,\"#9c179e\"],[0.4444444444444444,\"#bd3786\"],[0.5555555555555556,\"#d8576b\"],[0.6666666666666666,\"#ed7953\"],[0.7777777777777778,\"#fb9f3a\"],[0.8888888888888888,\"#fdca26\"],[1.0,\"#f0f921\"]]}],\"heatmapgl\":[{\"type\":\"heatmapgl\",\"colorbar\":{\"outlinewidth\":0,\"ticks\":\"\"},\"colorscale\":[[0.0,\"#0d0887\"],[0.1111111111111111,\"#46039f\"],[0.2222222222222222,\"#7201a8\"],[0.3333333333333333,\"#9c179e\"],[0.4444444444444444,\"#bd3786\"],[0.5555555555555556,\"#d8576b\"],[0.6666666666666666,\"#ed7953\"],[0.7777777777777778,\"#fb9f3a\"],[0.8888888888888888,\"#fdca26\"],[1.0,\"#f0f921\"]]}],\"contourcarpet\":[{\"type\":\"contourcarpet\",\"colorbar\":{\"outlinewidth\":0,\"ticks\":\"\"}}],\"contour\":[{\"type\":\"contour\",\"colorbar\":{\"outlinewidth\":0,\"ticks\":\"\"},\"colorscale\":[[0.0,\"#0d0887\"],[0.1111111111111111,\"#46039f\"],[0.2222222222222222,\"#7201a8\"],[0.3333333333333333,\"#9c179e\"],[0.4444444444444444,\"#bd3786\"],[0.5555555555555556,\"#d8576b\"],[0.6666666666666666,\"#ed7953\"],[0.7777777777777778,\"#fb9f3a\"],[0.8888888888888888,\"#fdca26\"],[1.0,\"#f0f921\"]]}],\"surface\":[{\"type\":\"surface\",\"colorbar\":{\"outlinewidth\":0,\"ticks\":\"\"},\"colorscale\":[[0.0,\"#0d0887\"],[0.1111111111111111,\"#46039f\"],[0.2222222222222222,\"#7201a8\"],[0.3333333333333333,\"#9c179e\"],[0.4444444444444444,\"#bd3786\"],[0.5555555555555556,\"#d8576b\"],[0.6666666666666666,\"#ed7953\"],[0.7777777777777778,\"#fb9f3a\"],[0.8888888888888888,\"#fdca26\"],[1.0,\"#f0f921\"]]}],\"mesh3d\":[{\"type\":\"mesh3d\",\"colorbar\":{\"outlinewidth\":0,\"ticks\":\"\"}}],\"scatter\":[{\"fillpattern\":{\"fillmode\":\"overlay\",\"size\":10,\"solidity\":0.2},\"type\":\"scatter\"}],\"parcoords\":[{\"type\":\"parcoords\",\"line\":{\"colorbar\":{\"outlinewidth\":0,\"ticks\":\"\"}}}],\"scatterpolargl\":[{\"type\":\"scatterpolargl\",\"marker\":{\"colorbar\":{\"outlinewidth\":0,\"ticks\":\"\"}}}],\"bar\":[{\"error_x\":{\"color\":\"#2a3f5f\"},\"error_y\":{\"color\":\"#2a3f5f\"},\"marker\":{\"line\":{\"color\":\"#E5ECF6\",\"width\":0.5},\"pattern\":{\"fillmode\":\"overlay\",\"size\":10,\"solidity\":0.2}},\"type\":\"bar\"}],\"scattergeo\":[{\"type\":\"scattergeo\",\"marker\":{\"colorbar\":{\"outlinewidth\":0,\"ticks\":\"\"}}}],\"scatterpolar\":[{\"type\":\"scatterpolar\",\"marker\":{\"colorbar\":{\"outlinewidth\":0,\"ticks\":\"\"}}}],\"histogram\":[{\"marker\":{\"pattern\":{\"fillmode\":\"overlay\",\"size\":10,\"solidity\":0.2}},\"type\":\"histogram\"}],\"scattergl\":[{\"type\":\"scattergl\",\"marker\":{\"colorbar\":{\"outlinewidth\":0,\"ticks\":\"\"}}}],\"scatter3d\":[{\"type\":\"scatter3d\",\"line\":{\"colorbar\":{\"outlinewidth\":0,\"ticks\":\"\"}},\"marker\":{\"colorbar\":{\"outlinewidth\":0,\"ticks\":\"\"}}}],\"scattermapbox\":[{\"type\":\"scattermapbox\",\"marker\":{\"colorbar\":{\"outlinewidth\":0,\"ticks\":\"\"}}}],\"scatterternary\":[{\"type\":\"scatterternary\",\"marker\":{\"colorbar\":{\"outlinewidth\":0,\"ticks\":\"\"}}}],\"scattercarpet\":[{\"type\":\"scattercarpet\",\"marker\":{\"colorbar\":{\"outlinewidth\":0,\"ticks\":\"\"}}}],\"carpet\":[{\"aaxis\":{\"endlinecolor\":\"#2a3f5f\",\"gridcolor\":\"white\",\"linecolor\":\"white\",\"minorgridcolor\":\"white\",\"startlinecolor\":\"#2a3f5f\"},\"baxis\":{\"endlinecolor\":\"#2a3f5f\",\"gridcolor\":\"white\",\"linecolor\":\"white\",\"minorgridcolor\":\"white\",\"startlinecolor\":\"#2a3f5f\"},\"type\":\"carpet\"}],\"table\":[{\"cells\":{\"fill\":{\"color\":\"#EBF0F8\"},\"line\":{\"color\":\"white\"}},\"header\":{\"fill\":{\"color\":\"#C8D4E3\"},\"line\":{\"color\":\"white\"}},\"type\":\"table\"}],\"barpolar\":[{\"marker\":{\"line\":{\"color\":\"#E5ECF6\",\"width\":0.5},\"pattern\":{\"fillmode\":\"overlay\",\"size\":10,\"solidity\":0.2}},\"type\":\"barpolar\"}],\"pie\":[{\"automargin\":true,\"type\":\"pie\"}]},\"layout\":{\"autotypenumbers\":\"strict\",\"colorway\":[\"#636efa\",\"#EF553B\",\"#00cc96\",\"#ab63fa\",\"#FFA15A\",\"#19d3f3\",\"#FF6692\",\"#B6E880\",\"#FF97FF\",\"#FECB52\"],\"font\":{\"color\":\"#2a3f5f\"},\"hovermode\":\"closest\",\"hoverlabel\":{\"align\":\"left\"},\"paper_bgcolor\":\"white\",\"plot_bgcolor\":\"#E5ECF6\",\"polar\":{\"bgcolor\":\"#E5ECF6\",\"angularaxis\":{\"gridcolor\":\"white\",\"linecolor\":\"white\",\"ticks\":\"\"},\"radialaxis\":{\"gridcolor\":\"white\",\"linecolor\":\"white\",\"ticks\":\"\"}},\"ternary\":{\"bgcolor\":\"#E5ECF6\",\"aaxis\":{\"gridcolor\":\"white\",\"linecolor\":\"white\",\"ticks\":\"\"},\"baxis\":{\"gridcolor\":\"white\",\"linecolor\":\"white\",\"ticks\":\"\"},\"caxis\":{\"gridcolor\":\"white\",\"linecolor\":\"white\",\"ticks\":\"\"}},\"coloraxis\":{\"colorbar\":{\"outlinewidth\":0,\"ticks\":\"\"}},\"colorscale\":{\"sequential\":[[0.0,\"#0d0887\"],[0.1111111111111111,\"#46039f\"],[0.2222222222222222,\"#7201a8\"],[0.3333333333333333,\"#9c179e\"],[0.4444444444444444,\"#bd3786\"],[0.5555555555555556,\"#d8576b\"],[0.6666666666666666,\"#ed7953\"],[0.7777777777777778,\"#fb9f3a\"],[0.8888888888888888,\"#fdca26\"],[1.0,\"#f0f921\"]],\"sequentialminus\":[[0.0,\"#0d0887\"],[0.1111111111111111,\"#46039f\"],[0.2222222222222222,\"#7201a8\"],[0.3333333333333333,\"#9c179e\"],[0.4444444444444444,\"#bd3786\"],[0.5555555555555556,\"#d8576b\"],[0.6666666666666666,\"#ed7953\"],[0.7777777777777778,\"#fb9f3a\"],[0.8888888888888888,\"#fdca26\"],[1.0,\"#f0f921\"]],\"diverging\":[[0,\"#8e0152\"],[0.1,\"#c51b7d\"],[0.2,\"#de77ae\"],[0.3,\"#f1b6da\"],[0.4,\"#fde0ef\"],[0.5,\"#f7f7f7\"],[0.6,\"#e6f5d0\"],[0.7,\"#b8e186\"],[0.8,\"#7fbc41\"],[0.9,\"#4d9221\"],[1,\"#276419\"]]},\"xaxis\":{\"gridcolor\":\"white\",\"linecolor\":\"white\",\"ticks\":\"\",\"title\":{\"standoff\":15},\"zerolinecolor\":\"white\",\"automargin\":true,\"zerolinewidth\":2},\"yaxis\":{\"gridcolor\":\"white\",\"linecolor\":\"white\",\"ticks\":\"\",\"title\":{\"standoff\":15},\"zerolinecolor\":\"white\",\"automargin\":true,\"zerolinewidth\":2},\"scene\":{\"xaxis\":{\"backgroundcolor\":\"#E5ECF6\",\"gridcolor\":\"white\",\"linecolor\":\"white\",\"showbackground\":true,\"ticks\":\"\",\"zerolinecolor\":\"white\",\"gridwidth\":2},\"yaxis\":{\"backgroundcolor\":\"#E5ECF6\",\"gridcolor\":\"white\",\"linecolor\":\"white\",\"showbackground\":true,\"ticks\":\"\",\"zerolinecolor\":\"white\",\"gridwidth\":2},\"zaxis\":{\"backgroundcolor\":\"#E5ECF6\",\"gridcolor\":\"white\",\"linecolor\":\"white\",\"showbackground\":true,\"ticks\":\"\",\"zerolinecolor\":\"white\",\"gridwidth\":2}},\"shapedefaults\":{\"line\":{\"color\":\"#2a3f5f\"}},\"annotationdefaults\":{\"arrowcolor\":\"#2a3f5f\",\"arrowhead\":0,\"arrowwidth\":1},\"geo\":{\"bgcolor\":\"white\",\"landcolor\":\"#E5ECF6\",\"subunitcolor\":\"white\",\"showland\":true,\"showlakes\":true,\"lakecolor\":\"white\"},\"title\":{\"x\":0.05},\"mapbox\":{\"style\":\"light\"}}},\"xaxis\":{\"anchor\":\"y\",\"domain\":[0.0,1.0],\"title\":{\"text\":\"X_1\"}},\"yaxis\":{\"anchor\":\"x\",\"domain\":[0.0,1.0],\"title\":{\"text\":\"X_2\"}},\"legend\":{\"tracegroupgap\":0},\"title\":{\"text\":\"Embedding visualization in 2D\"},\"hoverlabel\":{\"font\":{\"size\":12,\"family\":\"Arial\"},\"bgcolor\":\"white\"}},                        {\"responsive\": true}                    ).then(function(){\n",
       "                            \n",
       "var gd = document.getElementById('b9329008-16d7-4b39-a43e-72cfc444fd2c');\n",
       "var x = new MutationObserver(function (mutations, observer) {{\n",
       "        var display = window.getComputedStyle(gd).display;\n",
       "        if (!display || display === 'none') {{\n",
       "            console.log([gd, 'removed!']);\n",
       "            Plotly.purge(gd);\n",
       "            observer.disconnect();\n",
       "        }}\n",
       "}});\n",
       "\n",
       "// Listen for the removal of the full notebook cells\n",
       "var notebookContainer = gd.closest('#notebook-container');\n",
       "if (notebookContainer) {{\n",
       "    x.observe(notebookContainer, {childList: true});\n",
       "}}\n",
       "\n",
       "// Listen for the clearing of the current output cell\n",
       "var outputEl = gd.closest('.output');\n",
       "if (outputEl) {{\n",
       "    x.observe(outputEl, {childList: true});\n",
       "}}\n",
       "\n",
       "                        })                };                });            </script>        </div>"
      ]
     },
     "metadata": {},
     "output_type": "display_data"
    }
   ],
   "source": [
    "import matplotlib.pyplot as plt\n",
    "import mplcursors\n",
    "%matplotlib ipympl\n",
    "import pandas as pd\n",
    "\n",
    "plot_2D(new_values[:,0], new_values[:,1], input_text_lst_news)"
   ]
  },
  {
   "cell_type": "code",
   "execution_count": 50,
   "id": "4a49301e-9e04-4616-af06-f0923e167c6f",
   "metadata": {},
   "outputs": [],
   "source": [
    "import plotly.express as px\n",
    "\n",
    "def plot_3D(x_values, y_values, z_values, labels, colors=None):\n",
    "    # Create a DataFrame with the data\n",
    "    df = pd.DataFrame({'X': x_values, 'Y': y_values, 'Z': z_values, 'Label': labels})\n",
    "    \n",
    "    # Assign colors to each unique label if colors are not provided\n",
    "    if colors is None:\n",
    "        unique_labels = df['Label'].unique()\n",
    "        color_map = {label: f'rgb({r}, {g}, {b})' for label, (r, g, b) in zip(unique_labels, px.colors.qualitative.Plotly)}\n",
    "        df['Color'] = df['Label'].map(color_map)\n",
    "    else:\n",
    "        df['Color'] = colors\n",
    "    \n",
    "    # Create the 3D scatter plot using Plotly Express\n",
    "    fig = px.scatter_3d(df, x='X', y='Y', z='Z', color='Color', hover_name='Label', title='Embedding visualization in 3D')\n",
    "    \n",
    "    # Update the layout\n",
    "    fig.update_layout(\n",
    "        scene=dict(\n",
    "            xaxis_title='X',\n",
    "            yaxis_title='Y',\n",
    "            zaxis_title='Z'\n",
    "        ),\n",
    "        hoverlabel=dict(bgcolor='white', font_size=12, font_family='Arial')\n",
    "    )\n",
    "    \n",
    "    # Show the plot\n",
    "    fig.show()"
   ]
  },
  {
   "cell_type": "code",
   "execution_count": 52,
   "id": "3f63cbb9-e29a-4b43-a879-b493f0b0b1f8",
   "metadata": {},
   "outputs": [
    {
     "ename": "ValueError",
     "evalue": "perplexity must be less than n_samples",
     "output_type": "error",
     "traceback": [
      "\u001b[0;31m---------------------------------------------------------------------------\u001b[0m",
      "\u001b[0;31mValueError\u001b[0m                                Traceback (most recent call last)",
      "Cell \u001b[0;32mIn[52], line 5\u001b[0m\n\u001b[1;32m      3\u001b[0m \u001b[38;5;66;03m# Assuming you have your embeddings stored in a variable called 'embeddings'\u001b[39;00m\n\u001b[1;32m      4\u001b[0m tsne \u001b[38;5;241m=\u001b[39m TSNE(n_components\u001b[38;5;241m=\u001b[39m\u001b[38;5;241m3\u001b[39m, random_state\u001b[38;5;241m=\u001b[39m\u001b[38;5;241m42\u001b[39m)\n\u001b[0;32m----> 5\u001b[0m embeddings_tsne \u001b[38;5;241m=\u001b[39m \u001b[43mtsne\u001b[49m\u001b[38;5;241;43m.\u001b[39;49m\u001b[43mfit_transform\u001b[49m\u001b[43m(\u001b[49m\u001b[43membeddings_array\u001b[49m\u001b[43m)\u001b[49m\n\u001b[1;32m      7\u001b[0m x_values \u001b[38;5;241m=\u001b[39m embeddings_tsne[:, \u001b[38;5;241m0\u001b[39m]\n\u001b[1;32m      8\u001b[0m y_values \u001b[38;5;241m=\u001b[39m embeddings_tsne[:, \u001b[38;5;241m1\u001b[39m]\n",
      "File \u001b[0;32m~/.pyenv/versions/3.10.6/envs/ai-medreview/lib/python3.10/site-packages/sklearn/manifold/_t_sne.py:1118\u001b[0m, in \u001b[0;36mTSNE.fit_transform\u001b[0;34m(self, X, y)\u001b[0m\n\u001b[1;32m   1097\u001b[0m \u001b[38;5;250m\u001b[39m\u001b[38;5;124;03m\"\"\"Fit X into an embedded space and return that transformed output.\u001b[39;00m\n\u001b[1;32m   1098\u001b[0m \n\u001b[1;32m   1099\u001b[0m \u001b[38;5;124;03mParameters\u001b[39;00m\n\u001b[0;32m   (...)\u001b[0m\n\u001b[1;32m   1115\u001b[0m \u001b[38;5;124;03m    Embedding of the training data in low-dimensional space.\u001b[39;00m\n\u001b[1;32m   1116\u001b[0m \u001b[38;5;124;03m\"\"\"\u001b[39;00m\n\u001b[1;32m   1117\u001b[0m \u001b[38;5;28mself\u001b[39m\u001b[38;5;241m.\u001b[39m_validate_params()\n\u001b[0;32m-> 1118\u001b[0m \u001b[38;5;28;43mself\u001b[39;49m\u001b[38;5;241;43m.\u001b[39;49m\u001b[43m_check_params_vs_input\u001b[49m\u001b[43m(\u001b[49m\u001b[43mX\u001b[49m\u001b[43m)\u001b[49m\n\u001b[1;32m   1119\u001b[0m embedding \u001b[38;5;241m=\u001b[39m \u001b[38;5;28mself\u001b[39m\u001b[38;5;241m.\u001b[39m_fit(X)\n\u001b[1;32m   1120\u001b[0m \u001b[38;5;28mself\u001b[39m\u001b[38;5;241m.\u001b[39membedding_ \u001b[38;5;241m=\u001b[39m embedding\n",
      "File \u001b[0;32m~/.pyenv/versions/3.10.6/envs/ai-medreview/lib/python3.10/site-packages/sklearn/manifold/_t_sne.py:829\u001b[0m, in \u001b[0;36mTSNE._check_params_vs_input\u001b[0;34m(self, X)\u001b[0m\n\u001b[1;32m    827\u001b[0m \u001b[38;5;28;01mdef\u001b[39;00m \u001b[38;5;21m_check_params_vs_input\u001b[39m(\u001b[38;5;28mself\u001b[39m, X):\n\u001b[1;32m    828\u001b[0m     \u001b[38;5;28;01mif\u001b[39;00m \u001b[38;5;28mself\u001b[39m\u001b[38;5;241m.\u001b[39mperplexity \u001b[38;5;241m>\u001b[39m\u001b[38;5;241m=\u001b[39m X\u001b[38;5;241m.\u001b[39mshape[\u001b[38;5;241m0\u001b[39m]:\n\u001b[0;32m--> 829\u001b[0m         \u001b[38;5;28;01mraise\u001b[39;00m \u001b[38;5;167;01mValueError\u001b[39;00m(\u001b[38;5;124m\"\u001b[39m\u001b[38;5;124mperplexity must be less than n_samples\u001b[39m\u001b[38;5;124m\"\u001b[39m)\n",
      "\u001b[0;31mValueError\u001b[0m: perplexity must be less than n_samples"
     ]
    }
   ],
   "source": [
    "from sklearn.manifold import TSNE\n",
    "\n",
    "# Assuming you have your embeddings stored in a variable called 'embeddings'\n",
    "tsne = TSNE(n_components=3, random_state=42)\n",
    "embeddings_tsne = tsne.fit_transform(embeddings_array)\n",
    "\n",
    "x_values = embeddings_tsne[:, 0]\n",
    "y_values = embeddings_tsne[:, 1]\n",
    "z_values = embeddings_tsne[:, 2]\n",
    "\n",
    "plot_3D(x_values, y_values, z_values, labels)"
   ]
  },
  {
   "cell_type": "code",
   "execution_count": null,
   "id": "72d83de6-f91d-4c70-82c1-18899d088472",
   "metadata": {},
   "outputs": [],
   "source": []
  }
 ],
 "metadata": {
  "kernelspec": {
   "display_name": "Python 3 (ipykernel)",
   "language": "python",
   "name": "python3"
  },
  "language_info": {
   "codemirror_mode": {
    "name": "ipython",
    "version": 3
   },
   "file_extension": ".py",
   "mimetype": "text/x-python",
   "name": "python",
   "nbconvert_exporter": "python",
   "pygments_lexer": "ipython3",
   "version": "3.10.6"
  },
  "widgets": {
   "application/vnd.jupyter.widget-state+json": {
    "state": {
     "00d9b6d069ec4538bf81c060c8acf511": {
      "model_module": "@jupyter-widgets/controls",
      "model_module_version": "2.0.0",
      "model_name": "HTMLModel",
      "state": {
       "layout": "IPY_MODEL_83571b94a84e4f16baefc46887e73989",
       "style": "IPY_MODEL_94f46e096a8d48c680e415cb28b46865",
       "value": " 629/629 [00:00&lt;00:00, 26.0kB/s]"
      }
     },
     "015888a6cefe4ed6ab225d7a83dbd644": {
      "model_module": "@jupyter-widgets/controls",
      "model_module_version": "2.0.0",
      "model_name": "HBoxModel",
      "state": {
       "children": [
        "IPY_MODEL_341e24751c204d3e88d5a0bbc5f4f1ce",
        "IPY_MODEL_b4a7b887dfe1403a87c5c86b22e0890e",
        "IPY_MODEL_0a673a8be58c450ab09e200493b7a815"
       ],
       "layout": "IPY_MODEL_fd9b106b839445e780a29e206e9ee0f2"
      }
     },
     "03f85b5bce034e1b9d696e38c7688225": {
      "model_module": "@jupyter-widgets/controls",
      "model_module_version": "2.0.0",
      "model_name": "HTMLModel",
      "state": {
       "layout": "IPY_MODEL_35ffb2a78da5443984506f3aca0557ae",
       "style": "IPY_MODEL_98917af957734b1c91422b30d5789f76",
       "value": "tokenizer_config.json: 100%"
      }
     },
     "04b69627842f413c864a65f3a8fe4d30": {
      "model_module": "@jupyter-widgets/base",
      "model_module_version": "2.0.0",
      "model_name": "LayoutModel",
      "state": {}
     },
     "04f9b2a90a2c4b86b980b8357811349b": {
      "model_module": "@jupyter-widgets/base",
      "model_module_version": "2.0.0",
      "model_name": "LayoutModel",
      "state": {}
     },
     "0780b7a59ffc4feaba7d56f28db24a24": {
      "model_module": "@jupyter-widgets/controls",
      "model_module_version": "2.0.0",
      "model_name": "HTMLModel",
      "state": {
       "layout": "IPY_MODEL_6ceebc7eb439462aa095cdd158e5fe06",
       "style": "IPY_MODEL_cc3bfba9b4004a88a065e90370b086cc",
       "value": "tokenizer.json: 100%"
      }
     },
     "0962e53376f04a59b07be9a0aaa1fd1f": {
      "model_module": "@jupyter-widgets/base",
      "model_module_version": "2.0.0",
      "model_name": "LayoutModel",
      "state": {}
     },
     "0a673a8be58c450ab09e200493b7a815": {
      "model_module": "@jupyter-widgets/controls",
      "model_module_version": "2.0.0",
      "model_name": "HTMLModel",
      "state": {
       "layout": "IPY_MODEL_d8244855012d4deb99cccad163addeae",
       "style": "IPY_MODEL_c10c579425114dc4b181c1148cc6b87c",
       "value": " 53.0/53.0 [00:00&lt;00:00, 3.04kB/s]"
      }
     },
     "0f9e0df9e8bc46c3ac018c69011e0ba1": {
      "model_module": "@jupyter-widgets/controls",
      "model_module_version": "2.0.0",
      "model_name": "ProgressStyleModel",
      "state": {
       "description_width": ""
      }
     },
     "1041e91565fd4621b56cc651897e6754": {
      "model_module": "@jupyter-widgets/controls",
      "model_module_version": "2.0.0",
      "model_name": "ProgressStyleModel",
      "state": {
       "description_width": ""
      }
     },
     "1103e1efb6d44a4691e05b236b3dc76f": {
      "model_module": "@jupyter-widgets/base",
      "model_module_version": "2.0.0",
      "model_name": "LayoutModel",
      "state": {}
     },
     "12dc521ba73e4b4b8497b8a9f0cb8a72": {
      "model_module": "@jupyter-widgets/controls",
      "model_module_version": "2.0.0",
      "model_name": "HTMLModel",
      "state": {
       "layout": "IPY_MODEL_73c9b9370c3f48d096e48c6434dcc519",
       "style": "IPY_MODEL_ed8a0c7970114860808b829d9820ffa3",
       "value": "model.safetensors: 100%"
      }
     },
     "12e1df8b6dc54db2b00f13663b9e863a": {
      "model_module": "@jupyter-widgets/base",
      "model_module_version": "2.0.0",
      "model_name": "LayoutModel",
      "state": {}
     },
     "15922924a083409c98de49d4ec19cd0e": {
      "model_module": "@jupyter-widgets/base",
      "model_module_version": "2.0.0",
      "model_name": "LayoutModel",
      "state": {}
     },
     "18e33a9ea95541fa856c7a69b4102110": {
      "model_module": "@jupyter-widgets/base",
      "model_module_version": "2.0.0",
      "model_name": "LayoutModel",
      "state": {}
     },
     "21886eba482347f68128435503ac96cc": {
      "model_module": "jupyter-matplotlib",
      "model_module_version": "2.0.0",
      "model_name": "ToolbarModel",
      "state": {
       "_current_action": "",
       "_model_module": "jupyter-matplotlib",
       "_model_name": "ToolbarModel",
       "_view_name": "ErrorWidgetView",
       "button_style": "",
       "collapsed": true,
       "error": {},
       "layout": "IPY_MODEL_226db85bc5624b2b9d30c883ae0e52fb",
       "msg": "Failed to load model class 'ToolbarModel' from module 'jupyter-matplotlib'",
       "orientation": "vertical",
       "toolitems": [
        [
         "Home",
         "Reset original view",
         "home",
         "home"
        ],
        [
         "Back",
         "Back to previous view",
         "arrow-left",
         "back"
        ],
        [
         "Forward",
         "Forward to next view",
         "arrow-right",
         "forward"
        ],
        [
         "Pan",
         "Left button pans, Right button zooms\nx/y fixes axis, CTRL fixes aspect",
         "arrows",
         "pan"
        ],
        [
         "Zoom",
         "Zoom to rectangle\nx/y fixes axis",
         "square-o",
         "zoom"
        ],
        [
         "Download",
         "Download plot",
         "floppy-o",
         "save_figure"
        ]
       ]
      }
     },
     "226db85bc5624b2b9d30c883ae0e52fb": {
      "model_module": "@jupyter-widgets/base",
      "model_module_version": "2.0.0",
      "model_name": "LayoutModel",
      "state": {}
     },
     "25a20f6082b54cecbf7484ab1a94ec2e": {
      "model_module": "@jupyter-widgets/base",
      "model_module_version": "2.0.0",
      "model_name": "LayoutModel",
      "state": {}
     },
     "2731d13fb32f4a1abe1f8835542f027f": {
      "model_module": "@jupyter-widgets/controls",
      "model_module_version": "2.0.0",
      "model_name": "ProgressStyleModel",
      "state": {
       "description_width": ""
      }
     },
     "27faa55d64304d3f866057ee1c14a409": {
      "model_module": "@jupyter-widgets/controls",
      "model_module_version": "2.0.0",
      "model_name": "ProgressStyleModel",
      "state": {
       "description_width": ""
      }
     },
     "286b808b6b6240ef864c9b1c2fa72254": {
      "model_module": "@jupyter-widgets/controls",
      "model_module_version": "2.0.0",
      "model_name": "FloatProgressModel",
      "state": {
       "bar_style": "success",
       "layout": "IPY_MODEL_8da4c087c5064522b691d45f7c46b8db",
       "max": 90868373,
       "style": "IPY_MODEL_2731d13fb32f4a1abe1f8835542f027f",
       "value": 90868373
      }
     },
     "292cae2e51a54c77b3a05824f215f87f": {
      "model_module": "@jupyter-widgets/base",
      "model_module_version": "2.0.0",
      "model_name": "LayoutModel",
      "state": {}
     },
     "29458cbd98c14da580c8ccee5de99d86": {
      "model_module": "@jupyter-widgets/base",
      "model_module_version": "2.0.0",
      "model_name": "LayoutModel",
      "state": {}
     },
     "2959caf13b3b4430837aa82521f8dbda": {
      "model_module": "@jupyter-widgets/base",
      "model_module_version": "2.0.0",
      "model_name": "LayoutModel",
      "state": {}
     },
     "2b5c4f77c1044dedaf4ddb815f642051": {
      "model_module": "@jupyter-widgets/base",
      "model_module_version": "2.0.0",
      "model_name": "LayoutModel",
      "state": {}
     },
     "2d082b74c2f74407b1538ce00720db30": {
      "model_module": "@jupyter-widgets/controls",
      "model_module_version": "2.0.0",
      "model_name": "HBoxModel",
      "state": {
       "children": [
        "IPY_MODEL_8ea9ae3757ee4340b6f89154503f06a7",
        "IPY_MODEL_57d0412cf83241318cf24b51700751fa",
        "IPY_MODEL_67678b113cb440218ee5d70a5b6822fb"
       ],
       "layout": "IPY_MODEL_3c8a9833ae464dcea3db46fd2e4f1159"
      }
     },
     "2e3e5345641748c4923bde47e0bd6acd": {
      "model_module": "@jupyter-widgets/controls",
      "model_module_version": "2.0.0",
      "model_name": "ProgressStyleModel",
      "state": {
       "description_width": ""
      }
     },
     "2ecf24edf2204a639d28f77a2215118a": {
      "model_module": "@jupyter-widgets/controls",
      "model_module_version": "2.0.0",
      "model_name": "HTMLStyleModel",
      "state": {
       "description_width": "",
       "font_size": null,
       "text_color": null
      }
     },
     "308823b9035a4d2e9bbea3d3f9e33f84": {
      "model_module": "@jupyter-widgets/base",
      "model_module_version": "2.0.0",
      "model_name": "LayoutModel",
      "state": {}
     },
     "32424f31034043398d536d4c2fa631c2": {
      "model_module": "@jupyter-widgets/controls",
      "model_module_version": "2.0.0",
      "model_name": "FloatProgressModel",
      "state": {
       "bar_style": "success",
       "layout": "IPY_MODEL_993b16ae39094485bc92460d6c714af6",
       "max": 629,
       "style": "IPY_MODEL_27faa55d64304d3f866057ee1c14a409",
       "value": 629
      }
     },
     "326540bbc2274278a7c6f6659e20283b": {
      "model_module": "@jupyter-widgets/base",
      "model_module_version": "2.0.0",
      "model_name": "LayoutModel",
      "state": {}
     },
     "339968728e8b4d8d89010f466d24aaa4": {
      "model_module": "@jupyter-widgets/controls",
      "model_module_version": "2.0.0",
      "model_name": "HTMLStyleModel",
      "state": {
       "description_width": "",
       "font_size": null,
       "text_color": null
      }
     },
     "341e24751c204d3e88d5a0bbc5f4f1ce": {
      "model_module": "@jupyter-widgets/controls",
      "model_module_version": "2.0.0",
      "model_name": "HTMLModel",
      "state": {
       "layout": "IPY_MODEL_3510c5a39ace494e9a476d3a356e3862",
       "style": "IPY_MODEL_acf704b5f02447219628233c0309ef65",
       "value": "sentence_bert_config.json: 100%"
      }
     },
     "3510c5a39ace494e9a476d3a356e3862": {
      "model_module": "@jupyter-widgets/base",
      "model_module_version": "2.0.0",
      "model_name": "LayoutModel",
      "state": {}
     },
     "35c6a0d5dd4e4c73b82b9f1d1b2196ee": {
      "model_module": "@jupyter-widgets/base",
      "model_module_version": "2.0.0",
      "model_name": "LayoutModel",
      "state": {}
     },
     "35ffb2a78da5443984506f3aca0557ae": {
      "model_module": "@jupyter-widgets/base",
      "model_module_version": "2.0.0",
      "model_name": "LayoutModel",
      "state": {}
     },
     "3623b94c6f4140d2afcc47b72cb444e9": {
      "model_module": "@jupyter-widgets/controls",
      "model_module_version": "2.0.0",
      "model_name": "FloatProgressModel",
      "state": {
       "bar_style": "success",
       "layout": "IPY_MODEL_43417255fe374c91b624a60a8e7aec1f",
       "max": 466081,
       "style": "IPY_MODEL_9cf644e86cb94186ac15bd7128c07ae2",
       "value": 466081
      }
     },
     "3710d305d65c4780b55dccba8770aa55": {
      "model_module": "@jupyter-widgets/controls",
      "model_module_version": "2.0.0",
      "model_name": "HTMLModel",
      "state": {
       "layout": "IPY_MODEL_292cae2e51a54c77b3a05824f215f87f",
       "style": "IPY_MODEL_2ecf24edf2204a639d28f77a2215118a",
       "value": " 3.73k/3.73k [00:00&lt;00:00, 118kB/s]"
      }
     },
     "38692867183b4f148e0ddfd9ecab0bff": {
      "model_module": "@jupyter-widgets/controls",
      "model_module_version": "2.0.0",
      "model_name": "FloatProgressModel",
      "state": {
       "bar_style": "success",
       "layout": "IPY_MODEL_57090ba3cf3943f5ad4f252789210517",
       "max": 112,
       "style": "IPY_MODEL_81f4c4df4cd04850b5a6753ef5b93199",
       "value": 112
      }
     },
     "39c884fe16c242e396566ec10e2dcda5": {
      "model_module": "@jupyter-widgets/controls",
      "model_module_version": "2.0.0",
      "model_name": "HTMLStyleModel",
      "state": {
       "description_width": "",
       "font_size": null,
       "text_color": null
      }
     },
     "3c8a9833ae464dcea3db46fd2e4f1159": {
      "model_module": "@jupyter-widgets/base",
      "model_module_version": "2.0.0",
      "model_name": "LayoutModel",
      "state": {}
     },
     "402a14f2fdb3474d97036c5128d24faf": {
      "model_module": "@jupyter-widgets/controls",
      "model_module_version": "2.0.0",
      "model_name": "HBoxModel",
      "state": {
       "children": [
        "IPY_MODEL_6dc4749e0f0a47bf9253fa5819238959",
        "IPY_MODEL_be71e5d322c146be9b178f564bd4e23e",
        "IPY_MODEL_b2a239387eed4429b1303e59d84173c3"
       ],
       "layout": "IPY_MODEL_f4c6bdea593343a69965268d50a71b3c"
      }
     },
     "40638f5a509249678df1563cb2d518bc": {
      "model_module": "@jupyter-widgets/controls",
      "model_module_version": "2.0.0",
      "model_name": "FloatProgressModel",
      "state": {
       "bar_style": "success",
       "layout": "IPY_MODEL_982857cdfdee4f2aaef3e22f8f9e4351",
       "max": 229,
       "style": "IPY_MODEL_1041e91565fd4621b56cc651897e6754",
       "value": 229
      }
     },
     "4123992e7406447d8ebc803b5a3d7dd5": {
      "model_module": "@jupyter-widgets/controls",
      "model_module_version": "2.0.0",
      "model_name": "HBoxModel",
      "state": {
       "children": [
        "IPY_MODEL_a44d42bdf26d4c99a4976fd37f59eeeb",
        "IPY_MODEL_32424f31034043398d536d4c2fa631c2",
        "IPY_MODEL_00d9b6d069ec4538bf81c060c8acf511"
       ],
       "layout": "IPY_MODEL_29458cbd98c14da580c8ccee5de99d86"
      }
     },
     "4179363408eb4fddbe3e2f8d27cd1302": {
      "model_module": "@jupyter-widgets/base",
      "model_module_version": "2.0.0",
      "model_name": "LayoutModel",
      "state": {}
     },
     "433e0898efa944e8a972d75e09a5bd8b": {
      "model_module": "@jupyter-widgets/controls",
      "model_module_version": "2.0.0",
      "model_name": "HBoxModel",
      "state": {
       "children": [
        "IPY_MODEL_03f85b5bce034e1b9d696e38c7688225",
        "IPY_MODEL_dbf877d6862b471e87bf425c0dd70548",
        "IPY_MODEL_94604e2c07e64eaa918f45558595ca7c"
       ],
       "layout": "IPY_MODEL_c21e1d96991d4fb895187a7a3cfb3a33"
      }
     },
     "43417255fe374c91b624a60a8e7aec1f": {
      "model_module": "@jupyter-widgets/base",
      "model_module_version": "2.0.0",
      "model_name": "LayoutModel",
      "state": {}
     },
     "44a52af0227142d3ab9ced7e28afb29f": {
      "model_module": "@jupyter-widgets/controls",
      "model_module_version": "2.0.0",
      "model_name": "HTMLStyleModel",
      "state": {
       "description_width": "",
       "font_size": null,
       "text_color": null
      }
     },
     "4580c02b679f49909b84500cfd368dcb": {
      "model_module": "@jupyter-widgets/controls",
      "model_module_version": "2.0.0",
      "model_name": "HTMLModel",
      "state": {
       "layout": "IPY_MODEL_25a20f6082b54cecbf7484ab1a94ec2e",
       "style": "IPY_MODEL_df9837e9162e41c391285dbc30c89296",
       "value": " 112/112 [00:00&lt;00:00, 3.35kB/s]"
      }
     },
     "4d61bca4804c478a9e37aae73122c6be": {
      "model_module": "@jupyter-widgets/controls",
      "model_module_version": "2.0.0",
      "model_name": "HBoxModel",
      "state": {
       "children": [
        "IPY_MODEL_b122595a14bb4d678d2a915243203ff8",
        "IPY_MODEL_a323a990f31542e4a0fd82bef66efffc",
        "IPY_MODEL_3710d305d65c4780b55dccba8770aa55"
       ],
       "layout": "IPY_MODEL_a147d848f32248b6a343c124cf6cbbf5"
      }
     },
     "4f064808023c4786b91104a36a0c6960": {
      "model_module": "@jupyter-widgets/controls",
      "model_module_version": "2.0.0",
      "model_name": "HTMLStyleModel",
      "state": {
       "description_width": "",
       "font_size": null,
       "text_color": null
      }
     },
     "4ffce7e9550e46a2a2602171da4a897d": {
      "model_module": "@jupyter-widgets/controls",
      "model_module_version": "2.0.0",
      "model_name": "HBoxModel",
      "state": {
       "children": [
        "IPY_MODEL_a51df1b91b3c467997cf735001eb9823",
        "IPY_MODEL_38692867183b4f148e0ddfd9ecab0bff",
        "IPY_MODEL_4580c02b679f49909b84500cfd368dcb"
       ],
       "layout": "IPY_MODEL_e09e34f660ff4cdfafa29ce53948a988"
      }
     },
     "5122ee1d719b458fb39a0ed4872468de": {
      "model_module": "@jupyter-widgets/controls",
      "model_module_version": "2.0.0",
      "model_name": "HTMLStyleModel",
      "state": {
       "description_width": "",
       "font_size": null,
       "text_color": null
      }
     },
     "51ee2e56392b4942bb37e2b6327d46df": {
      "model_module": "@jupyter-widgets/controls",
      "model_module_version": "2.0.0",
      "model_name": "HTMLStyleModel",
      "state": {
       "description_width": "",
       "font_size": null,
       "text_color": null
      }
     },
     "53b60281559f4df8a82ac2786f7bcd68": {
      "model_module": "@jupyter-widgets/base",
      "model_module_version": "2.0.0",
      "model_name": "LayoutModel",
      "state": {}
     },
     "57090ba3cf3943f5ad4f252789210517": {
      "model_module": "@jupyter-widgets/base",
      "model_module_version": "2.0.0",
      "model_name": "LayoutModel",
      "state": {}
     },
     "57887035199e446eb52e0c5959db34f4": {
      "model_module": "@jupyter-widgets/controls",
      "model_module_version": "2.0.0",
      "model_name": "HTMLModel",
      "state": {
       "layout": "IPY_MODEL_15922924a083409c98de49d4ec19cd0e",
       "style": "IPY_MODEL_a15dcf79f3694dcd995df99510d446c4",
       "value": "modules.json: 100%"
      }
     },
     "57d0412cf83241318cf24b51700751fa": {
      "model_module": "@jupyter-widgets/controls",
      "model_module_version": "2.0.0",
      "model_name": "FloatProgressModel",
      "state": {
       "bar_style": "success",
       "layout": "IPY_MODEL_0962e53376f04a59b07be9a0aaa1fd1f",
       "max": 231508,
       "style": "IPY_MODEL_f3b46c37e8df45a8a08968eb64d55d9a",
       "value": 231508
      }
     },
     "5adf837673254d2abe23eff52aca1c5a": {
      "model_module": "jupyter-matplotlib",
      "model_module_version": "2.0.0",
      "model_name": "MPLCanvasModel",
      "state": {
       "_cursor": "pointer",
       "_data_url": "data:image/png;base64,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",
       "_figure_label": "Figure",
       "_image_mode": "full",
       "_message": "",
       "_model_module": "jupyter-matplotlib",
       "_model_name": "MPLCanvasModel",
       "_rubberband_height": 0,
       "_rubberband_width": 0,
       "_rubberband_x": 0,
       "_rubberband_y": 0,
       "_size": [
        640,
        480
       ],
       "_view_name": "ErrorWidgetView",
       "capture_scroll": false,
       "error": {},
       "footer_visible": true,
       "header_visible": true,
       "layout": "IPY_MODEL_12e1df8b6dc54db2b00f13663b9e863a",
       "msg": "Failed to load model class 'MPLCanvasModel' from module 'jupyter-matplotlib'",
       "pan_zoom_throttle": 33,
       "resizable": true,
       "toolbar": "IPY_MODEL_21886eba482347f68128435503ac96cc",
       "toolbar_position": "left",
       "toolbar_visible": "fade-in-fade-out"
      }
     },
     "62210dc2e5d54cf2b7d3bfbffb826bf1": {
      "model_module": "@jupyter-widgets/controls",
      "model_module_version": "2.0.0",
      "model_name": "HBoxModel",
      "state": {
       "children": [
        "IPY_MODEL_e877b9b394a64560a11c1ab3ca4e4781",
        "IPY_MODEL_ed4a44b97a94423faebef8428aba0b74",
        "IPY_MODEL_9038b44f2709468a823a14db7ee313ee"
       ],
       "layout": "IPY_MODEL_04f9b2a90a2c4b86b980b8357811349b"
      }
     },
     "669ff70efd024cccbb87ae7e99d519b4": {
      "model_module": "@jupyter-widgets/base",
      "model_module_version": "2.0.0",
      "model_name": "LayoutModel",
      "state": {}
     },
     "67678b113cb440218ee5d70a5b6822fb": {
      "model_module": "@jupyter-widgets/controls",
      "model_module_version": "2.0.0",
      "model_name": "HTMLModel",
      "state": {
       "layout": "IPY_MODEL_4179363408eb4fddbe3e2f8d27cd1302",
       "style": "IPY_MODEL_a3a62e1749f14647bbf63523b32fe5a7",
       "value": " 232k/232k [00:00&lt;00:00, 1.14MB/s]"
      }
     },
     "6785bf856fe6405e80ae8f27346aaa42": {
      "model_module": "@jupyter-widgets/controls",
      "model_module_version": "2.0.0",
      "model_name": "ProgressStyleModel",
      "state": {
       "description_width": ""
      }
     },
     "695ce2e1559a4e99959cfebf2e730f23": {
      "model_module": "@jupyter-widgets/base",
      "model_module_version": "2.0.0",
      "model_name": "LayoutModel",
      "state": {}
     },
     "6ceebc7eb439462aa095cdd158e5fe06": {
      "model_module": "@jupyter-widgets/base",
      "model_module_version": "2.0.0",
      "model_name": "LayoutModel",
      "state": {}
     },
     "6dc4749e0f0a47bf9253fa5819238959": {
      "model_module": "@jupyter-widgets/controls",
      "model_module_version": "2.0.0",
      "model_name": "HTMLModel",
      "state": {
       "layout": "IPY_MODEL_669ff70efd024cccbb87ae7e99d519b4",
       "style": "IPY_MODEL_d9c6f6272710423aaf2d23b0b5705dd0",
       "value": "config_sentence_transformers.json: 100%"
      }
     },
     "6f0055a16d0d4ff2be01957b7446821d": {
      "model_module": "@jupyter-widgets/controls",
      "model_module_version": "2.0.0",
      "model_name": "HTMLStyleModel",
      "state": {
       "description_width": "",
       "font_size": null,
       "text_color": null
      }
     },
     "73c9b9370c3f48d096e48c6434dcc519": {
      "model_module": "@jupyter-widgets/base",
      "model_module_version": "2.0.0",
      "model_name": "LayoutModel",
      "state": {}
     },
     "7d50d80b4ab04bbda486b312cba5bc19": {
      "model_module": "jupyter-matplotlib",
      "model_module_version": "2.0.0",
      "model_name": "MPLCanvasModel",
      "state": {
       "_cursor": "pointer",
       "_data_url": "data:image/png;base64,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",
       "_figure_label": "Figure",
       "_image_mode": "full",
       "_message": "",
       "_model_module": "jupyter-matplotlib",
       "_model_name": "MPLCanvasModel",
       "_rubberband_height": 0,
       "_rubberband_width": 0,
       "_rubberband_x": 0,
       "_rubberband_y": 0,
       "_size": [
        640,
        480
       ],
       "_view_name": "ErrorWidgetView",
       "capture_scroll": false,
       "error": {},
       "footer_visible": true,
       "header_visible": true,
       "layout": "IPY_MODEL_e6208d0f81a24e0ca40d30f5c5af3848",
       "msg": "Failed to load model class 'MPLCanvasModel' from module 'jupyter-matplotlib'",
       "pan_zoom_throttle": 33,
       "resizable": true,
       "toolbar": "IPY_MODEL_e3ab1d35549f466a8740fc3feeaf9ef7",
       "toolbar_position": "left",
       "toolbar_visible": "fade-in-fade-out"
      }
     },
     "816b9262f2f04f2bb78304c86ab8bb07": {
      "model_module": "@jupyter-widgets/base",
      "model_module_version": "2.0.0",
      "model_name": "LayoutModel",
      "state": {}
     },
     "81f4c4df4cd04850b5a6753ef5b93199": {
      "model_module": "@jupyter-widgets/controls",
      "model_module_version": "2.0.0",
      "model_name": "ProgressStyleModel",
      "state": {
       "description_width": ""
      }
     },
     "82d4171964b8477fbfd0723af95b0767": {
      "model_module": "@jupyter-widgets/base",
      "model_module_version": "2.0.0",
      "model_name": "LayoutModel",
      "state": {}
     },
     "83571b94a84e4f16baefc46887e73989": {
      "model_module": "@jupyter-widgets/base",
      "model_module_version": "2.0.0",
      "model_name": "LayoutModel",
      "state": {}
     },
     "878ea45c3ffd4e2e9ff755db07858a8f": {
      "model_module": "@jupyter-widgets/base",
      "model_module_version": "2.0.0",
      "model_name": "LayoutModel",
      "state": {}
     },
     "89c2aedfc7cb4d81b1937cde83908719": {
      "model_module": "@jupyter-widgets/controls",
      "model_module_version": "2.0.0",
      "model_name": "HBoxModel",
      "state": {
       "children": [
        "IPY_MODEL_0780b7a59ffc4feaba7d56f28db24a24",
        "IPY_MODEL_3623b94c6f4140d2afcc47b72cb444e9",
        "IPY_MODEL_936b245aa01e4ab891f4af3e01f4000b"
       ],
       "layout": "IPY_MODEL_695ce2e1559a4e99959cfebf2e730f23"
      }
     },
     "8a1ab6f71e0242f6beaddbbcf882978d": {
      "model_module": "@jupyter-widgets/controls",
      "model_module_version": "2.0.0",
      "model_name": "HTMLStyleModel",
      "state": {
       "description_width": "",
       "font_size": null,
       "text_color": null
      }
     },
     "8aac464b136d49b7b22ecf2b5aa2e4eb": {
      "model_module": "@jupyter-widgets/base",
      "model_module_version": "2.0.0",
      "model_name": "LayoutModel",
      "state": {}
     },
     "8da4c087c5064522b691d45f7c46b8db": {
      "model_module": "@jupyter-widgets/base",
      "model_module_version": "2.0.0",
      "model_name": "LayoutModel",
      "state": {}
     },
     "8ea9ae3757ee4340b6f89154503f06a7": {
      "model_module": "@jupyter-widgets/controls",
      "model_module_version": "2.0.0",
      "model_name": "HTMLModel",
      "state": {
       "layout": "IPY_MODEL_1103e1efb6d44a4691e05b236b3dc76f",
       "style": "IPY_MODEL_339968728e8b4d8d89010f466d24aaa4",
       "value": "vocab.txt: 100%"
      }
     },
     "8f4e038a437a40e0933074546fbbbe23": {
      "model_module": "@jupyter-widgets/controls",
      "model_module_version": "2.0.0",
      "model_name": "ProgressStyleModel",
      "state": {
       "description_width": ""
      }
     },
     "9038b44f2709468a823a14db7ee313ee": {
      "model_module": "@jupyter-widgets/controls",
      "model_module_version": "2.0.0",
      "model_name": "HTMLModel",
      "state": {
       "layout": "IPY_MODEL_aead223d50674574a3a78e7ae719cf92",
       "style": "IPY_MODEL_4f064808023c4786b91104a36a0c6960",
       "value": " 190/190 [00:00&lt;00:00, 8.26kB/s]"
      }
     },
     "936b245aa01e4ab891f4af3e01f4000b": {
      "model_module": "@jupyter-widgets/controls",
      "model_module_version": "2.0.0",
      "model_name": "HTMLModel",
      "state": {
       "layout": "IPY_MODEL_8aac464b136d49b7b22ecf2b5aa2e4eb",
       "style": "IPY_MODEL_39c884fe16c242e396566ec10e2dcda5",
       "value": " 466k/466k [00:00&lt;00:00, 2.48MB/s]"
      }
     },
     "94604e2c07e64eaa918f45558595ca7c": {
      "model_module": "@jupyter-widgets/controls",
      "model_module_version": "2.0.0",
      "model_name": "HTMLModel",
      "state": {
       "layout": "IPY_MODEL_c74e516774e142dda453ef4c546c43b8",
       "style": "IPY_MODEL_f633a107af82419f8fd93467fcda4961",
       "value": " 314/314 [00:00&lt;00:00, 10.4kB/s]"
      }
     },
     "94f46e096a8d48c680e415cb28b46865": {
      "model_module": "@jupyter-widgets/controls",
      "model_module_version": "2.0.0",
      "model_name": "HTMLStyleModel",
      "state": {
       "description_width": "",
       "font_size": null,
       "text_color": null
      }
     },
     "982857cdfdee4f2aaef3e22f8f9e4351": {
      "model_module": "@jupyter-widgets/base",
      "model_module_version": "2.0.0",
      "model_name": "LayoutModel",
      "state": {}
     },
     "98917af957734b1c91422b30d5789f76": {
      "model_module": "@jupyter-widgets/controls",
      "model_module_version": "2.0.0",
      "model_name": "HTMLStyleModel",
      "state": {
       "description_width": "",
       "font_size": null,
       "text_color": null
      }
     },
     "993b16ae39094485bc92460d6c714af6": {
      "model_module": "@jupyter-widgets/base",
      "model_module_version": "2.0.0",
      "model_name": "LayoutModel",
      "state": {}
     },
     "9cf644e86cb94186ac15bd7128c07ae2": {
      "model_module": "@jupyter-widgets/controls",
      "model_module_version": "2.0.0",
      "model_name": "ProgressStyleModel",
      "state": {
       "description_width": ""
      }
     },
     "a147d848f32248b6a343c124cf6cbbf5": {
      "model_module": "@jupyter-widgets/base",
      "model_module_version": "2.0.0",
      "model_name": "LayoutModel",
      "state": {}
     },
     "a15dcf79f3694dcd995df99510d446c4": {
      "model_module": "@jupyter-widgets/controls",
      "model_module_version": "2.0.0",
      "model_name": "HTMLStyleModel",
      "state": {
       "description_width": "",
       "font_size": null,
       "text_color": null
      }
     },
     "a323a990f31542e4a0fd82bef66efffc": {
      "model_module": "@jupyter-widgets/controls",
      "model_module_version": "2.0.0",
      "model_name": "FloatProgressModel",
      "state": {
       "bar_style": "success",
       "layout": "IPY_MODEL_faacad31d72c45dd963c248122bd5521",
       "max": 3729,
       "style": "IPY_MODEL_6785bf856fe6405e80ae8f27346aaa42",
       "value": 3729
      }
     },
     "a3a62e1749f14647bbf63523b32fe5a7": {
      "model_module": "@jupyter-widgets/controls",
      "model_module_version": "2.0.0",
      "model_name": "HTMLStyleModel",
      "state": {
       "description_width": "",
       "font_size": null,
       "text_color": null
      }
     },
     "a44d42bdf26d4c99a4976fd37f59eeeb": {
      "model_module": "@jupyter-widgets/controls",
      "model_module_version": "2.0.0",
      "model_name": "HTMLModel",
      "state": {
       "layout": "IPY_MODEL_bb14a39ee7d74a239eebba06171f2eb3",
       "style": "IPY_MODEL_51ee2e56392b4942bb37e2b6327d46df",
       "value": "config.json: 100%"
      }
     },
     "a51df1b91b3c467997cf735001eb9823": {
      "model_module": "@jupyter-widgets/controls",
      "model_module_version": "2.0.0",
      "model_name": "HTMLModel",
      "state": {
       "layout": "IPY_MODEL_2959caf13b3b4430837aa82521f8dbda",
       "style": "IPY_MODEL_6f0055a16d0d4ff2be01957b7446821d",
       "value": "special_tokens_map.json: 100%"
      }
     },
     "acf704b5f02447219628233c0309ef65": {
      "model_module": "@jupyter-widgets/controls",
      "model_module_version": "2.0.0",
      "model_name": "HTMLStyleModel",
      "state": {
       "description_width": "",
       "font_size": null,
       "text_color": null
      }
     },
     "ae11361e3be94a4f88e47dcc21f44da4": {
      "model_module": "@jupyter-widgets/base",
      "model_module_version": "2.0.0",
      "model_name": "LayoutModel",
      "state": {}
     },
     "aead223d50674574a3a78e7ae719cf92": {
      "model_module": "@jupyter-widgets/base",
      "model_module_version": "2.0.0",
      "model_name": "LayoutModel",
      "state": {}
     },
     "b122595a14bb4d678d2a915243203ff8": {
      "model_module": "@jupyter-widgets/controls",
      "model_module_version": "2.0.0",
      "model_name": "HTMLModel",
      "state": {
       "layout": "IPY_MODEL_04b69627842f413c864a65f3a8fe4d30",
       "style": "IPY_MODEL_8a1ab6f71e0242f6beaddbbcf882978d",
       "value": "README.md: 100%"
      }
     },
     "b2a239387eed4429b1303e59d84173c3": {
      "model_module": "@jupyter-widgets/controls",
      "model_module_version": "2.0.0",
      "model_name": "HTMLModel",
      "state": {
       "layout": "IPY_MODEL_dd3232103938441c9991f71415644a0d",
       "style": "IPY_MODEL_b5978b8fdef5490e84d93ab58c9b8b78",
       "value": " 122/122 [00:00&lt;00:00, 4.12kB/s]"
      }
     },
     "b4a7b887dfe1403a87c5c86b22e0890e": {
      "model_module": "@jupyter-widgets/controls",
      "model_module_version": "2.0.0",
      "model_name": "FloatProgressModel",
      "state": {
       "bar_style": "success",
       "layout": "IPY_MODEL_ae11361e3be94a4f88e47dcc21f44da4",
       "max": 53,
       "style": "IPY_MODEL_2e3e5345641748c4923bde47e0bd6acd",
       "value": 53
      }
     },
     "b5978b8fdef5490e84d93ab58c9b8b78": {
      "model_module": "@jupyter-widgets/controls",
      "model_module_version": "2.0.0",
      "model_name": "HTMLStyleModel",
      "state": {
       "description_width": "",
       "font_size": null,
       "text_color": null
      }
     },
     "b5e859765da84dcfba03cf462953d7a7": {
      "model_module": "@jupyter-widgets/controls",
      "model_module_version": "2.0.0",
      "model_name": "HBoxModel",
      "state": {
       "children": [
        "IPY_MODEL_57887035199e446eb52e0c5959db34f4",
        "IPY_MODEL_40638f5a509249678df1563cb2d518bc",
        "IPY_MODEL_d8e178354fed497982dcef91ee7b9aea"
       ],
       "layout": "IPY_MODEL_816b9262f2f04f2bb78304c86ab8bb07"
      }
     },
     "b93066ac188c4f59a3708958c89f58f0": {
      "model_module": "jupyter-matplotlib",
      "model_module_version": "2.0.0",
      "model_name": "ToolbarModel",
      "state": {
       "_current_action": "",
       "_model_module": "jupyter-matplotlib",
       "_model_name": "ToolbarModel",
       "_view_name": "ErrorWidgetView",
       "button_style": "",
       "collapsed": true,
       "error": {},
       "layout": "IPY_MODEL_878ea45c3ffd4e2e9ff755db07858a8f",
       "msg": "Failed to load model class 'ToolbarModel' from module 'jupyter-matplotlib'",
       "orientation": "vertical",
       "toolitems": [
        [
         "Home",
         "Reset original view",
         "home",
         "home"
        ],
        [
         "Back",
         "Back to previous view",
         "arrow-left",
         "back"
        ],
        [
         "Forward",
         "Forward to next view",
         "arrow-right",
         "forward"
        ],
        [
         "Pan",
         "Left button pans, Right button zooms\nx/y fixes axis, CTRL fixes aspect",
         "arrows",
         "pan"
        ],
        [
         "Zoom",
         "Zoom to rectangle\nx/y fixes axis",
         "square-o",
         "zoom"
        ],
        [
         "Download",
         "Download plot",
         "floppy-o",
         "save_figure"
        ]
       ]
      }
     },
     "bb14a39ee7d74a239eebba06171f2eb3": {
      "model_module": "@jupyter-widgets/base",
      "model_module_version": "2.0.0",
      "model_name": "LayoutModel",
      "state": {}
     },
     "be71e5d322c146be9b178f564bd4e23e": {
      "model_module": "@jupyter-widgets/controls",
      "model_module_version": "2.0.0",
      "model_name": "FloatProgressModel",
      "state": {
       "bar_style": "success",
       "layout": "IPY_MODEL_18e33a9ea95541fa856c7a69b4102110",
       "max": 122,
       "style": "IPY_MODEL_d131b4fd05a749039b6c09a56a360ac7",
       "value": 122
      }
     },
     "c10c579425114dc4b181c1148cc6b87c": {
      "model_module": "@jupyter-widgets/controls",
      "model_module_version": "2.0.0",
      "model_name": "HTMLStyleModel",
      "state": {
       "description_width": "",
       "font_size": null,
       "text_color": null
      }
     },
     "c13d7babd9274f84874f94e717a78c0d": {
      "model_module": "@jupyter-widgets/base",
      "model_module_version": "2.0.0",
      "model_name": "LayoutModel",
      "state": {}
     },
     "c21e1d96991d4fb895187a7a3cfb3a33": {
      "model_module": "@jupyter-widgets/base",
      "model_module_version": "2.0.0",
      "model_name": "LayoutModel",
      "state": {}
     },
     "c74e516774e142dda453ef4c546c43b8": {
      "model_module": "@jupyter-widgets/base",
      "model_module_version": "2.0.0",
      "model_name": "LayoutModel",
      "state": {}
     },
     "c755b33bfad8467a83e7cb1f5889abfc": {
      "model_module": "@jupyter-widgets/controls",
      "model_module_version": "2.0.0",
      "model_name": "HBoxModel",
      "state": {
       "children": [
        "IPY_MODEL_12dc521ba73e4b4b8497b8a9f0cb8a72",
        "IPY_MODEL_286b808b6b6240ef864c9b1c2fa72254",
        "IPY_MODEL_d1cbbfd35d744c6cb19bebfc29f0ff90"
       ],
       "layout": "IPY_MODEL_c13d7babd9274f84874f94e717a78c0d"
      }
     },
     "cc3bfba9b4004a88a065e90370b086cc": {
      "model_module": "@jupyter-widgets/controls",
      "model_module_version": "2.0.0",
      "model_name": "HTMLStyleModel",
      "state": {
       "description_width": "",
       "font_size": null,
       "text_color": null
      }
     },
     "d131b4fd05a749039b6c09a56a360ac7": {
      "model_module": "@jupyter-widgets/controls",
      "model_module_version": "2.0.0",
      "model_name": "ProgressStyleModel",
      "state": {
       "description_width": ""
      }
     },
     "d1cbbfd35d744c6cb19bebfc29f0ff90": {
      "model_module": "@jupyter-widgets/controls",
      "model_module_version": "2.0.0",
      "model_name": "HTMLModel",
      "state": {
       "layout": "IPY_MODEL_53b60281559f4df8a82ac2786f7bcd68",
       "style": "IPY_MODEL_d8095ebfb3e943ec8eff865a545f03b7",
       "value": " 90.9M/90.9M [00:08&lt;00:00, 9.99MB/s]"
      }
     },
     "d8095ebfb3e943ec8eff865a545f03b7": {
      "model_module": "@jupyter-widgets/controls",
      "model_module_version": "2.0.0",
      "model_name": "HTMLStyleModel",
      "state": {
       "description_width": "",
       "font_size": null,
       "text_color": null
      }
     },
     "d8244855012d4deb99cccad163addeae": {
      "model_module": "@jupyter-widgets/base",
      "model_module_version": "2.0.0",
      "model_name": "LayoutModel",
      "state": {}
     },
     "d8e178354fed497982dcef91ee7b9aea": {
      "model_module": "@jupyter-widgets/controls",
      "model_module_version": "2.0.0",
      "model_name": "HTMLModel",
      "state": {
       "layout": "IPY_MODEL_82d4171964b8477fbfd0723af95b0767",
       "style": "IPY_MODEL_44a52af0227142d3ab9ced7e28afb29f",
       "value": " 229/229 [00:00&lt;00:00, 15.2kB/s]"
      }
     },
     "d9c6f6272710423aaf2d23b0b5705dd0": {
      "model_module": "@jupyter-widgets/controls",
      "model_module_version": "2.0.0",
      "model_name": "HTMLStyleModel",
      "state": {
       "description_width": "",
       "font_size": null,
       "text_color": null
      }
     },
     "dbf877d6862b471e87bf425c0dd70548": {
      "model_module": "@jupyter-widgets/controls",
      "model_module_version": "2.0.0",
      "model_name": "FloatProgressModel",
      "state": {
       "bar_style": "success",
       "layout": "IPY_MODEL_2b5c4f77c1044dedaf4ddb815f642051",
       "max": 314,
       "style": "IPY_MODEL_0f9e0df9e8bc46c3ac018c69011e0ba1",
       "value": 314
      }
     },
     "dd3232103938441c9991f71415644a0d": {
      "model_module": "@jupyter-widgets/base",
      "model_module_version": "2.0.0",
      "model_name": "LayoutModel",
      "state": {}
     },
     "df9837e9162e41c391285dbc30c89296": {
      "model_module": "@jupyter-widgets/controls",
      "model_module_version": "2.0.0",
      "model_name": "HTMLStyleModel",
      "state": {
       "description_width": "",
       "font_size": null,
       "text_color": null
      }
     },
     "e09e34f660ff4cdfafa29ce53948a988": {
      "model_module": "@jupyter-widgets/base",
      "model_module_version": "2.0.0",
      "model_name": "LayoutModel",
      "state": {}
     },
     "e3ab1d35549f466a8740fc3feeaf9ef7": {
      "model_module": "jupyter-matplotlib",
      "model_module_version": "2.0.0",
      "model_name": "ToolbarModel",
      "state": {
       "_current_action": "",
       "_model_module": "jupyter-matplotlib",
       "_model_name": "ToolbarModel",
       "_view_name": "ErrorWidgetView",
       "button_style": "",
       "collapsed": true,
       "error": {},
       "layout": "IPY_MODEL_326540bbc2274278a7c6f6659e20283b",
       "msg": "Failed to load model class 'ToolbarModel' from module 'jupyter-matplotlib'",
       "orientation": "vertical",
       "toolitems": [
        [
         "Home",
         "Reset original view",
         "home",
         "home"
        ],
        [
         "Back",
         "Back to previous view",
         "arrow-left",
         "back"
        ],
        [
         "Forward",
         "Forward to next view",
         "arrow-right",
         "forward"
        ],
        [
         "Pan",
         "Left button pans, Right button zooms\nx/y fixes axis, CTRL fixes aspect",
         "arrows",
         "pan"
        ],
        [
         "Zoom",
         "Zoom to rectangle\nx/y fixes axis",
         "square-o",
         "zoom"
        ],
        [
         "Download",
         "Download plot",
         "floppy-o",
         "save_figure"
        ]
       ]
      }
     },
     "e6208d0f81a24e0ca40d30f5c5af3848": {
      "model_module": "@jupyter-widgets/base",
      "model_module_version": "2.0.0",
      "model_name": "LayoutModel",
      "state": {}
     },
     "e7a8d6adae7c4c659f14295e64307d26": {
      "model_module": "jupyter-matplotlib",
      "model_module_version": "2.0.0",
      "model_name": "MPLCanvasModel",
      "state": {
       "_cursor": "pointer",
       "_data_url": "data:image/png;base64,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",
       "_figure_label": "Figure",
       "_image_mode": "full",
       "_message": "",
       "_model_module": "jupyter-matplotlib",
       "_model_name": "MPLCanvasModel",
       "_rubberband_height": 0,
       "_rubberband_width": 0,
       "_rubberband_x": 0,
       "_rubberband_y": 0,
       "_size": [
        640,
        480
       ],
       "_view_name": "ErrorWidgetView",
       "capture_scroll": false,
       "error": {},
       "footer_visible": true,
       "header_visible": true,
       "layout": "IPY_MODEL_fdbbd6ec8433437c8816f1358a261668",
       "msg": "Failed to load model class 'MPLCanvasModel' from module 'jupyter-matplotlib'",
       "pan_zoom_throttle": 33,
       "resizable": true,
       "toolbar": "IPY_MODEL_b93066ac188c4f59a3708958c89f58f0",
       "toolbar_position": "left",
       "toolbar_visible": "fade-in-fade-out"
      }
     },
     "e877b9b394a64560a11c1ab3ca4e4781": {
      "model_module": "@jupyter-widgets/controls",
      "model_module_version": "2.0.0",
      "model_name": "HTMLModel",
      "state": {
       "layout": "IPY_MODEL_35c6a0d5dd4e4c73b82b9f1d1b2196ee",
       "style": "IPY_MODEL_5122ee1d719b458fb39a0ed4872468de",
       "value": "1_Pooling/config.json: 100%"
      }
     },
     "ed4a44b97a94423faebef8428aba0b74": {
      "model_module": "@jupyter-widgets/controls",
      "model_module_version": "2.0.0",
      "model_name": "FloatProgressModel",
      "state": {
       "bar_style": "success",
       "layout": "IPY_MODEL_308823b9035a4d2e9bbea3d3f9e33f84",
       "max": 190,
       "style": "IPY_MODEL_8f4e038a437a40e0933074546fbbbe23",
       "value": 190
      }
     },
     "ed8a0c7970114860808b829d9820ffa3": {
      "model_module": "@jupyter-widgets/controls",
      "model_module_version": "2.0.0",
      "model_name": "HTMLStyleModel",
      "state": {
       "description_width": "",
       "font_size": null,
       "text_color": null
      }
     },
     "f3b46c37e8df45a8a08968eb64d55d9a": {
      "model_module": "@jupyter-widgets/controls",
      "model_module_version": "2.0.0",
      "model_name": "ProgressStyleModel",
      "state": {
       "description_width": ""
      }
     },
     "f4c6bdea593343a69965268d50a71b3c": {
      "model_module": "@jupyter-widgets/base",
      "model_module_version": "2.0.0",
      "model_name": "LayoutModel",
      "state": {}
     },
     "f633a107af82419f8fd93467fcda4961": {
      "model_module": "@jupyter-widgets/controls",
      "model_module_version": "2.0.0",
      "model_name": "HTMLStyleModel",
      "state": {
       "description_width": "",
       "font_size": null,
       "text_color": null
      }
     },
     "faacad31d72c45dd963c248122bd5521": {
      "model_module": "@jupyter-widgets/base",
      "model_module_version": "2.0.0",
      "model_name": "LayoutModel",
      "state": {}
     },
     "fd9b106b839445e780a29e206e9ee0f2": {
      "model_module": "@jupyter-widgets/base",
      "model_module_version": "2.0.0",
      "model_name": "LayoutModel",
      "state": {}
     },
     "fdbbd6ec8433437c8816f1358a261668": {
      "model_module": "@jupyter-widgets/base",
      "model_module_version": "2.0.0",
      "model_name": "LayoutModel",
      "state": {}
     }
    },
    "version_major": 2,
    "version_minor": 0
   }
  }
 },
 "nbformat": 4,
 "nbformat_minor": 5
}
