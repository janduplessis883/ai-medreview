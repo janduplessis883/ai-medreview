{
 "cells": [
  {
   "cell_type": "markdown",
   "id": "472748f2-1926-4d34-b1bc-db5d5c4a08d1",
   "metadata": {},
   "source": [
    "<img width=\"94\" height=\"94\" src=\"https://img.icons8.com/3d-fluency/94/database.png\" alt=\"database\"/>"
   ]
  },
  {
   "cell_type": "markdown",
   "id": "97e73f6c-4950-442c-a94f-fc79962ee179",
   "metadata": {},
   "source": [
    "# **ChromaDB** Review Embeddings "
   ]
  },
  {
   "cell_type": "markdown",
   "id": "395be374-918d-42fe-94e7-7f761f9b44b3",
   "metadata": {},
   "source": [
    "![Static Badge](https://img.shields.io/badge/janduplessis883-ChromaDB-%23eda73b)"
   ]
  },
  {
   "cell_type": "code",
   "execution_count": null,
   "id": "608e22a1-cee7-46bb-b584-c1b026a0483f",
   "metadata": {},
   "outputs": [],
   "source": []
  },
  {
   "cell_type": "code",
   "execution_count": null,
   "id": "6459f385-6efb-4646-91ed-8a161e25d731",
   "metadata": {},
   "outputs": [],
   "source": []
  },
  {
   "cell_type": "code",
   "execution_count": null,
   "id": "dd69ba5c-5fa1-4038-beec-d687374ec0d7",
   "metadata": {},
   "outputs": [],
   "source": []
  },
  {
   "cell_type": "code",
   "execution_count": null,
   "id": "f81234b3-3d71-4bbe-89e7-174f2d221905",
   "metadata": {},
   "outputs": [],
   "source": []
  },
  {
   "cell_type": "code",
   "execution_count": null,
   "id": "9793b6f8-7bfb-4bc2-9c0d-fb545f8dff64",
   "metadata": {},
   "outputs": [],
   "source": []
  },
  {
   "cell_type": "code",
   "execution_count": null,
   "id": "31c4c494-7a2f-4cff-a767-9051f16024ae",
   "metadata": {},
   "outputs": [],
   "source": []
  },
  {
   "cell_type": "code",
   "execution_count": null,
   "id": "b581b910-f647-4d07-a57e-890b5c434595",
   "metadata": {},
   "outputs": [],
   "source": []
  },
  {
   "cell_type": "code",
   "execution_count": null,
   "id": "85e4483f-3319-4ef9-a095-a78625134162",
   "metadata": {},
   "outputs": [],
   "source": []
  },
  {
   "cell_type": "code",
   "execution_count": null,
   "id": "fe202327-91cf-436c-8dfb-c7cfdad6dbd8",
   "metadata": {},
   "outputs": [],
   "source": []
  },
  {
   "cell_type": "code",
   "execution_count": null,
   "id": "4bc02114-d272-4c90-82fe-660abe95dada",
   "metadata": {},
   "outputs": [],
   "source": []
  },
  {
   "cell_type": "code",
   "execution_count": null,
   "id": "a86bcd49-b14c-4b9d-a656-328d8cb4802d",
   "metadata": {},
   "outputs": [],
   "source": []
  },
  {
   "cell_type": "code",
   "execution_count": null,
   "id": "43bae2f9-3832-443d-8909-f59bd8bb3c17",
   "metadata": {},
   "outputs": [],
   "source": []
  },
  {
   "cell_type": "code",
   "execution_count": null,
   "id": "a461c569-46e1-4221-b845-c5ca89e1d608",
   "metadata": {},
   "outputs": [],
   "source": []
  },
  {
   "cell_type": "code",
   "execution_count": null,
   "id": "b9efd049-de2f-4a90-bba6-aa8fb299c268",
   "metadata": {},
   "outputs": [],
   "source": []
  },
  {
   "cell_type": "code",
   "execution_count": null,
   "id": "a092aba0-0299-407a-bf18-57c0d1e3fa86",
   "metadata": {},
   "outputs": [],
   "source": []
  },
  {
   "cell_type": "code",
   "execution_count": null,
   "id": "599205b1-6e4c-4ae1-b9ca-1471ec05f71a",
   "metadata": {},
   "outputs": [],
   "source": []
  },
  {
   "cell_type": "code",
   "execution_count": null,
   "id": "1082a48d-bff3-4bd5-af0e-4e9e059aea6c",
   "metadata": {},
   "outputs": [],
   "source": []
  },
  {
   "cell_type": "code",
   "execution_count": null,
   "id": "60baa8cf-d659-4641-b667-619be552c6f6",
   "metadata": {},
   "outputs": [],
   "source": []
  },
  {
   "cell_type": "code",
   "execution_count": null,
   "id": "3abbdfe2-9252-47e9-930a-c15ac2b51170",
   "metadata": {},
   "outputs": [],
   "source": []
  },
  {
   "cell_type": "code",
   "execution_count": null,
   "id": "ae4ba6fa-9f56-4c72-bf6e-a8129a8a249a",
   "metadata": {},
   "outputs": [],
   "source": []
  }
 ],
 "metadata": {
  "kernelspec": {
   "display_name": "Python 3 (ipykernel)",
   "language": "python",
   "name": "python3"
  },
  "language_info": {
   "codemirror_mode": {
    "name": "ipython",
    "version": 3
   },
   "file_extension": ".py",
   "mimetype": "text/x-python",
   "name": "python",
   "nbconvert_exporter": "python",
   "pygments_lexer": "ipython3",
   "version": "3.10.6"
  },
  "widgets": {
   "application/vnd.jupyter.widget-state+json": {
    "state": {},
    "version_major": 2,
    "version_minor": 0
   }
  }
 },
 "nbformat": 4,
 "nbformat_minor": 5
}
