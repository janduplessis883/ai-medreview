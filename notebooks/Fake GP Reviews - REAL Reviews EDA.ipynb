{
 "cells": [
  {
   "cell_type": "markdown",
   "id": "9ed9c5fc-5932-4b44-b6db-11e42cd7d0ea",
   "metadata": {},
   "source": [
    "<div class='status' style='background-color: #183a4b; color: white; padding-top: 4px; padding-bottom: 4px; padding-left: 20px; padding-right: 20px; border-radius: 10px; font-family: Arial, sans-serif; font-size: 26px; display: inline-block; text-align: center; box-shadow: 0px 3px 4px rgba(0, 0, 0, 0.5);'><b>Fake GP Reviews</B> - REAL Reviews EDA</div>"
   ]
  },
  {
   "cell_type": "markdown",
   "id": "2a648829-126a-4b6b-9cfb-a28062f4f32b",
   "metadata": {},
   "source": [
    "## Loading Libraries"
   ]
  },
  {
   "cell_type": "code",
   "execution_count": 2,
   "id": "1629e973-7959-471d-a115-759bc7483f6d",
   "metadata": {},
   "outputs": [],
   "source": [
    "# Importing default Libraries\n",
    "import matplotlib.pyplot as plt\n",
    "import pandas as pd\n",
    "import numpy as np\n",
    "import seaborn as sns\n",
    "import warnings\n",
    "import datetime\n",
    "import os\n",
    "from tqdm import tqdm\n",
    "\n",
    "pd.options.display.max_rows = 1000\n",
    "pd.options.display.max_columns = 1000\n",
    "\n",
    "# Hi-resolution Plots and Matplotlib inline\n",
    "%config InlineBackend.figure_format = 'retina'\n",
    "%matplotlib inline\n",
    "\n",
    "# Set the maximum number of rows and columns to be displayed\n",
    "warnings.filterwarnings(\"ignore\")\n",
    "\n",
    "# \"magic commands\" to enable autoreload of your imported packages\n",
    "%load_ext autoreload\n",
    "%autoreload 2"
   ]
  },
  {
   "cell_type": "code",
   "execution_count": 6,
   "id": "2a331295-4f47-4688-a71e-3d7e974f7804",
   "metadata": {},
   "outputs": [],
   "source": [
    "from jan883_codebase.data_preprocessing.eda import *"
   ]
  },
  {
   "cell_type": "markdown",
   "id": "89c7b438-609a-4d9d-b029-cf4b42f778a0",
   "metadata": {},
   "source": [
    "<div class='status' style='background-color: #f5c244; color: white; padding-top: 2px; padding-bottom: 2px; padding-left: 7px; padding-right: 7px; border-radius: 6px; font-family: Arial, sans-serif; font-size: 18px; display: inline-block; text-align: center; box-shadow: 0px 3px 4px rgba(0, 0, 0, 0.2);'><b>Loading</b> dataset</div>"
   ]
  },
  {
   "cell_type": "code",
   "execution_count": 11,
   "id": "e138a7c5-f2b1-4742-830a-97e123772a2a",
   "metadata": {},
   "outputs": [
    {
     "data": {
      "text/html": [
       "<div>\n",
       "<style scoped>\n",
       "    .dataframe tbody tr th:only-of-type {\n",
       "        vertical-align: middle;\n",
       "    }\n",
       "\n",
       "    .dataframe tbody tr th {\n",
       "        vertical-align: top;\n",
       "    }\n",
       "\n",
       "    .dataframe thead th {\n",
       "        text-align: right;\n",
       "    }\n",
       "</style>\n",
       "<table border=\"1\" class=\"dataframe\">\n",
       "  <thead>\n",
       "    <tr style=\"text-align: right;\">\n",
       "      <th></th>\n",
       "      <th>entity</th>\n",
       "      <th>iso_code</th>\n",
       "      <th>date</th>\n",
       "      <th>indicator</th>\n",
       "      <th>value</th>\n",
       "    </tr>\n",
       "  </thead>\n",
       "  <tbody>\n",
       "    <tr>\n",
       "      <th>0</th>\n",
       "      <td>Algeria</td>\n",
       "      <td>DZA</td>\n",
       "      <td>2020-07-17</td>\n",
       "      <td>Daily ICU occupancy</td>\n",
       "      <td>62.000</td>\n",
       "    </tr>\n",
       "    <tr>\n",
       "      <th>1</th>\n",
       "      <td>Algeria</td>\n",
       "      <td>DZA</td>\n",
       "      <td>2020-07-17</td>\n",
       "      <td>Daily ICU occupancy per million</td>\n",
       "      <td>1.381</td>\n",
       "    </tr>\n",
       "    <tr>\n",
       "      <th>2</th>\n",
       "      <td>Algeria</td>\n",
       "      <td>DZA</td>\n",
       "      <td>2020-07-18</td>\n",
       "      <td>Daily ICU occupancy</td>\n",
       "      <td>67.000</td>\n",
       "    </tr>\n",
       "    <tr>\n",
       "      <th>3</th>\n",
       "      <td>Algeria</td>\n",
       "      <td>DZA</td>\n",
       "      <td>2020-07-18</td>\n",
       "      <td>Daily ICU occupancy per million</td>\n",
       "      <td>1.492</td>\n",
       "    </tr>\n",
       "    <tr>\n",
       "      <th>4</th>\n",
       "      <td>Algeria</td>\n",
       "      <td>DZA</td>\n",
       "      <td>2020-07-20</td>\n",
       "      <td>Daily ICU occupancy</td>\n",
       "      <td>64.000</td>\n",
       "    </tr>\n",
       "    <tr>\n",
       "      <th>5</th>\n",
       "      <td>Algeria</td>\n",
       "      <td>DZA</td>\n",
       "      <td>2020-07-20</td>\n",
       "      <td>Daily ICU occupancy per million</td>\n",
       "      <td>1.425</td>\n",
       "    </tr>\n",
       "    <tr>\n",
       "      <th>6</th>\n",
       "      <td>Algeria</td>\n",
       "      <td>DZA</td>\n",
       "      <td>2020-07-21</td>\n",
       "      <td>Daily ICU occupancy</td>\n",
       "      <td>56.000</td>\n",
       "    </tr>\n",
       "    <tr>\n",
       "      <th>7</th>\n",
       "      <td>Algeria</td>\n",
       "      <td>DZA</td>\n",
       "      <td>2020-07-21</td>\n",
       "      <td>Daily ICU occupancy per million</td>\n",
       "      <td>1.247</td>\n",
       "    </tr>\n",
       "    <tr>\n",
       "      <th>8</th>\n",
       "      <td>Algeria</td>\n",
       "      <td>DZA</td>\n",
       "      <td>2020-07-22</td>\n",
       "      <td>Daily ICU occupancy</td>\n",
       "      <td>51.000</td>\n",
       "    </tr>\n",
       "    <tr>\n",
       "      <th>9</th>\n",
       "      <td>Algeria</td>\n",
       "      <td>DZA</td>\n",
       "      <td>2020-07-22</td>\n",
       "      <td>Daily ICU occupancy per million</td>\n",
       "      <td>1.136</td>\n",
       "    </tr>\n",
       "  </tbody>\n",
       "</table>\n",
       "</div>"
      ],
      "text/plain": [
       "    entity iso_code        date                        indicator   value\n",
       "0  Algeria      DZA  2020-07-17              Daily ICU occupancy  62.000\n",
       "1  Algeria      DZA  2020-07-17  Daily ICU occupancy per million   1.381\n",
       "2  Algeria      DZA  2020-07-18              Daily ICU occupancy  67.000\n",
       "3  Algeria      DZA  2020-07-18  Daily ICU occupancy per million   1.492\n",
       "4  Algeria      DZA  2020-07-20              Daily ICU occupancy  64.000\n",
       "5  Algeria      DZA  2020-07-20  Daily ICU occupancy per million   1.425\n",
       "6  Algeria      DZA  2020-07-21              Daily ICU occupancy  56.000\n",
       "7  Algeria      DZA  2020-07-21  Daily ICU occupancy per million   1.247\n",
       "8  Algeria      DZA  2020-07-22              Daily ICU occupancy  51.000\n",
       "9  Algeria      DZA  2020-07-22  Daily ICU occupancy per million   1.136"
      ]
     },
     "execution_count": 11,
     "metadata": {},
     "output_type": "execute_result"
    }
   ],
   "source": [
    "data = pd.read_csv(\"/Volumes/DataScienceHD/data/covid-hospitalizations.csv\")\n",
    "data.head(10)"
   ]
  },
  {
   "cell_type": "code",
   "execution_count": 8,
   "id": "dfb1d28e-e5b5-40a8-a6eb-ba6b973cd890",
   "metadata": {},
   "outputs": [],
   "source": [
    "data = update_column_names(data)"
   ]
  },
  {
   "cell_type": "code",
   "execution_count": 12,
   "id": "7bead3c9-ccb0-4f14-8b06-a0ed5b7f17f5",
   "metadata": {},
   "outputs": [
    {
     "data": {
      "text/html": [
       "<div>\n",
       "<style scoped>\n",
       "    .dataframe tbody tr th:only-of-type {\n",
       "        vertical-align: middle;\n",
       "    }\n",
       "\n",
       "    .dataframe tbody tr th {\n",
       "        vertical-align: top;\n",
       "    }\n",
       "\n",
       "    .dataframe thead th {\n",
       "        text-align: right;\n",
       "    }\n",
       "</style>\n",
       "<table border=\"1\" class=\"dataframe\">\n",
       "  <thead>\n",
       "    <tr style=\"text-align: right;\">\n",
       "      <th></th>\n",
       "      <th>entity</th>\n",
       "      <th>iso_code</th>\n",
       "      <th>date</th>\n",
       "      <th>indicator</th>\n",
       "      <th>value</th>\n",
       "    </tr>\n",
       "  </thead>\n",
       "  <tbody>\n",
       "    <tr>\n",
       "      <th>0</th>\n",
       "      <td>Algeria</td>\n",
       "      <td>DZA</td>\n",
       "      <td>2020-07-17</td>\n",
       "      <td>Daily ICU occupancy</td>\n",
       "      <td>62.000</td>\n",
       "    </tr>\n",
       "    <tr>\n",
       "      <th>1</th>\n",
       "      <td>Algeria</td>\n",
       "      <td>DZA</td>\n",
       "      <td>2020-07-17</td>\n",
       "      <td>Daily ICU occupancy per million</td>\n",
       "      <td>1.381</td>\n",
       "    </tr>\n",
       "  </tbody>\n",
       "</table>\n",
       "</div>"
      ],
      "text/plain": [
       "    entity iso_code        date                        indicator   value\n",
       "0  Algeria      DZA  2020-07-17              Daily ICU occupancy  62.000\n",
       "1  Algeria      DZA  2020-07-17  Daily ICU occupancy per million   1.381"
      ]
     },
     "execution_count": 12,
     "metadata": {},
     "output_type": "execute_result"
    }
   ],
   "source": [
    "data.head(2)"
   ]
  },
  {
   "cell_type": "code",
   "execution_count": null,
   "id": "1989b178-ae4b-44b4-8f85-c369c413e72c",
   "metadata": {},
   "outputs": [],
   "source": []
  }
 ],
 "metadata": {
  "kernelspec": {
   "display_name": "Python 3 (ipykernel)",
   "language": "python",
   "name": "python3"
  },
  "language_info": {
   "codemirror_mode": {
    "name": "ipython",
    "version": 3
   },
   "file_extension": ".py",
   "mimetype": "text/x-python",
   "name": "python",
   "nbconvert_exporter": "python",
   "pygments_lexer": "ipython3",
   "version": "3.10.6"
  }
 },
 "nbformat": 4,
 "nbformat_minor": 5
}
