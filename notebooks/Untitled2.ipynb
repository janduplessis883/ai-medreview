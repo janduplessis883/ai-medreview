{
 "cells": [
  {
   "cell_type": "code",
   "execution_count": 1,
   "id": "b147c76c-d356-4ff1-a17b-58be2f0f6bd9",
   "metadata": {},
   "outputs": [],
   "source": [
    "# Importing default Libraries\n",
    "import matplotlib.pyplot as plt\n",
    "import pandas as pd\n",
    "import numpy as np\n",
    "import seaborn as sns\n",
    "import warnings\n",
    "import datetime\n",
    "import os\n",
    "from tqdm import tqdm\n",
    "\n",
    "pd.options.display.max_rows = 1000\n",
    "pd.options.display.max_columns = 1000\n",
    "\n",
    "# Hi-resolution Plots and Matplotlib inline\n",
    "%config InlineBackend.figure_format = 'retina'\n",
    "%matplotlib inline\n",
    "\n",
    "# Set the maximum number of rows and columns to be displayed\n",
    "warnings.filterwarnings(\"ignore\")\n",
    "\n",
    "# \"magic commands\" to enable autoreload of your imported packages\n",
    "%load_ext autoreload\n",
    "%autoreload 2"
   ]
  },
  {
   "cell_type": "code",
   "execution_count": 2,
   "id": "a0891a48-416c-466c-8d0b-95f700d50c20",
   "metadata": {},
   "outputs": [
    {
     "name": "stderr",
     "output_type": "stream",
     "text": [
      "Device set to use mps:0\n"
     ]
    }
   ],
   "source": [
    "# Use a pipeline as a high-level helper\n",
    "from transformers import pipeline\n",
    "\n",
    "pipe = pipeline(\"question-answering\", model=\"deepset/roberta-base-squad2\")"
   ]
  },
  {
   "cell_type": "code",
   "execution_count": 12,
   "id": "2bc669c1-5c14-471a-97e6-0dd02f34beb5",
   "metadata": {},
   "outputs": [],
   "source": [
    "input = {\n",
    "\t\"question\": \"Is there anything that would have made your experience better?\",\n",
    "\t\"context\": \"Quicker actions when the patients request to get their tests done\"\n",
    "}"
   ]
  },
  {
   "cell_type": "code",
   "execution_count": 13,
   "id": "2bce1342-3a48-4f0a-abe2-08945099696a",
   "metadata": {},
   "outputs": [],
   "source": [
    "result = pipe(input)"
   ]
  },
  {
   "cell_type": "code",
   "execution_count": 14,
   "id": "e0c2907b-f2f6-41e2-95da-d717d08c5401",
   "metadata": {},
   "outputs": [
    {
     "data": {
      "text/plain": [
       "{'score': 0.0453360490500927,\n",
       " 'start': 0,\n",
       " 'end': 15,\n",
       " 'answer': 'Quicker actions'}"
      ]
     },
     "execution_count": 14,
     "metadata": {},
     "output_type": "execute_result"
    }
   ],
   "source": [
    "result"
   ]
  },
  {
   "cell_type": "code",
   "execution_count": null,
   "id": "99a44085-1741-405f-b925-32cac7df2bad",
   "metadata": {},
   "outputs": [],
   "source": []
  }
 ],
 "metadata": {
  "kernelspec": {
   "display_name": "Python 3 (ipykernel)",
   "language": "python",
   "name": "python3"
  },
  "language_info": {
   "codemirror_mode": {
    "name": "ipython",
    "version": 3
   },
   "file_extension": ".py",
   "mimetype": "text/x-python",
   "name": "python",
   "nbconvert_exporter": "python",
   "pygments_lexer": "ipython3",
   "version": "3.10.6"
  }
 },
 "nbformat": 4,
 "nbformat_minor": 5
}
