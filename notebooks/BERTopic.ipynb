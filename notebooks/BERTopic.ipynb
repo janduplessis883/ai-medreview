{
 "cells": [
  {
   "cell_type": "markdown",
   "id": "03582267-a18d-4bba-b9b4-ef60881040f2",
   "metadata": {},
   "source": [
    "# BERTopic **FFT**"
   ]
  },
  {
   "cell_type": "code",
   "execution_count": 2,
   "id": "d76894ab-9290-46da-9152-b6b160a4e94b",
   "metadata": {},
   "outputs": [
    {
     "data": {
      "application/vnd.jupyter.widget-view+json": {
       "model_id": "b8fc383111464e3ca24f831fe9e01cbb",
       "version_major": 2,
       "version_minor": 0
      },
      "text/plain": [
       "topics.json:   0%|          | 0.00/365k [00:00<?, ?B/s]"
      ]
     },
     "metadata": {},
     "output_type": "display_data"
    },
    {
     "data": {
      "application/vnd.jupyter.widget-view+json": {
       "model_id": "43674f341d3f4fceaaaf916612490b12",
       "version_major": 2,
       "version_minor": 0
      },
      "text/plain": [
       "config.json:   0%|          | 0.00/363 [00:00<?, ?B/s]"
      ]
     },
     "metadata": {},
     "output_type": "display_data"
    },
    {
     "data": {
      "application/vnd.jupyter.widget-view+json": {
       "model_id": "e8718a73bb5d4ed388335020b406c188",
       "version_major": 2,
       "version_minor": 0
      },
      "text/plain": [
       "topic_embeddings.safetensors:   0%|          | 0.00/461k [00:00<?, ?B/s]"
      ]
     },
     "metadata": {},
     "output_type": "display_data"
    },
    {
     "data": {
      "application/vnd.jupyter.widget-view+json": {
       "model_id": "fdc4c9960c634766adee27a523a9fae0",
       "version_major": 2,
       "version_minor": 0
      },
      "text/plain": [
       "README.md:   0%|          | 0.00/10.7k [00:00<?, ?B/s]"
      ]
     },
     "metadata": {},
     "output_type": "display_data"
    }
   ],
   "source": [
    "from bertopic import BERTopic\n",
    "topic_model = BERTopic.load(\"janduplessis886/clinical_text_classification\")"
   ]
  },
  {
   "cell_type": "code",
   "execution_count": 3,
   "id": "006efdd6-5662-4b3b-8b5b-4cd95eee7fd1",
   "metadata": {},
   "outputs": [
    {
     "data": {
      "application/vnd.jupyter.widget-view+json": {
       "model_id": "b000409d83ad4d01ac35105620d64b58",
       "version_major": 2,
       "version_minor": 0
      },
      "text/plain": [
       "Batches:   0%|          | 0/1 [00:00<?, ?it/s]"
      ]
     },
     "metadata": {},
     "output_type": "display_data"
    },
    {
     "name": "stderr",
     "output_type": "stream",
     "text": [
      "2024-02-28 17:06:25,317 - BERTopic - Predicting topic assignments through cosine similarity of topic and document embeddings.\n"
     ]
    },
    {
     "ename": "TypeError",
     "evalue": "unhashable type: 'numpy.ndarray'",
     "output_type": "error",
     "traceback": [
      "\u001b[0;31m---------------------------------------------------------------------------\u001b[0m",
      "\u001b[0;31mTypeError\u001b[0m                                 Traceback (most recent call last)",
      "Cell \u001b[0;32mIn[3], line 2\u001b[0m\n\u001b[1;32m      1\u001b[0m topic, prob \u001b[38;5;241m=\u001b[39m topic_model\u001b[38;5;241m.\u001b[39mtransform(\u001b[38;5;124m\"\u001b[39m\u001b[38;5;124mThis is an incredible movie!\u001b[39m\u001b[38;5;124m\"\u001b[39m)\n\u001b[0;32m----> 2\u001b[0m \u001b[43mtopic_model\u001b[49m\u001b[38;5;241;43m.\u001b[39;49m\u001b[43mtopic_labels_\u001b[49m\u001b[43m[\u001b[49m\u001b[43mtopic\u001b[49m\u001b[43m]\u001b[49m\n",
      "\u001b[0;31mTypeError\u001b[0m: unhashable type: 'numpy.ndarray'"
     ]
    }
   ],
   "source": [
    "topic, prob = topic_model.transform(\"This is an incredible movie!\")\n",
    "topic_model.topic_labels_[topic]"
   ]
  },
  {
   "cell_type": "code",
   "execution_count": null,
   "id": "74f3d6f3-2f54-4405-8426-af4cff22b735",
   "metadata": {},
   "outputs": [],
   "source": [
    "topic, prob = topic_model.transform(\"This is an incredible movie!\")\n",
    "topic_model.topic_labels_[topic]"
   ]
  },
  {
   "cell_type": "code",
   "execution_count": null,
   "id": "b2a40ad3-c05e-4cfd-bfd5-5a4f910efac2",
   "metadata": {},
   "outputs": [],
   "source": []
  },
  {
   "cell_type": "code",
   "execution_count": null,
   "id": "8a2f1e06-53e4-41fe-8deb-a8551830dac1",
   "metadata": {},
   "outputs": [],
   "source": []
  },
  {
   "cell_type": "code",
   "execution_count": null,
   "id": "c5b9b54a-1503-4975-aef6-137866179110",
   "metadata": {},
   "outputs": [],
   "source": []
  },
  {
   "cell_type": "code",
   "execution_count": null,
   "id": "71ecf771-dfa0-4900-bbc3-32e3e3a2ae9f",
   "metadata": {},
   "outputs": [],
   "source": []
  },
  {
   "cell_type": "code",
   "execution_count": null,
   "id": "eb886833-4a9c-4973-9200-7f4b2394a179",
   "metadata": {},
   "outputs": [],
   "source": []
  },
  {
   "cell_type": "code",
   "execution_count": null,
   "id": "f02ca748-bfb0-461f-a759-ee31ed512984",
   "metadata": {},
   "outputs": [],
   "source": []
  },
  {
   "cell_type": "code",
   "execution_count": null,
   "id": "e31924d2-9c08-4be1-9958-0d4c06299683",
   "metadata": {},
   "outputs": [],
   "source": []
  }
 ],
 "metadata": {
  "kernelspec": {
   "display_name": "Python 3 (ipykernel)",
   "language": "python",
   "name": "python3"
  },
  "language_info": {
   "codemirror_mode": {
    "name": "ipython",
    "version": 3
   },
   "file_extension": ".py",
   "mimetype": "text/x-python",
   "name": "python",
   "nbconvert_exporter": "python",
   "pygments_lexer": "ipython3",
   "version": "3.10.6"
  }
 },
 "nbformat": 4,
 "nbformat_minor": 5
}
