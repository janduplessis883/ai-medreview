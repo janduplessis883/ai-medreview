{
 "cells": [
  {
   "cell_type": "code",
   "execution_count": 34,
   "id": "29765abb-b3f7-4693-bbf2-ed52f617bc09",
   "metadata": {},
   "outputs": [],
   "source": [
    "\n",
    "\n",
    "import pandas as pd \n",
    "import seaborn as sns\n",
    "\n",
    "%load_ext autoreload\n",
    "%autoreload 2\n",
    "%config InlineBackend.figure_formats='retina'"
   ]
  },
  {
   "cell_type": "code",
   "execution_count": 35,
   "id": "9ca549d5-892a-464f-974d-3c4ed147ff78",
   "metadata": {},
   "outputs": [
    {
     "data": {
      "text/plain": [
       "'/Users/janduplessis/code/janduplessis883/ai-medreview/notebooks'"
      ]
     },
     "execution_count": 35,
     "metadata": {},
     "output_type": "execute_result"
    }
   ],
   "source": [
    "%pwd"
   ]
  },
  {
   "cell_type": "code",
   "execution_count": 36,
   "id": "976a4122-ab2e-45f7-b486-ac79991f7c43",
   "metadata": {},
   "outputs": [
    {
     "data": {
      "text/html": [
       "<div>\n",
       "<style scoped>\n",
       "    .dataframe tbody tr th:only-of-type {\n",
       "        vertical-align: middle;\n",
       "    }\n",
       "\n",
       "    .dataframe tbody tr th {\n",
       "        vertical-align: top;\n",
       "    }\n",
       "\n",
       "    .dataframe thead th {\n",
       "        text-align: right;\n",
       "    }\n",
       "</style>\n",
       "<table border=\"1\" class=\"dataframe\">\n",
       "  <thead>\n",
       "    <tr style=\"text-align: right;\">\n",
       "      <th></th>\n",
       "      <th>time</th>\n",
       "      <th>rating</th>\n",
       "      <th>free_text</th>\n",
       "      <th>do_better</th>\n",
       "      <th>surgery</th>\n",
       "      <th>pcn</th>\n",
       "      <th>sentiment_free_text</th>\n",
       "      <th>sentiment_score_free_text</th>\n",
       "      <th>sentiment_do_better</th>\n",
       "      <th>sentiment_score_do_better</th>\n",
       "      <th>free_text_len</th>\n",
       "      <th>do_better_len</th>\n",
       "      <th>rating_score</th>\n",
       "      <th>feedback_labels</th>\n",
       "      <th>improvement_labels</th>\n",
       "      <th>submission_id</th>\n",
       "      <th>respondent-id</th>\n",
       "    </tr>\n",
       "  </thead>\n",
       "  <tbody>\n",
       "    <tr>\n",
       "      <th>0</th>\n",
       "      <td>2023-07-13 15:28:00</td>\n",
       "      <td>Extremely likely</td>\n",
       "      <td>Very friendly caring staff treated me with res...</td>\n",
       "      <td>NaN</td>\n",
       "      <td>Earls-Court-Surgery</td>\n",
       "      <td>Brompton-Health-PCN</td>\n",
       "      <td>positive</td>\n",
       "      <td>0.892932</td>\n",
       "      <td>neutral</td>\n",
       "      <td>0.000000</td>\n",
       "      <td>13.0</td>\n",
       "      <td>3</td>\n",
       "      <td>5.0</td>\n",
       "      <td>Staff Empathy and Compassion</td>\n",
       "      <td>NaN</td>\n",
       "      <td>NaN</td>\n",
       "      <td>NaN</td>\n",
       "    </tr>\n",
       "    <tr>\n",
       "      <th>1</th>\n",
       "      <td>2023-07-13 15:29:00</td>\n",
       "      <td>Extremely likely</td>\n",
       "      <td>NaN</td>\n",
       "      <td>NaN</td>\n",
       "      <td>Earls-Court-Surgery</td>\n",
       "      <td>Brompton-Health-PCN</td>\n",
       "      <td>neutral</td>\n",
       "      <td>0.000000</td>\n",
       "      <td>neutral</td>\n",
       "      <td>0.000000</td>\n",
       "      <td>4.0</td>\n",
       "      <td>0</td>\n",
       "      <td>5.0</td>\n",
       "      <td>NaN</td>\n",
       "      <td>NaN</td>\n",
       "      <td>NaN</td>\n",
       "      <td>NaN</td>\n",
       "    </tr>\n",
       "    <tr>\n",
       "      <th>2</th>\n",
       "      <td>2023-07-13 15:29:00</td>\n",
       "      <td>Extremely likely</td>\n",
       "      <td>The doctor was very understanding and very kno...</td>\n",
       "      <td>NaN</td>\n",
       "      <td>Earls-Court-Surgery</td>\n",
       "      <td>Brompton-Health-PCN</td>\n",
       "      <td>positive</td>\n",
       "      <td>0.969176</td>\n",
       "      <td>neutral</td>\n",
       "      <td>0.000000</td>\n",
       "      <td>8.0</td>\n",
       "      <td>5</td>\n",
       "      <td>5.0</td>\n",
       "      <td>Patient Respect</td>\n",
       "      <td>NaN</td>\n",
       "      <td>NaN</td>\n",
       "      <td>NaN</td>\n",
       "    </tr>\n",
       "    <tr>\n",
       "      <th>3</th>\n",
       "      <td>2023-07-13 15:30:00</td>\n",
       "      <td>Extremely likely</td>\n",
       "      <td>NaN</td>\n",
       "      <td>NaN</td>\n",
       "      <td>Earls-Court-Surgery</td>\n",
       "      <td>Brompton-Health-PCN</td>\n",
       "      <td>neutral</td>\n",
       "      <td>0.000000</td>\n",
       "      <td>neutral</td>\n",
       "      <td>0.000000</td>\n",
       "      <td>5.0</td>\n",
       "      <td>5</td>\n",
       "      <td>5.0</td>\n",
       "      <td>NaN</td>\n",
       "      <td>NaN</td>\n",
       "      <td>NaN</td>\n",
       "      <td>NaN</td>\n",
       "    </tr>\n",
       "    <tr>\n",
       "      <th>4</th>\n",
       "      <td>2023-07-13 15:31:00</td>\n",
       "      <td>Extremely likely</td>\n",
       "      <td>I was spoken to politely on the phone and a te...</td>\n",
       "      <td>No I was happy with everything</td>\n",
       "      <td>Earls-Court-Surgery</td>\n",
       "      <td>Brompton-Health-PCN</td>\n",
       "      <td>neutral</td>\n",
       "      <td>0.756987</td>\n",
       "      <td>positive</td>\n",
       "      <td>0.837488</td>\n",
       "      <td>44.0</td>\n",
       "      <td>6</td>\n",
       "      <td>5.0</td>\n",
       "      <td>Follow-up and Continuity of Care</td>\n",
       "      <td>Patient Respect</td>\n",
       "      <td>NaN</td>\n",
       "      <td>NaN</td>\n",
       "    </tr>\n",
       "  </tbody>\n",
       "</table>\n",
       "</div>"
      ],
      "text/plain": [
       "                 time            rating  \\\n",
       "0 2023-07-13 15:28:00  Extremely likely   \n",
       "1 2023-07-13 15:29:00  Extremely likely   \n",
       "2 2023-07-13 15:29:00  Extremely likely   \n",
       "3 2023-07-13 15:30:00  Extremely likely   \n",
       "4 2023-07-13 15:31:00  Extremely likely   \n",
       "\n",
       "                                           free_text  \\\n",
       "0  Very friendly caring staff treated me with res...   \n",
       "1                                                NaN   \n",
       "2  The doctor was very understanding and very kno...   \n",
       "3                                                NaN   \n",
       "4  I was spoken to politely on the phone and a te...   \n",
       "\n",
       "                        do_better              surgery                  pcn  \\\n",
       "0                             NaN  Earls-Court-Surgery  Brompton-Health-PCN   \n",
       "1                             NaN  Earls-Court-Surgery  Brompton-Health-PCN   \n",
       "2                             NaN  Earls-Court-Surgery  Brompton-Health-PCN   \n",
       "3                             NaN  Earls-Court-Surgery  Brompton-Health-PCN   \n",
       "4  No I was happy with everything  Earls-Court-Surgery  Brompton-Health-PCN   \n",
       "\n",
       "  sentiment_free_text  sentiment_score_free_text sentiment_do_better  \\\n",
       "0            positive                   0.892932             neutral   \n",
       "1             neutral                   0.000000             neutral   \n",
       "2            positive                   0.969176             neutral   \n",
       "3             neutral                   0.000000             neutral   \n",
       "4             neutral                   0.756987            positive   \n",
       "\n",
       "   sentiment_score_do_better  free_text_len  do_better_len  rating_score  \\\n",
       "0                   0.000000           13.0              3           5.0   \n",
       "1                   0.000000            4.0              0           5.0   \n",
       "2                   0.000000            8.0              5           5.0   \n",
       "3                   0.000000            5.0              5           5.0   \n",
       "4                   0.837488           44.0              6           5.0   \n",
       "\n",
       "                    feedback_labels improvement_labels submission_id  \\\n",
       "0      Staff Empathy and Compassion                NaN           NaN   \n",
       "1                               NaN                NaN           NaN   \n",
       "2                   Patient Respect                NaN           NaN   \n",
       "3                               NaN                NaN           NaN   \n",
       "4  Follow-up and Continuity of Care    Patient Respect           NaN   \n",
       "\n",
       "  respondent-id  \n",
       "0           NaN  \n",
       "1           NaN  \n",
       "2           NaN  \n",
       "3           NaN  \n",
       "4           NaN  "
      ]
     },
     "execution_count": 36,
     "metadata": {},
     "output_type": "execute_result"
    }
   ],
   "source": [
    "data = pd.read_parquet('../ai_medreview/data/data.parquet').fillna(float('nan'))\n",
    "data.head()\n"
   ]
  },
  {
   "cell_type": "code",
   "execution_count": 39,
   "id": "c3e7fdcb-63ee-4dd0-a5c6-3a28483a97db",
   "metadata": {},
   "outputs": [],
   "source": [
    "f = data['feedback_labels'].value_counts()"
   ]
  },
  {
   "cell_type": "code",
   "execution_count": 41,
   "id": "b3267b7f-491e-4b51-a086-3f1f303b5933",
   "metadata": {},
   "outputs": [
    {
     "data": {
      "text/plain": [
       "<Axes: >"
      ]
     },
     "execution_count": 41,
     "metadata": {},
     "output_type": "execute_result"
    },
    {
     "ename": "NameError",
     "evalue": "name '_fetch_figure_metadata' is not defined",
     "output_type": "error",
     "traceback": [
      "\u001b[0;31m---------------------------------------------------------------------------\u001b[0m",
      "\u001b[0;31mNameError\u001b[0m                                 Traceback (most recent call last)",
      "File \u001b[0;32m~/.pyenv/versions/3.10.6/envs/ai-medreview/lib/python3.10/site-packages/matplotlib_inline/backend_inline.py:92\u001b[0m, in \u001b[0;36mshow\u001b[0;34m(close, block)\u001b[0m\n\u001b[1;32m     88\u001b[0m \u001b[38;5;28;01mtry\u001b[39;00m:\n\u001b[1;32m     89\u001b[0m     \u001b[38;5;28;01mfor\u001b[39;00m figure_manager \u001b[38;5;129;01min\u001b[39;00m Gcf\u001b[38;5;241m.\u001b[39mget_all_fig_managers():\n\u001b[1;32m     90\u001b[0m         display(\n\u001b[1;32m     91\u001b[0m             figure_manager\u001b[38;5;241m.\u001b[39mcanvas\u001b[38;5;241m.\u001b[39mfigure,\n\u001b[0;32m---> 92\u001b[0m             metadata\u001b[38;5;241m=\u001b[39m\u001b[43m_fetch_figure_metadata\u001b[49m(figure_manager\u001b[38;5;241m.\u001b[39mcanvas\u001b[38;5;241m.\u001b[39mfigure)\n\u001b[1;32m     93\u001b[0m         )\n\u001b[1;32m     94\u001b[0m \u001b[38;5;28;01mfinally\u001b[39;00m:\n\u001b[1;32m     95\u001b[0m     show\u001b[38;5;241m.\u001b[39m_to_draw \u001b[38;5;241m=\u001b[39m []\n",
      "\u001b[0;31mNameError\u001b[0m: name '_fetch_figure_metadata' is not defined"
     ]
    }
   ],
   "source": [
    "f.plot()"
   ]
  },
  {
   "cell_type": "code",
   "execution_count": 42,
   "id": "64f84669-bad8-4970-bea9-0c47dac7acbe",
   "metadata": {},
   "outputs": [
    {
     "name": "stdout",
     "output_type": "stream",
     "text": [
      "Requirement already satisfied: streamlit in /Users/janduplessis/.pyenv/versions/3.10.6/envs/ai-medreview/lib/python3.10/site-packages (1.32.0)\n",
      "Requirement already satisfied: altair<6,>=4.0 in /Users/janduplessis/.pyenv/versions/3.10.6/envs/ai-medreview/lib/python3.10/site-packages (from streamlit) (5.3.0)\n",
      "Requirement already satisfied: blinker<2,>=1.0.0 in /Users/janduplessis/.pyenv/versions/3.10.6/envs/ai-medreview/lib/python3.10/site-packages (from streamlit) (1.7.0)\n",
      "Requirement already satisfied: cachetools<6,>=4.0 in /Users/janduplessis/.pyenv/versions/3.10.6/envs/ai-medreview/lib/python3.10/site-packages (from streamlit) (5.3.3)\n",
      "Requirement already satisfied: click<9,>=7.0 in /Users/janduplessis/.pyenv/versions/3.10.6/envs/ai-medreview/lib/python3.10/site-packages (from streamlit) (8.1.7)\n",
      "Requirement already satisfied: numpy<2,>=1.19.3 in /Users/janduplessis/.pyenv/versions/3.10.6/envs/ai-medreview/lib/python3.10/site-packages (from streamlit) (1.23.5)\n",
      "Requirement already satisfied: packaging<24,>=16.8 in /Users/janduplessis/.pyenv/versions/3.10.6/envs/ai-medreview/lib/python3.10/site-packages (from streamlit) (23.2)\n",
      "Requirement already satisfied: pandas<3,>=1.3.0 in /Users/janduplessis/.pyenv/versions/3.10.6/envs/ai-medreview/lib/python3.10/site-packages (from streamlit) (1.5.3)\n",
      "Requirement already satisfied: pillow<11,>=7.1.0 in /Users/janduplessis/.pyenv/versions/3.10.6/envs/ai-medreview/lib/python3.10/site-packages (from streamlit) (10.3.0)\n",
      "Requirement already satisfied: protobuf<5,>=3.20 in /Users/janduplessis/.pyenv/versions/3.10.6/envs/ai-medreview/lib/python3.10/site-packages (from streamlit) (4.25.3)\n",
      "Requirement already satisfied: pyarrow>=7.0 in /Users/janduplessis/.pyenv/versions/3.10.6/envs/ai-medreview/lib/python3.10/site-packages (from streamlit) (15.0.2)\n",
      "Requirement already satisfied: requests<3,>=2.27 in /Users/janduplessis/.pyenv/versions/3.10.6/envs/ai-medreview/lib/python3.10/site-packages (from streamlit) (2.31.0)\n",
      "Requirement already satisfied: rich<14,>=10.14.0 in /Users/janduplessis/.pyenv/versions/3.10.6/envs/ai-medreview/lib/python3.10/site-packages (from streamlit) (13.7.1)\n",
      "Requirement already satisfied: tenacity<9,>=8.1.0 in /Users/janduplessis/.pyenv/versions/3.10.6/envs/ai-medreview/lib/python3.10/site-packages (from streamlit) (8.2.3)\n",
      "Requirement already satisfied: toml<2,>=0.10.1 in /Users/janduplessis/.pyenv/versions/3.10.6/envs/ai-medreview/lib/python3.10/site-packages (from streamlit) (0.10.2)\n",
      "Requirement already satisfied: typing-extensions<5,>=4.3.0 in /Users/janduplessis/.pyenv/versions/3.10.6/envs/ai-medreview/lib/python3.10/site-packages (from streamlit) (4.11.0)\n",
      "Requirement already satisfied: gitpython!=3.1.19,<4,>=3.0.7 in /Users/janduplessis/.pyenv/versions/3.10.6/envs/ai-medreview/lib/python3.10/site-packages (from streamlit) (3.1.43)\n",
      "Requirement already satisfied: pydeck<1,>=0.8.0b4 in /Users/janduplessis/.pyenv/versions/3.10.6/envs/ai-medreview/lib/python3.10/site-packages (from streamlit) (0.8.1b0)\n",
      "Requirement already satisfied: tornado<7,>=6.0.3 in /Users/janduplessis/.pyenv/versions/3.10.6/envs/ai-medreview/lib/python3.10/site-packages (from streamlit) (6.4)\n",
      "Requirement already satisfied: jinja2 in /Users/janduplessis/.pyenv/versions/3.10.6/envs/ai-medreview/lib/python3.10/site-packages (from altair<6,>=4.0->streamlit) (3.1.3)\n",
      "Requirement already satisfied: jsonschema>=3.0 in /Users/janduplessis/.pyenv/versions/3.10.6/envs/ai-medreview/lib/python3.10/site-packages (from altair<6,>=4.0->streamlit) (4.21.1)\n",
      "Requirement already satisfied: toolz in /Users/janduplessis/.pyenv/versions/3.10.6/envs/ai-medreview/lib/python3.10/site-packages (from altair<6,>=4.0->streamlit) (0.12.1)\n",
      "Requirement already satisfied: gitdb<5,>=4.0.1 in /Users/janduplessis/.pyenv/versions/3.10.6/envs/ai-medreview/lib/python3.10/site-packages (from gitpython!=3.1.19,<4,>=3.0.7->streamlit) (4.0.11)\n",
      "Requirement already satisfied: python-dateutil>=2.8.1 in /Users/janduplessis/.pyenv/versions/3.10.6/envs/ai-medreview/lib/python3.10/site-packages (from pandas<3,>=1.3.0->streamlit) (2.9.0.post0)\n",
      "Requirement already satisfied: pytz>=2020.1 in /Users/janduplessis/.pyenv/versions/3.10.6/envs/ai-medreview/lib/python3.10/site-packages (from pandas<3,>=1.3.0->streamlit) (2024.1)\n",
      "Requirement already satisfied: charset-normalizer<4,>=2 in /Users/janduplessis/.pyenv/versions/3.10.6/envs/ai-medreview/lib/python3.10/site-packages (from requests<3,>=2.27->streamlit) (3.3.2)\n",
      "Requirement already satisfied: idna<4,>=2.5 in /Users/janduplessis/.pyenv/versions/3.10.6/envs/ai-medreview/lib/python3.10/site-packages (from requests<3,>=2.27->streamlit) (3.6)\n",
      "Requirement already satisfied: urllib3<3,>=1.21.1 in /Users/janduplessis/.pyenv/versions/3.10.6/envs/ai-medreview/lib/python3.10/site-packages (from requests<3,>=2.27->streamlit) (2.2.1)\n",
      "Requirement already satisfied: certifi>=2017.4.17 in /Users/janduplessis/.pyenv/versions/3.10.6/envs/ai-medreview/lib/python3.10/site-packages (from requests<3,>=2.27->streamlit) (2024.2.2)\n",
      "Requirement already satisfied: markdown-it-py>=2.2.0 in /Users/janduplessis/.pyenv/versions/3.10.6/envs/ai-medreview/lib/python3.10/site-packages (from rich<14,>=10.14.0->streamlit) (3.0.0)\n",
      "Requirement already satisfied: pygments<3.0.0,>=2.13.0 in /Users/janduplessis/.pyenv/versions/3.10.6/envs/ai-medreview/lib/python3.10/site-packages (from rich<14,>=10.14.0->streamlit) (2.17.2)\n",
      "Requirement already satisfied: smmap<6,>=3.0.1 in /Users/janduplessis/.pyenv/versions/3.10.6/envs/ai-medreview/lib/python3.10/site-packages (from gitdb<5,>=4.0.1->gitpython!=3.1.19,<4,>=3.0.7->streamlit) (5.0.1)\n",
      "Requirement already satisfied: MarkupSafe>=2.0 in /Users/janduplessis/.pyenv/versions/3.10.6/envs/ai-medreview/lib/python3.10/site-packages (from jinja2->altair<6,>=4.0->streamlit) (2.1.5)\n",
      "Requirement already satisfied: attrs>=22.2.0 in /Users/janduplessis/.pyenv/versions/3.10.6/envs/ai-medreview/lib/python3.10/site-packages (from jsonschema>=3.0->altair<6,>=4.0->streamlit) (23.2.0)\n",
      "Requirement already satisfied: jsonschema-specifications>=2023.03.6 in /Users/janduplessis/.pyenv/versions/3.10.6/envs/ai-medreview/lib/python3.10/site-packages (from jsonschema>=3.0->altair<6,>=4.0->streamlit) (2023.12.1)\n",
      "Requirement already satisfied: referencing>=0.28.4 in /Users/janduplessis/.pyenv/versions/3.10.6/envs/ai-medreview/lib/python3.10/site-packages (from jsonschema>=3.0->altair<6,>=4.0->streamlit) (0.34.0)\n",
      "Requirement already satisfied: rpds-py>=0.7.1 in /Users/janduplessis/.pyenv/versions/3.10.6/envs/ai-medreview/lib/python3.10/site-packages (from jsonschema>=3.0->altair<6,>=4.0->streamlit) (0.18.0)\n",
      "Requirement already satisfied: mdurl~=0.1 in /Users/janduplessis/.pyenv/versions/3.10.6/envs/ai-medreview/lib/python3.10/site-packages (from markdown-it-py>=2.2.0->rich<14,>=10.14.0->streamlit) (0.1.2)\n",
      "Requirement already satisfied: six>=1.5 in /Users/janduplessis/.pyenv/versions/3.10.6/envs/ai-medreview/lib/python3.10/site-packages (from python-dateutil>=2.8.1->pandas<3,>=1.3.0->streamlit) (1.16.0)\n"
     ]
    }
   ],
   "source": [
    "!pip install streamlit"
   ]
  },
  {
   "cell_type": "code",
   "execution_count": 43,
   "id": "d5d2f416-61a2-4ce7-a35d-9920225b4382",
   "metadata": {},
   "outputs": [],
   "source": [
    "import streamlit as st\n",
    "\n",
    "def main():\n",
    "    st.title(\"User Input App\")\n",
    "\n",
    "    # Get user input\n",
    "    user_input = st.text_input(\"Enter some text:\")\n",
    "\n",
    "    # Print the user input\n",
    "    if st.button(\"Print\"):\n",
    "        st.write(f\"You entered: {user_input}\")"
   ]
  },
  {
   "cell_type": "code",
   "execution_count": 44,
   "id": "2de9d3ea-88e0-49be-94ec-d387e6457397",
   "metadata": {},
   "outputs": [
    {
     "name": "stderr",
     "output_type": "stream",
     "text": [
      "2024-04-15 07:03:48.235 \n",
      "  \u001b[33m\u001b[1mWarning:\u001b[0m to view this Streamlit app on a browser, run it with the following\n",
      "  command:\n",
      "\n",
      "    streamlit run /Users/janduplessis/.pyenv/versions/3.10.6/envs/ai-medreview/lib/python3.10/site-packages/ipykernel_launcher.py [ARGUMENTS]\n"
     ]
    }
   ],
   "source": [
    "main()"
   ]
  },
  {
   "cell_type": "code",
   "execution_count": null,
   "id": "449d3266-33ba-419a-9540-7b4eb5440d84",
   "metadata": {},
   "outputs": [],
   "source": []
  },
  {
   "cell_type": "code",
   "execution_count": null,
   "id": "dab22374-a4c5-4130-af7e-31bafd4ac0b0",
   "metadata": {},
   "outputs": [],
   "source": []
  }
 ],
 "metadata": {
  "kernelspec": {
   "display_name": "Python 3 (ipykernel)",
   "language": "python",
   "name": "python3"
  },
  "language_info": {
   "codemirror_mode": {
    "name": "ipython",
    "version": 3
   },
   "file_extension": ".py",
   "mimetype": "text/x-python",
   "name": "python",
   "nbconvert_exporter": "python",
   "pygments_lexer": "ipython3",
   "version": "3.10.6"
  },
  "widgets": {
   "application/vnd.jupyter.widget-state+json": {
    "state": {},
    "version_major": 2,
    "version_minor": 0
   }
  }
 },
 "nbformat": 4,
 "nbformat_minor": 5
}
