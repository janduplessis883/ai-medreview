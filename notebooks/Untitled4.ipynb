{
 "cells": [
  {
   "cell_type": "code",
   "execution_count": 1,
   "id": "e866064c-20a0-4b81-87a5-f2f0eadd8a34",
   "metadata": {
    "execution": {
     "iopub.execute_input": "2025-06-22T20:43:28.166964Z",
     "iopub.status.busy": "2025-06-22T20:43:28.166324Z",
     "iopub.status.idle": "2025-06-22T20:43:28.439053Z",
     "shell.execute_reply": "2025-06-22T20:43:28.438760Z",
     "shell.execute_reply.started": "2025-06-22T20:43:28.166918Z"
    }
   },
   "outputs": [],
   "source": [
    "import pandas as pd"
   ]
  },
  {
   "cell_type": "code",
   "execution_count": 2,
   "id": "17eeaabb-7f84-4518-9490-b712fadab452",
   "metadata": {
    "execution": {
     "iopub.execute_input": "2025-06-22T20:43:28.729258Z",
     "iopub.status.busy": "2025-06-22T20:43:28.728534Z",
     "iopub.status.idle": "2025-06-22T20:43:28.812658Z",
     "shell.execute_reply": "2025-06-22T20:43:28.812396Z",
     "shell.execute_reply.started": "2025-06-22T20:43:28.729224Z"
    }
   },
   "outputs": [
    {
     "data": {
      "text/html": [
       "<div>\n",
       "<style scoped>\n",
       "    .dataframe tbody tr th:only-of-type {\n",
       "        vertical-align: middle;\n",
       "    }\n",
       "\n",
       "    .dataframe tbody tr th {\n",
       "        vertical-align: top;\n",
       "    }\n",
       "\n",
       "    .dataframe thead th {\n",
       "        text-align: right;\n",
       "    }\n",
       "</style>\n",
       "<table border=\"1\" class=\"dataframe\">\n",
       "  <thead>\n",
       "    <tr style=\"text-align: right;\">\n",
       "      <th></th>\n",
       "      <th>time</th>\n",
       "      <th>rating</th>\n",
       "      <th>free_text</th>\n",
       "      <th>do_better</th>\n",
       "      <th>surgery</th>\n",
       "      <th>pcn</th>\n",
       "      <th>sentiment_free_text</th>\n",
       "      <th>sentiment_score_free_text</th>\n",
       "      <th>sentiment_do_better</th>\n",
       "      <th>sentiment_score_do_better</th>\n",
       "      <th>...</th>\n",
       "      <th>emotion_free_text</th>\n",
       "      <th>emotion_do_better</th>\n",
       "      <th>free_text_PER</th>\n",
       "      <th>do_better_PER</th>\n",
       "      <th>campaing_id</th>\n",
       "      <th>logic</th>\n",
       "      <th>campaign_rating</th>\n",
       "      <th>campaign_freetext</th>\n",
       "      <th>free_text_qa</th>\n",
       "      <th>do_better_qa</th>\n",
       "    </tr>\n",
       "  </thead>\n",
       "  <tbody>\n",
       "    <tr>\n",
       "      <th>0</th>\n",
       "      <td>2024-01-01 10:51:00</td>\n",
       "      <td>Very good</td>\n",
       "      <td>NaN</td>\n",
       "      <td>NaN</td>\n",
       "      <td>Scarsdale-Medical-Centre</td>\n",
       "      <td>Brompton-Health-PCN</td>\n",
       "      <td>neutral</td>\n",
       "      <td>0.000000</td>\n",
       "      <td>neutral</td>\n",
       "      <td>0.0</td>\n",
       "      <td>...</td>\n",
       "      <td>NaN</td>\n",
       "      <td>NaN</td>\n",
       "      <td>NaN</td>\n",
       "      <td>NaN</td>\n",
       "      <td>NaN</td>\n",
       "      <td>NaN</td>\n",
       "      <td>NaN</td>\n",
       "      <td>NaN</td>\n",
       "      <td>NaN</td>\n",
       "      <td>NaN</td>\n",
       "    </tr>\n",
       "    <tr>\n",
       "      <th>1</th>\n",
       "      <td>2024-01-01 15:20:00</td>\n",
       "      <td>Very good</td>\n",
       "      <td>NaN</td>\n",
       "      <td>NaN</td>\n",
       "      <td>Scarsdale-Medical-Centre</td>\n",
       "      <td>Brompton-Health-PCN</td>\n",
       "      <td>neutral</td>\n",
       "      <td>0.000000</td>\n",
       "      <td>neutral</td>\n",
       "      <td>0.0</td>\n",
       "      <td>...</td>\n",
       "      <td>NaN</td>\n",
       "      <td>NaN</td>\n",
       "      <td>NaN</td>\n",
       "      <td>NaN</td>\n",
       "      <td>NaN</td>\n",
       "      <td>NaN</td>\n",
       "      <td>NaN</td>\n",
       "      <td>NaN</td>\n",
       "      <td>NaN</td>\n",
       "      <td>NaN</td>\n",
       "    </tr>\n",
       "    <tr>\n",
       "      <th>2</th>\n",
       "      <td>2024-01-01 17:47:00</td>\n",
       "      <td>Very good</td>\n",
       "      <td>NaN</td>\n",
       "      <td>NaN</td>\n",
       "      <td>Earls-Court-Surgery</td>\n",
       "      <td>Brompton-Health-PCN</td>\n",
       "      <td>neutral</td>\n",
       "      <td>0.000000</td>\n",
       "      <td>neutral</td>\n",
       "      <td>0.0</td>\n",
       "      <td>...</td>\n",
       "      <td>NaN</td>\n",
       "      <td>NaN</td>\n",
       "      <td>NaN</td>\n",
       "      <td>NaN</td>\n",
       "      <td>NaN</td>\n",
       "      <td>NaN</td>\n",
       "      <td>NaN</td>\n",
       "      <td>NaN</td>\n",
       "      <td>NaN</td>\n",
       "      <td>NaN</td>\n",
       "    </tr>\n",
       "    <tr>\n",
       "      <th>3</th>\n",
       "      <td>2024-01-02 07:58:00</td>\n",
       "      <td>Good</td>\n",
       "      <td>PERSON was amazing kind and helpful The recept...</td>\n",
       "      <td>NaN</td>\n",
       "      <td>Scarsdale-Medical-Centre</td>\n",
       "      <td>Brompton-Health-PCN</td>\n",
       "      <td>positive</td>\n",
       "      <td>0.937987</td>\n",
       "      <td>neutral</td>\n",
       "      <td>0.0</td>\n",
       "      <td>...</td>\n",
       "      <td>admiration</td>\n",
       "      <td>NaN</td>\n",
       "      <td>['Denise']</td>\n",
       "      <td>NaN</td>\n",
       "      <td>NaN</td>\n",
       "      <td>NaN</td>\n",
       "      <td>NaN</td>\n",
       "      <td>NaN</td>\n",
       "      <td>{'score': 0.034968744963407516, 'start': 36, '...</td>\n",
       "      <td>NaN</td>\n",
       "    </tr>\n",
       "    <tr>\n",
       "      <th>4</th>\n",
       "      <td>2024-01-02 10:44:00</td>\n",
       "      <td>Very good</td>\n",
       "      <td>NaN</td>\n",
       "      <td>NaN</td>\n",
       "      <td>Scarsdale-Medical-Centre</td>\n",
       "      <td>Brompton-Health-PCN</td>\n",
       "      <td>neutral</td>\n",
       "      <td>0.000000</td>\n",
       "      <td>neutral</td>\n",
       "      <td>0.0</td>\n",
       "      <td>...</td>\n",
       "      <td>NaN</td>\n",
       "      <td>NaN</td>\n",
       "      <td>NaN</td>\n",
       "      <td>NaN</td>\n",
       "      <td>NaN</td>\n",
       "      <td>NaN</td>\n",
       "      <td>NaN</td>\n",
       "      <td>NaN</td>\n",
       "      <td>NaN</td>\n",
       "      <td>NaN</td>\n",
       "    </tr>\n",
       "  </tbody>\n",
       "</table>\n",
       "<p>5 rows × 27 columns</p>\n",
       "</div>"
      ],
      "text/plain": [
       "                  time     rating  \\\n",
       "0  2024-01-01 10:51:00  Very good   \n",
       "1  2024-01-01 15:20:00  Very good   \n",
       "2  2024-01-01 17:47:00  Very good   \n",
       "3  2024-01-02 07:58:00       Good   \n",
       "4  2024-01-02 10:44:00  Very good   \n",
       "\n",
       "                                           free_text do_better  \\\n",
       "0                                                NaN       NaN   \n",
       "1                                                NaN       NaN   \n",
       "2                                                NaN       NaN   \n",
       "3  PERSON was amazing kind and helpful The recept...       NaN   \n",
       "4                                                NaN       NaN   \n",
       "\n",
       "                    surgery                  pcn sentiment_free_text  \\\n",
       "0  Scarsdale-Medical-Centre  Brompton-Health-PCN             neutral   \n",
       "1  Scarsdale-Medical-Centre  Brompton-Health-PCN             neutral   \n",
       "2       Earls-Court-Surgery  Brompton-Health-PCN             neutral   \n",
       "3  Scarsdale-Medical-Centre  Brompton-Health-PCN            positive   \n",
       "4  Scarsdale-Medical-Centre  Brompton-Health-PCN             neutral   \n",
       "\n",
       "   sentiment_score_free_text sentiment_do_better  sentiment_score_do_better  \\\n",
       "0                   0.000000             neutral                        0.0   \n",
       "1                   0.000000             neutral                        0.0   \n",
       "2                   0.000000             neutral                        0.0   \n",
       "3                   0.937987             neutral                        0.0   \n",
       "4                   0.000000             neutral                        0.0   \n",
       "\n",
       "   ...  emotion_free_text  emotion_do_better  free_text_PER do_better_PER  \\\n",
       "0  ...                NaN                NaN            NaN           NaN   \n",
       "1  ...                NaN                NaN            NaN           NaN   \n",
       "2  ...                NaN                NaN            NaN           NaN   \n",
       "3  ...         admiration                NaN     ['Denise']           NaN   \n",
       "4  ...                NaN                NaN            NaN           NaN   \n",
       "\n",
       "  campaing_id logic campaign_rating campaign_freetext  \\\n",
       "0         NaN   NaN             NaN               NaN   \n",
       "1         NaN   NaN             NaN               NaN   \n",
       "2         NaN   NaN             NaN               NaN   \n",
       "3         NaN   NaN             NaN               NaN   \n",
       "4         NaN   NaN             NaN               NaN   \n",
       "\n",
       "                                        free_text_qa do_better_qa  \n",
       "0                                                NaN          NaN  \n",
       "1                                                NaN          NaN  \n",
       "2                                                NaN          NaN  \n",
       "3  {'score': 0.034968744963407516, 'start': 36, '...          NaN  \n",
       "4                                                NaN          NaN  \n",
       "\n",
       "[5 rows x 27 columns]"
      ]
     },
     "execution_count": 2,
     "metadata": {},
     "output_type": "execute_result"
    }
   ],
   "source": [
    "data = pd.read_csv('/Users/janduplessis/code/janduplessis883/ai-medreview/ai_medreview/data/data.csv')\n",
    "data.head()"
   ]
  },
  {
   "cell_type": "code",
   "execution_count": 11,
   "id": "2b233a0e-e5e7-4100-9a1d-82323ac13f2e",
   "metadata": {
    "execution": {
     "iopub.execute_input": "2025-06-22T20:47:09.451609Z",
     "iopub.status.busy": "2025-06-22T20:47:09.450990Z",
     "iopub.status.idle": "2025-06-22T20:47:09.463075Z",
     "shell.execute_reply": "2025-06-22T20:47:09.462317Z",
     "shell.execute_reply.started": "2025-06-22T20:47:09.451562Z"
    }
   },
   "outputs": [
    {
     "data": {
      "text/plain": [
       "rating\n",
       "Very good                11335\n",
       "Good                      2918\n",
       "Neither good nor poor      579\n",
       "Poor                       416\n",
       "Very poor                  296\n",
       "Don't know                  88\n",
       "Name: count, dtype: int64"
      ]
     },
     "execution_count": 11,
     "metadata": {},
     "output_type": "execute_result"
    }
   ],
   "source": [
    "data['rating'].value_counts()"
   ]
  },
  {
   "cell_type": "code",
   "execution_count": 10,
   "id": "0296dfa3-955a-4a80-b0d2-d093f9170039",
   "metadata": {
    "execution": {
     "iopub.execute_input": "2025-06-22T20:47:06.902886Z",
     "iopub.status.busy": "2025-06-22T20:47:06.902355Z",
     "iopub.status.idle": "2025-06-22T20:47:06.911236Z",
     "shell.execute_reply": "2025-06-22T20:47:06.910399Z",
     "shell.execute_reply.started": "2025-06-22T20:47:06.902851Z"
    }
   },
   "outputs": [],
   "source": [
    "data['rating'] = data['rating'].replace('Unlikely', 'Poor')"
   ]
  },
  {
   "cell_type": "code",
   "execution_count": 12,
   "id": "0a2349c7-2508-4fd0-9530-8a78b05c452f",
   "metadata": {
    "execution": {
     "iopub.execute_input": "2025-06-22T20:48:32.801917Z",
     "iopub.status.busy": "2025-06-22T20:48:32.801471Z",
     "iopub.status.idle": "2025-06-22T20:48:32.917846Z",
     "shell.execute_reply": "2025-06-22T20:48:32.917530Z",
     "shell.execute_reply.started": "2025-06-22T20:48:32.801886Z"
    }
   },
   "outputs": [],
   "source": [
    "data.to_csv('/Users/janduplessis/code/janduplessis883/ai-medreview/ai_medreview/data/data.csv', index=False)"
   ]
  },
  {
   "cell_type": "code",
   "execution_count": 15,
   "id": "0b759e4e-2904-4198-9a37-6f6be133e055",
   "metadata": {
    "execution": {
     "iopub.execute_input": "2025-06-22T20:53:03.145508Z",
     "iopub.status.busy": "2025-06-22T20:53:03.144917Z",
     "iopub.status.idle": "2025-06-22T20:53:03.153130Z",
     "shell.execute_reply": "2025-06-22T20:53:03.152425Z",
     "shell.execute_reply.started": "2025-06-22T20:53:03.145444Z"
    }
   },
   "outputs": [
    {
     "data": {
      "text/plain": [
       "surgery\n",
       "Health-Partners-at-Violet-Melchett    2959\n",
       "Stanhope-Mews-Surgery                 2745\n",
       "The-Chelsea-Practice                  2337\n",
       "Scarsdale-Medical-Centre              2282\n",
       "Earls-Court-Surgery                   1367\n",
       "Emperors-Gate-Health-Centre           1186\n",
       "Kensington-Park-Medical-Centre        1006\n",
       "The-Abingdon-Medical-Practice          741\n",
       "Earls-Court-Medical-Centre             624\n",
       "Royal-Hospital-Chelsea                 108\n",
       "The-Good-Practice                      102\n",
       "Knightsbridge-Medical-Centre            66\n",
       "Demo-Surgery-1                          51\n",
       "Demo-Surgery-2                          18\n",
       "Waterfield-House-Surgery                16\n",
       "Oakwood-Surgery-1                        1\n",
       "Slaidburn-Country-Practice               1\n",
       "The-Castle-Medical-Group                 1\n",
       "Sabden-and-Whalley-Medical-Group         1\n",
       "Fitznells-Manor-Surgery                  1\n",
       "Cox-Lane-Surgery                         1\n",
       "Oakengates                               1\n",
       "Malinslee                                1\n",
       "Madeley                                  1\n",
       "Leegomery                                1\n",
       "Lawley                                   1\n",
       "Hadley                                   1\n",
       "The-Old-Cottage-Hospital                 1\n",
       "Stoneleigh-Medical-Centre                1\n",
       "Pendleside-Medical-Practice              1\n",
       "Name: count, dtype: int64"
      ]
     },
     "execution_count": 15,
     "metadata": {},
     "output_type": "execute_result"
    }
   ],
   "source": [
    "data['surgery'].value_counts()"
   ]
  },
  {
   "cell_type": "code",
   "execution_count": null,
   "id": "68871469-27e4-44ae-a15f-98f8745ea3f7",
   "metadata": {},
   "outputs": [],
   "source": []
  },
  {
   "cell_type": "code",
   "execution_count": null,
   "id": "a3690f0c-87ff-4587-aad0-ec4f0bae7bd3",
   "metadata": {},
   "outputs": [],
   "source": []
  },
  {
   "cell_type": "code",
   "execution_count": null,
   "id": "62bea4c1-0f63-45d6-a2b0-f1eeac0ab7bb",
   "metadata": {},
   "outputs": [],
   "source": []
  },
  {
   "cell_type": "code",
   "execution_count": null,
   "id": "4383a39d-fcae-485a-98c3-efcb718b62bf",
   "metadata": {},
   "outputs": [],
   "source": []
  },
  {
   "cell_type": "code",
   "execution_count": null,
   "id": "d23a7478-e401-4891-920b-e55606a0dd22",
   "metadata": {},
   "outputs": [],
   "source": []
  },
  {
   "cell_type": "code",
   "execution_count": null,
   "id": "415732cd-e74d-4431-8ad2-5bf156063e98",
   "metadata": {},
   "outputs": [],
   "source": []
  }
 ],
 "metadata": {
  "kernelspec": {
   "display_name": "Python 3 (ipykernel)",
   "language": "python",
   "name": "python3"
  },
  "language_info": {
   "codemirror_mode": {
    "name": "ipython",
    "version": 3
   },
   "file_extension": ".py",
   "mimetype": "text/x-python",
   "name": "python",
   "nbconvert_exporter": "python",
   "pygments_lexer": "ipython3",
   "version": "3.12.9"
  }
 },
 "nbformat": 4,
 "nbformat_minor": 5
}
