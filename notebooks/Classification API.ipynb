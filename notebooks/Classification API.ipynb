{
 "cells": [
  {
   "cell_type": "markdown",
   "id": "0c9578f1-791a-4c45-9e2d-11bc6398a521",
   "metadata": {},
   "source": [
    "# **Clasification** API"
   ]
  },
  {
   "cell_type": "code",
   "execution_count": 7,
   "id": "72079d2e-c251-4c3a-b808-db05e8942f89",
   "metadata": {
    "execution": {
     "iopub.execute_input": "2025-04-21T21:23:36.221399Z",
     "iopub.status.busy": "2025-04-21T21:23:36.220788Z",
     "iopub.status.idle": "2025-04-21T21:23:37.656813Z",
     "shell.execute_reply": "2025-04-21T21:23:37.656429Z",
     "shell.execute_reply.started": "2025-04-21T21:23:36.221356Z"
    }
   },
   "outputs": [
    {
     "name": "stdout",
     "output_type": "stream",
     "text": [
      "API Response:\n",
      "{\n",
      "    \"category\": \"Mental Health Support\",\n",
      "    \"confidence_score\": 0.5760705471038818\n",
      "}\n",
      "\n",
      "Classification Result:\n",
      "Category: Mental Health Support\n",
      "Confidence Score: 0.5760705471038818\n"
     ]
    }
   ],
   "source": [
    "import requests\n",
    "import json\n",
    "\n",
    "# API endpoint\n",
    "API_ENDPOINT = \"http://0.0.0.0:8000/classify\"  # Replace with your API endpoint if different\n",
    "\n",
    "# Example review text\n",
    "review_text = \"It would be great if you could provide mental health support\"\n",
    "\n",
    "# Create the request payload\n",
    "payload = {\n",
    "    \"review_text\": review_text\n",
    "}\n",
    "\n",
    "# Convert payload to JSON\n",
    "json_payload = json.dumps(payload)\n",
    "\n",
    "# Set headers for JSON content\n",
    "headers = {\n",
    "    \"Content-Type\": \"application/json\"\n",
    "}\n",
    "\n",
    "try:\n",
    "    # Send the POST request\n",
    "    response = requests.post(API_ENDPOINT, data=json_payload, headers=headers)\n",
    "\n",
    "    # Check the response status code\n",
    "    response.raise_for_status()  # Raise HTTPError for bad responses (4xx or 5xx)\n",
    "\n",
    "    # Parse the JSON response\n",
    "    response_data = response.json()\n",
    "\n",
    "    # Print the results\n",
    "    print(\"API Response:\")\n",
    "    print(json.dumps(response_data, indent=4)) #Pretty print the json\n",
    "\n",
    "    category = response_data.get(\"category\")\n",
    "    confidence_score = response_data.get(\"confidence_score\")\n",
    "\n",
    "    if category is not None and confidence_score is not None:\n",
    "        print(\"\\nClassification Result:\")\n",
    "        print(f\"Category: {category}\")\n",
    "        print(f\"Confidence Score: {confidence_score}\")\n",
    "    else:\n",
    "        print(\"Category or confidence_score not found in response.\")\n",
    "\n",
    "\n",
    "except requests.exceptions.RequestException as e:\n",
    "    print(f\"Error during request: {e}\")\n",
    "except json.JSONDecodeError as e:\n",
    "    print(f\"Error decoding JSON response: {e}\")\n",
    "    print(f\"Response text: {response.text}\")  # Print the raw response text for debugging\n",
    "except Exception as e:\n",
    "    print(f\"An unexpected error occurred: {e}\")\n",
    "\n",
    "\n"
   ]
  },
  {
   "cell_type": "code",
   "execution_count": null,
   "id": "7cd9d89d-feed-4d96-ba8d-a61c34b49efd",
   "metadata": {},
   "outputs": [],
   "source": []
  }
 ],
 "metadata": {
  "kernelspec": {
   "display_name": "Python 3 (ipykernel)",
   "language": "python",
   "name": "python3"
  },
  "language_info": {
   "codemirror_mode": {
    "name": "ipython",
    "version": 3
   },
   "file_extension": ".py",
   "mimetype": "text/x-python",
   "name": "python",
   "nbconvert_exporter": "python",
   "pygments_lexer": "ipython3",
   "version": "3.12.9"
  }
 },
 "nbformat": 4,
 "nbformat_minor": 5
}
